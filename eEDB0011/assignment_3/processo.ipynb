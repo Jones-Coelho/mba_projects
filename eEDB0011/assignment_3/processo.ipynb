{
 "cells": [
  {
   "cell_type": "code",
   "execution_count": 1,
   "metadata": {},
   "outputs": [],
   "source": [
    "from app.src.sor import job_ingestao_bancos_sor\n",
    "from app.src.sor import job_ingestao_reclamacoes_sor\n",
    "from app.src.sor import job_ingestao_empregados_sor\n",
    "from app.src.sot import job_ingestao_bancos_sot\n",
    "from app.src.sot import job_ingestao_reclamacoes_sot\n",
    "from app.src.sot import job_ingestao_empregados_sot\n",
    "from app.src.spec import job_ingestao_01_spec\n",
    "from app.src.spec import job_ingestao_02_spec\n",
    "from app.utils.utils import read_csv_files_recursively\n",
    "from plotly import express as px\n",
    "from datetime import date"
   ]
  },
  {
   "cell_type": "code",
   "execution_count": 2,
   "metadata": {},
   "outputs": [],
   "source": [
    "DATA_REFERENCIA: date = date(2023,8,14)"
   ]
  },
  {
   "cell_type": "code",
   "execution_count": 4,
   "metadata": {},
   "outputs": [
    {
     "name": "stdout",
     "output_type": "stream",
     "text": [
      "Listing files with size > 0 bytes in ./app/data/input/Bancos/:\n",
      "CPU times: user 62.6 ms, sys: 63.7 ms, total: 126 ms\n",
      "Wall time: 404 ms\n"
     ]
    },
    {
     "data": {
      "text/html": [
       "<div><style>\n",
       ".dataframe > thead > tr > th,\n",
       ".dataframe > tbody > tr > td {\n",
       "  text-align: right;\n",
       "}\n",
       "</style>\n",
       "<small>shape: (5, 3)</small><table border=\"1\" class=\"dataframe\"><thead><tr><th>Segmento</th><th>CNPJ</th><th>Nome</th></tr><tr><td>str</td><td>i64</td><td>str</td></tr></thead><tbody><tr><td>&quot;S1&quot;</td><td>0</td><td>&quot;BANCO DO BRASI…</td></tr><tr><td>&quot;S1&quot;</td><td>60746948</td><td>&quot;BRADESCO - PRU…</td></tr><tr><td>&quot;S1&quot;</td><td>30306294</td><td>&quot;BTG PACTUAL - …</td></tr><tr><td>&quot;S1&quot;</td><td>360305</td><td>&quot;CAIXA ECONOMIC…</td></tr><tr><td>&quot;S1&quot;</td><td>60872504</td><td>&quot;ITAU - PRUDENC…</td></tr></tbody></table></div>"
      ],
      "text/plain": [
       "shape: (5, 3)\n",
       "┌──────────┬──────────┬───────────────────────────────────┐\n",
       "│ Segmento ┆ CNPJ     ┆ Nome                              │\n",
       "│ ---      ┆ ---      ┆ ---                               │\n",
       "│ str      ┆ i64      ┆ str                               │\n",
       "╞══════════╪══════════╪═══════════════════════════════════╡\n",
       "│ S1       ┆ 0        ┆ BANCO DO BRASIL - PRUDENCIAL      │\n",
       "│ S1       ┆ 60746948 ┆ BRADESCO - PRUDENCIAL             │\n",
       "│ S1       ┆ 30306294 ┆ BTG PACTUAL - PRUDENCIAL          │\n",
       "│ S1       ┆ 360305   ┆ CAIXA ECONOMICA FEDERAL - PRUDEN… │\n",
       "│ S1       ┆ 60872504 ┆ ITAU - PRUDENCIAL                 │\n",
       "└──────────┴──────────┴───────────────────────────────────┘"
      ]
     },
     "execution_count": 4,
     "metadata": {},
     "output_type": "execute_result"
    }
   ],
   "source": [
    "%%time\n",
    "# Processa dados raw Bancos para gerar camada Source of Record (SoR)\n",
    "job: job_ingestao_bancos_sor.ETLJob = job_ingestao_bancos_sor.ETLJob(input_path=\"./app/data/input/Bancos/\",\n",
    "                                                                     output_path=\"./app/data/output/sor/tb_bancos/\",\n",
    "                                                                     dat_ref=DATA_REFERENCIA)\n",
    "job.run()\n",
    "read_csv_files_recursively(\"./app/data/output/sor/tb_bancos/\", has_header=True).head()"
   ]
  },
  {
   "cell_type": "code",
   "execution_count": 5,
   "metadata": {},
   "outputs": [
    {
     "name": "stdout",
     "output_type": "stream",
     "text": [
      "Listing files with size > 0 bytes in ./app/data/output/sor/tb_bancos/anomesdia=20230814/:\n",
      "CPU times: user 110 ms, sys: 3.67 ms, total: 113 ms\n",
      "Wall time: 153 ms\n"
     ]
    },
    {
     "data": {
      "text/html": [
       "<div><style>\n",
       ".dataframe > thead > tr > th,\n",
       ".dataframe > tbody > tr > td {\n",
       "  text-align: right;\n",
       "}\n",
       "</style>\n",
       "<small>shape: (5, 4)</small><table border=\"1\" class=\"dataframe\"><thead><tr><th>nom_segto_instituicao</th><th>num_cnpj_instituicao</th><th>nom_instituicao</th><th>dat_hor_psst</th></tr><tr><td>str</td><td>i64</td><td>str</td><td>f64</td></tr></thead><tbody><tr><td>&quot;S1&quot;</td><td>0</td><td>&quot;BANCO DO BRASI…</td><td>1.6922e9</td></tr><tr><td>&quot;S1&quot;</td><td>60746948</td><td>&quot;BRADESCO&quot;</td><td>1.6922e9</td></tr><tr><td>&quot;S1&quot;</td><td>30306294</td><td>&quot;BTG PACTUAL&quot;</td><td>1.6922e9</td></tr><tr><td>&quot;S1&quot;</td><td>360305</td><td>&quot;CAIXA ECONOMIC…</td><td>1.6922e9</td></tr><tr><td>&quot;S1&quot;</td><td>60872504</td><td>&quot;ITAU&quot;</td><td>1.6922e9</td></tr></tbody></table></div>"
      ],
      "text/plain": [
       "shape: (5, 4)\n",
       "┌───────────────────────┬──────────────────────┬─────────────────────────┬──────────────┐\n",
       "│ nom_segto_instituicao ┆ num_cnpj_instituicao ┆ nom_instituicao         ┆ dat_hor_psst │\n",
       "│ ---                   ┆ ---                  ┆ ---                     ┆ ---          │\n",
       "│ str                   ┆ i64                  ┆ str                     ┆ f64          │\n",
       "╞═══════════════════════╪══════════════════════╪═════════════════════════╪══════════════╡\n",
       "│ S1                    ┆ 0                    ┆ BANCO DO BRASIL         ┆ 1.6922e9     │\n",
       "│ S1                    ┆ 60746948             ┆ BRADESCO                ┆ 1.6922e9     │\n",
       "│ S1                    ┆ 30306294             ┆ BTG PACTUAL             ┆ 1.6922e9     │\n",
       "│ S1                    ┆ 360305               ┆ CAIXA ECONOMICA FEDERAL ┆ 1.6922e9     │\n",
       "│ S1                    ┆ 60872504             ┆ ITAU                    ┆ 1.6922e9     │\n",
       "└───────────────────────┴──────────────────────┴─────────────────────────┴──────────────┘"
      ]
     },
     "execution_count": 5,
     "metadata": {},
     "output_type": "execute_result"
    }
   ],
   "source": [
    "%%time\n",
    "# Processa dados da SoR, realiza tratamento e salva na camada SoT dos bancos\n",
    "job: job_ingestao_bancos_sot.ETLJob = job_ingestao_bancos_sot.ETLJob(input_path=f\"./app/data/output/sor/tb_bancos/anomesdia={DATA_REFERENCIA.strftime('%Y%m%d')}/\",\n",
    "                                                                     output_path=\"./app/data/output/sot/tb_bancos/\",\n",
    "                                                                     dat_ref=DATA_REFERENCIA)\n",
    "job.run()\n",
    "read_csv_files_recursively(\"./app/data/output/sot/tb_bancos/\", has_header=True).head()"
   ]
  },
  {
   "cell_type": "code",
   "execution_count": 6,
   "metadata": {},
   "outputs": [
    {
     "name": "stdout",
     "output_type": "stream",
     "text": [
      "Listing files with size > 0 bytes in ./app/data/input/Reclamacoes/:\n",
      "CPU times: user 83.8 ms, sys: 26.4 ms, total: 110 ms\n",
      "Wall time: 284 ms\n"
     ]
    },
    {
     "data": {
      "text/html": [
       "<div><style>\n",
       ".dataframe > thead > tr > th,\n",
       ".dataframe > tbody > tr > td {\n",
       "  text-align: right;\n",
       "}\n",
       "</style>\n",
       "<small>shape: (5, 15)</small><table border=\"1\" class=\"dataframe\"><thead><tr><th>Ano</th><th>Trimestre</th><th>Categoria</th><th>Tipo</th><th>CNPJ IF</th><th>Instituição financeira</th><th>Índice</th><th>Quantidade de reclamações reguladas procedentes</th><th>Quantidade de reclamações reguladas - outras</th><th>Quantidade de reclamações não reguladas</th><th>Quantidade total de reclamações</th><th>Quantidade total de clientes  CCS e SCR</th><th>Quantidade de clientes  CCS</th><th>Quantidade de clientes  SCR</th><th></th></tr><tr><td>i64</td><td>str</td><td>str</td><td>str</td><td>str</td><td>str</td><td>str</td><td>i64</td><td>i64</td><td>i64</td><td>i64</td><td>str</td><td>str</td><td>str</td><td>str</td></tr></thead><tbody><tr><td>2022</td><td>&quot;3º&quot;</td><td>&quot;Demais Bancos,…</td><td>&quot;Conglomerado&quot;</td><td>&quot; &quot;</td><td>&quot;ABC-BRASIL (co…</td><td>&quot; &quot;</td><td>4</td><td>7</td><td>3</td><td>14</td><td>&quot;50720&quot;</td><td>&quot;47485&quot;</td><td>&quot;6932&quot;</td><td>null</td></tr><tr><td>2022</td><td>&quot;3º&quot;</td><td>&quot;Demais Bancos,…</td><td>&quot;Conglomerado&quot;</td><td>&quot; &quot;</td><td>&quot;ABN AMRO (cong…</td><td>&quot; &quot;</td><td>0</td><td>0</td><td>1</td><td>1</td><td>&quot;0&quot;</td><td>&quot;0&quot;</td><td>&quot; &quot;</td><td>null</td></tr><tr><td>2022</td><td>&quot;3º&quot;</td><td>&quot;Demais Bancos,…</td><td>&quot;Banco/financei…</td><td>&quot;13140088&quot;</td><td>&quot;ACESSO SOLUÇÕE…</td><td>&quot;14,70&quot;</td><td>75</td><td>128</td><td>9</td><td>212</td><td>&quot;5098671&quot;</td><td>&quot;5098661&quot;</td><td>&quot;19396&quot;</td><td>null</td></tr><tr><td>2022</td><td>&quot;3º&quot;</td><td>&quot;Demais Bancos,…</td><td>&quot;Conglomerado&quot;</td><td>&quot; &quot;</td><td>&quot;AGIBANK (congl…</td><td>&quot;96,00&quot;</td><td>182</td><td>262</td><td>95</td><td>539</td><td>&quot;1895683&quot;</td><td>&quot;1540134&quot;</td><td>&quot;1176067&quot;</td><td>null</td></tr><tr><td>2022</td><td>&quot;3º&quot;</td><td>&quot;Demais Bancos,…</td><td>&quot;Banco/financei…</td><td>&quot;36321990&quot;</td><td>&quot;AGORACRED S/A …</td><td>&quot; &quot;</td><td>4</td><td>4</td><td>2</td><td>10</td><td>&quot;534795&quot;</td><td>&quot;133&quot;</td><td>&quot;534662&quot;</td><td>null</td></tr></tbody></table></div>"
      ],
      "text/plain": [
       "shape: (5, 15)\n",
       "┌──────┬───────────┬─────────────┬─────────────┬───┬─────────────┬─────────────┬────────────┬──────┐\n",
       "│ Ano  ┆ Trimestre ┆ Categoria   ┆ Tipo        ┆ … ┆ Quantidade  ┆ Quantidade  ┆ Quantidade ┆      │\n",
       "│ ---  ┆ ---       ┆ ---         ┆ ---         ┆   ┆ total de    ┆ de clientes ┆ de         ┆ ---  │\n",
       "│ i64  ┆ str       ┆ str         ┆ str         ┆   ┆ clientes    ┆  CCS        ┆ clientes   ┆ str  │\n",
       "│      ┆           ┆             ┆             ┆   ┆ C…          ┆ ---         ┆ SCR        ┆      │\n",
       "│      ┆           ┆             ┆             ┆   ┆ ---         ┆ str         ┆ ---        ┆      │\n",
       "│      ┆           ┆             ┆             ┆   ┆ str         ┆             ┆ str        ┆      │\n",
       "╞══════╪═══════════╪═════════════╪═════════════╪═══╪═════════════╪═════════════╪════════════╪══════╡\n",
       "│ 2022 ┆ 3º        ┆ Demais      ┆ Conglomerad ┆ … ┆ 50720       ┆ 47485       ┆ 6932       ┆ null │\n",
       "│      ┆           ┆ Bancos,     ┆ o           ┆   ┆             ┆             ┆            ┆      │\n",
       "│      ┆           ┆ Financeiras ┆             ┆   ┆             ┆             ┆            ┆      │\n",
       "│      ┆           ┆ e Ins…      ┆             ┆   ┆             ┆             ┆            ┆      │\n",
       "│ 2022 ┆ 3º        ┆ Demais      ┆ Conglomerad ┆ … ┆ 0           ┆ 0           ┆            ┆ null │\n",
       "│      ┆           ┆ Bancos,     ┆ o           ┆   ┆             ┆             ┆            ┆      │\n",
       "│      ┆           ┆ Financeiras ┆             ┆   ┆             ┆             ┆            ┆      │\n",
       "│      ┆           ┆ e Ins…      ┆             ┆   ┆             ┆             ┆            ┆      │\n",
       "│ 2022 ┆ 3º        ┆ Demais      ┆ Banco/finan ┆ … ┆ 5098671     ┆ 5098661     ┆ 19396      ┆ null │\n",
       "│      ┆           ┆ Bancos,     ┆ ceira       ┆   ┆             ┆             ┆            ┆      │\n",
       "│      ┆           ┆ Financeiras ┆             ┆   ┆             ┆             ┆            ┆      │\n",
       "│      ┆           ┆ e Ins…      ┆             ┆   ┆             ┆             ┆            ┆      │\n",
       "│ 2022 ┆ 3º        ┆ Demais      ┆ Conglomerad ┆ … ┆ 1895683     ┆ 1540134     ┆ 1176067    ┆ null │\n",
       "│      ┆           ┆ Bancos,     ┆ o           ┆   ┆             ┆             ┆            ┆      │\n",
       "│      ┆           ┆ Financeiras ┆             ┆   ┆             ┆             ┆            ┆      │\n",
       "│      ┆           ┆ e Ins…      ┆             ┆   ┆             ┆             ┆            ┆      │\n",
       "│ 2022 ┆ 3º        ┆ Demais      ┆ Banco/finan ┆ … ┆ 534795      ┆ 133         ┆ 534662     ┆ null │\n",
       "│      ┆           ┆ Bancos,     ┆ ceira       ┆   ┆             ┆             ┆            ┆      │\n",
       "│      ┆           ┆ Financeiras ┆             ┆   ┆             ┆             ┆            ┆      │\n",
       "│      ┆           ┆ e Ins…      ┆             ┆   ┆             ┆             ┆            ┆      │\n",
       "└──────┴───────────┴─────────────┴─────────────┴───┴─────────────┴─────────────┴────────────┴──────┘"
      ]
     },
     "execution_count": 6,
     "metadata": {},
     "output_type": "execute_result"
    }
   ],
   "source": [
    "%%time\n",
    "# Processa dados raw Reclamacoes para gerar camada Source of Record (SoR)\n",
    "job: job_ingestao_reclamacoes_sor.ETLJob = job_ingestao_reclamacoes_sor.ETLJob(input_path=\"./app/data/input/Reclamacoes/\",\n",
    "                                                                               output_path=\"./app/data/output/sor/tb_reclamacoes/\")\n",
    "job.run()\n",
    "read_csv_files_recursively(\"./app/data/output/sor/tb_reclamacoes/\", has_header=True, options={\"dtypes\": {\"Quantidade total de clientes  CCS e SCR\" : str}}).head()"
   ]
  },
  {
   "cell_type": "code",
   "execution_count": 7,
   "metadata": {},
   "outputs": [
    {
     "name": "stdout",
     "output_type": "stream",
     "text": [
      "Listing files with size > 0 bytes in ./app/data/output/sor/tb_reclamacoes/:\n",
      "CPU times: user 149 ms, sys: 46.6 ms, total: 195 ms\n",
      "Wall time: 284 ms\n"
     ]
    },
    {
     "data": {
      "text/html": [
       "<div><style>\n",
       ".dataframe > thead > tr > th,\n",
       ".dataframe > tbody > tr > td {\n",
       "  text-align: right;\n",
       "}\n",
       "</style>\n",
       "<small>shape: (5, 15)</small><table border=\"1\" class=\"dataframe\"><thead><tr><th>ano</th><th>num_trimestre</th><th>nom_categoria</th><th>nom_tipo_instituicao</th><th>num_cnpj_instituicao</th><th>nom_instituicao</th><th>vlr_ind_recl</th><th>qtd_recl_reg_prec</th><th>qtd_recl_reg_outr</th><th>qtd_recl_nao_reg</th><th>qtd_totl_recl</th><th>qtd_totl_clie_css_scr</th><th>qtd_clie_ccs</th><th>qtd_clie_scr</th><th>dat_hor_psst</th></tr><tr><td>i64</td><td>i64</td><td>str</td><td>str</td><td>i64</td><td>str</td><td>f64</td><td>i64</td><td>i64</td><td>i64</td><td>i64</td><td>i64</td><td>i64</td><td>i64</td><td>f64</td></tr></thead><tbody><tr><td>2022</td><td>3</td><td>&quot;Demais Bancos,…</td><td>&quot;Conglomerado&quot;</td><td>null</td><td>&quot;ABC-BRASIL&quot;</td><td>null</td><td>4</td><td>7</td><td>3</td><td>14</td><td>50720</td><td>47485</td><td>6932</td><td>1.6922e9</td></tr><tr><td>2022</td><td>3</td><td>&quot;Demais Bancos,…</td><td>&quot;Conglomerado&quot;</td><td>null</td><td>&quot;ABN AMRO&quot;</td><td>null</td><td>0</td><td>0</td><td>1</td><td>1</td><td>0</td><td>0</td><td>null</td><td>1.6922e9</td></tr><tr><td>2022</td><td>3</td><td>&quot;Demais Bancos,…</td><td>&quot;Banco/financei…</td><td>13140088</td><td>&quot;ACESSO SOLUÇÕE…</td><td>14.7</td><td>75</td><td>128</td><td>9</td><td>212</td><td>5098671</td><td>5098661</td><td>19396</td><td>1.6922e9</td></tr><tr><td>2022</td><td>3</td><td>&quot;Demais Bancos,…</td><td>&quot;Conglomerado&quot;</td><td>null</td><td>&quot;AGIBANK&quot;</td><td>96.0</td><td>182</td><td>262</td><td>95</td><td>539</td><td>1895683</td><td>1540134</td><td>1176067</td><td>1.6922e9</td></tr><tr><td>2022</td><td>3</td><td>&quot;Demais Bancos,…</td><td>&quot;Banco/financei…</td><td>36321990</td><td>&quot;AGORACRED S/A …</td><td>null</td><td>4</td><td>4</td><td>2</td><td>10</td><td>534795</td><td>133</td><td>534662</td><td>1.6922e9</td></tr></tbody></table></div>"
      ],
      "text/plain": [
       "shape: (5, 15)\n",
       "┌──────┬────────────┬────────────┬────────────┬───┬────────────┬───────────┬───────────┬───────────┐\n",
       "│ ano  ┆ num_trimes ┆ nom_catego ┆ nom_tipo_i ┆ … ┆ qtd_totl_c ┆ qtd_clie_ ┆ qtd_clie_ ┆ dat_hor_p │\n",
       "│ ---  ┆ tre        ┆ ria        ┆ nstituicao ┆   ┆ lie_css_sc ┆ ccs       ┆ scr       ┆ sst       │\n",
       "│ i64  ┆ ---        ┆ ---        ┆ ---        ┆   ┆ r          ┆ ---       ┆ ---       ┆ ---       │\n",
       "│      ┆ i64        ┆ str        ┆ str        ┆   ┆ ---        ┆ i64       ┆ i64       ┆ f64       │\n",
       "│      ┆            ┆            ┆            ┆   ┆ i64        ┆           ┆           ┆           │\n",
       "╞══════╪════════════╪════════════╪════════════╪═══╪════════════╪═══════════╪═══════════╪═══════════╡\n",
       "│ 2022 ┆ 3          ┆ Demais     ┆ Conglomera ┆ … ┆ 50720      ┆ 47485     ┆ 6932      ┆ 1.6922e9  │\n",
       "│      ┆            ┆ Bancos,    ┆ do         ┆   ┆            ┆           ┆           ┆           │\n",
       "│      ┆            ┆ Financeira ┆            ┆   ┆            ┆           ┆           ┆           │\n",
       "│      ┆            ┆ s e Ins…   ┆            ┆   ┆            ┆           ┆           ┆           │\n",
       "│ 2022 ┆ 3          ┆ Demais     ┆ Conglomera ┆ … ┆ 0          ┆ 0         ┆ null      ┆ 1.6922e9  │\n",
       "│      ┆            ┆ Bancos,    ┆ do         ┆   ┆            ┆           ┆           ┆           │\n",
       "│      ┆            ┆ Financeira ┆            ┆   ┆            ┆           ┆           ┆           │\n",
       "│      ┆            ┆ s e Ins…   ┆            ┆   ┆            ┆           ┆           ┆           │\n",
       "│ 2022 ┆ 3          ┆ Demais     ┆ Banco/fina ┆ … ┆ 5098671    ┆ 5098661   ┆ 19396     ┆ 1.6922e9  │\n",
       "│      ┆            ┆ Bancos,    ┆ nceira     ┆   ┆            ┆           ┆           ┆           │\n",
       "│      ┆            ┆ Financeira ┆            ┆   ┆            ┆           ┆           ┆           │\n",
       "│      ┆            ┆ s e Ins…   ┆            ┆   ┆            ┆           ┆           ┆           │\n",
       "│ 2022 ┆ 3          ┆ Demais     ┆ Conglomera ┆ … ┆ 1895683    ┆ 1540134   ┆ 1176067   ┆ 1.6922e9  │\n",
       "│      ┆            ┆ Bancos,    ┆ do         ┆   ┆            ┆           ┆           ┆           │\n",
       "│      ┆            ┆ Financeira ┆            ┆   ┆            ┆           ┆           ┆           │\n",
       "│      ┆            ┆ s e Ins…   ┆            ┆   ┆            ┆           ┆           ┆           │\n",
       "│ 2022 ┆ 3          ┆ Demais     ┆ Banco/fina ┆ … ┆ 534795     ┆ 133       ┆ 534662    ┆ 1.6922e9  │\n",
       "│      ┆            ┆ Bancos,    ┆ nceira     ┆   ┆            ┆           ┆           ┆           │\n",
       "│      ┆            ┆ Financeira ┆            ┆   ┆            ┆           ┆           ┆           │\n",
       "│      ┆            ┆ s e Ins…   ┆            ┆   ┆            ┆           ┆           ┆           │\n",
       "└──────┴────────────┴────────────┴────────────┴───┴────────────┴───────────┴───────────┴───────────┘"
      ]
     },
     "execution_count": 7,
     "metadata": {},
     "output_type": "execute_result"
    }
   ],
   "source": [
    "%%time\n",
    "# Processa dados da SoR, realiza tratamento e salva na camada SoT das reclamações\n",
    "job: job_ingestao_reclamacoes_sot.ETLJob = job_ingestao_reclamacoes_sot.ETLJob(input_path=\"./app/data/output/sor/tb_reclamacoes/\",\n",
    "                                                                     output_path=\"./app/data/output/sot/tb_reclamacoes/\")\n",
    "job.run()\n",
    "read_csv_files_recursively(\"./app/data/output/sot/tb_reclamacoes/\", has_header=True).head()"
   ]
  },
  {
   "cell_type": "code",
   "execution_count": 8,
   "metadata": {},
   "outputs": [
    {
     "name": "stdout",
     "output_type": "stream",
     "text": [
      "Listing files with size > 0 bytes in ./app/data/input/Empregados/:\n",
      "CPU times: user 11.5 ms, sys: 3.83 ms, total: 15.3 ms\n",
      "Wall time: 35 ms\n"
     ]
    },
    {
     "data": {
      "text/html": [
       "<div><style>\n",
       ".dataframe > thead > tr > th,\n",
       ".dataframe > tbody > tr > td {\n",
       "  text-align: right;\n",
       "}\n",
       "</style>\n",
       "<small>shape: (5, 23)</small><table border=\"1\" class=\"dataframe\"><thead><tr><th>employer_name</th><th>reviews_count</th><th>culture_count</th><th>salaries_count</th><th>benefits_count</th><th>employer-website</th><th>employer-headquarters</th><th>employer-founded</th><th>employer-industry</th><th>employer-revenue</th><th>url</th><th>Geral</th><th>Cultura e valores</th><th>Diversidade e inclusão</th><th>Qualidade de vida</th><th>Alta liderança</th><th>Remuneração e benefícios</th><th>Oportunidades de carreira</th><th>Recomendam para outras pessoas(%)</th><th>Perspectiva positiva da empresa(%)</th><th>Segmento</th><th>Nome</th><th>match_percent</th></tr><tr><td>str</td><td>str</td><td>str</td><td>str</td><td>str</td><td>str</td><td>str</td><td>str</td><td>str</td><td>str</td><td>str</td><td>str</td><td>str</td><td>str</td><td>str</td><td>str</td><td>str</td><td>str</td><td>str</td><td>str</td><td>str</td><td>str</td><td>str</td></tr></thead><tbody><tr><td>&quot;BNP Paribas&quot;</td><td>&quot;13000&quot;</td><td>&quot;4100&quot;</td><td>&quot;20000&quot;</td><td>&quot;3600&quot;</td><td>&quot;http://www.gro…</td><td>&quot;Paris, França&quot;</td><td>&quot;2000.0&quot;</td><td>&quot;/Explorar/melh…</td><td>&quot;Mais de US$ 10…</td><td>&quot;https://www.gl…</td><td>&quot;3.8&quot;</td><td>&quot;3.7&quot;</td><td>&quot;4.0&quot;</td><td>&quot;3.8&quot;</td><td>&quot;3.4&quot;</td><td>&quot;3.4&quot;</td><td>&quot;3.5&quot;</td><td>&quot;77.0&quot;</td><td>&quot;63.0&quot;</td><td>&quot;S3&quot;</td><td>&quot;BNP PARIBAS&quot;</td><td>&quot;100&quot;</td></tr><tr><td>&quot;BTG Pactual&quot;</td><td>&quot;1600&quot;</td><td>&quot;683&quot;</td><td>&quot;2800&quot;</td><td>&quot;635&quot;</td><td>&quot;http://www.btg…</td><td>&quot;São Paulo, Bra…</td><td>null</td><td>&quot;/Explorar/melh…</td><td>&quot;Desconhecida/n…</td><td>&quot;https://www.gl…</td><td>&quot;4.0&quot;</td><td>&quot;3.7&quot;</td><td>&quot;3.5&quot;</td><td>&quot;2.8&quot;</td><td>&quot;3.7&quot;</td><td>&quot;4.4&quot;</td><td>&quot;4.2&quot;</td><td>&quot;78.0&quot;</td><td>&quot;73.0&quot;</td><td>&quot;S1&quot;</td><td>&quot;BTG PACTUAL&quot;</td><td>&quot;100&quot;</td></tr><tr><td>&quot;Banco Alfa&quot;</td><td>&quot;175&quot;</td><td>&quot;74&quot;</td><td>&quot;271&quot;</td><td>&quot;105&quot;</td><td>&quot;http://www.alf…</td><td>&quot;São Paulo, Bra…</td><td>&quot;1925.0&quot;</td><td>&quot;/Explorar/melh…</td><td>&quot;Desconhecida/n…</td><td>&quot;https://www.gl…</td><td>&quot;3.5&quot;</td><td>&quot;3.2&quot;</td><td>&quot;3.2&quot;</td><td>&quot;3.1&quot;</td><td>&quot;2.8&quot;</td><td>&quot;3.8&quot;</td><td>&quot;2.7&quot;</td><td>&quot;68.0&quot;</td><td>&quot;47.0&quot;</td><td>&quot;S3&quot;</td><td>&quot;ALFA&quot;</td><td>&quot;100&quot;</td></tr><tr><td>&quot;Banco BMG&quot;</td><td>&quot;445&quot;</td><td>&quot;232&quot;</td><td>&quot;704&quot;</td><td>&quot;277&quot;</td><td>&quot;http://www.ban…</td><td>&quot;São Paulo, Bra…</td><td>&quot;1930.0&quot;</td><td>&quot;/Explorar/melh…</td><td>&quot;De US$ 1 a US$…</td><td>&quot;https://www.gl…</td><td>&quot;4.1&quot;</td><td>&quot;3.9&quot;</td><td>&quot;4.1&quot;</td><td>&quot;3.7&quot;</td><td>&quot;3.6&quot;</td><td>&quot;4.2&quot;</td><td>&quot;3.5&quot;</td><td>&quot;79.0&quot;</td><td>&quot;63.0&quot;</td><td>&quot;S3&quot;</td><td>&quot;BMG&quot;</td><td>&quot;100&quot;</td></tr><tr><td>&quot;Banco Bradesco…</td><td>&quot;11000&quot;</td><td>&quot;3300&quot;</td><td>&quot;19000&quot;</td><td>&quot;3200&quot;</td><td>&quot;http://www.ban…</td><td>&quot;Osasco, Brasil…</td><td>&quot;1943.0&quot;</td><td>&quot;/Explorar/melh…</td><td>&quot;Mais de US$ 10…</td><td>&quot;https://www.gl…</td><td>&quot;4.2&quot;</td><td>&quot;3.8&quot;</td><td>&quot;3.9&quot;</td><td>&quot;3.4&quot;</td><td>&quot;3.4&quot;</td><td>&quot;4.3&quot;</td><td>&quot;3.8&quot;</td><td>&quot;81.0&quot;</td><td>&quot;66.0&quot;</td><td>&quot;S1&quot;</td><td>&quot;BRADESCO&quot;</td><td>&quot;100&quot;</td></tr></tbody></table></div>"
      ],
      "text/plain": [
       "shape: (5, 23)\n",
       "┌───────────┬───────────┬───────────┬───────────┬───┬───────────┬──────────┬───────────┬───────────┐\n",
       "│ employer_ ┆ reviews_c ┆ culture_c ┆ salaries_ ┆ … ┆ Perspecti ┆ Segmento ┆ Nome      ┆ match_per │\n",
       "│ name      ┆ ount      ┆ ount      ┆ count     ┆   ┆ va        ┆ ---      ┆ ---       ┆ cent      │\n",
       "│ ---       ┆ ---       ┆ ---       ┆ ---       ┆   ┆ positiva  ┆ str      ┆ str       ┆ ---       │\n",
       "│ str       ┆ str       ┆ str       ┆ str       ┆   ┆ da        ┆          ┆           ┆ str       │\n",
       "│           ┆           ┆           ┆           ┆   ┆ empresa(… ┆          ┆           ┆           │\n",
       "│           ┆           ┆           ┆           ┆   ┆ ---       ┆          ┆           ┆           │\n",
       "│           ┆           ┆           ┆           ┆   ┆ str       ┆          ┆           ┆           │\n",
       "╞═══════════╪═══════════╪═══════════╪═══════════╪═══╪═══════════╪══════════╪═══════════╪═══════════╡\n",
       "│ BNP       ┆ 13000     ┆ 4100      ┆ 20000     ┆ … ┆ 63.0      ┆ S3       ┆ BNP       ┆ 100       │\n",
       "│ Paribas   ┆           ┆           ┆           ┆   ┆           ┆          ┆ PARIBAS   ┆           │\n",
       "│ BTG       ┆ 1600      ┆ 683       ┆ 2800      ┆ … ┆ 73.0      ┆ S1       ┆ BTG       ┆ 100       │\n",
       "│ Pactual   ┆           ┆           ┆           ┆   ┆           ┆          ┆ PACTUAL   ┆           │\n",
       "│ Banco     ┆ 175       ┆ 74        ┆ 271       ┆ … ┆ 47.0      ┆ S3       ┆ ALFA      ┆ 100       │\n",
       "│ Alfa      ┆           ┆           ┆           ┆   ┆           ┆          ┆           ┆           │\n",
       "│ Banco BMG ┆ 445       ┆ 232       ┆ 704       ┆ … ┆ 63.0      ┆ S3       ┆ BMG       ┆ 100       │\n",
       "│ Banco     ┆ 11000     ┆ 3300      ┆ 19000     ┆ … ┆ 66.0      ┆ S1       ┆ BRADESCO  ┆ 100       │\n",
       "│ Bradesco  ┆           ┆           ┆           ┆   ┆           ┆          ┆           ┆           │\n",
       "└───────────┴───────────┴───────────┴───────────┴───┴───────────┴──────────┴───────────┴───────────┘"
      ]
     },
     "execution_count": 8,
     "metadata": {},
     "output_type": "execute_result"
    }
   ],
   "source": [
    "%%time\n",
    "# Processa dados raw Empregados para gerar camada Source of Record (SoR)\n",
    "job: job_ingestao_empregados_sor.ETLJob = job_ingestao_empregados_sor.ETLJob(input_path=\"./app/data/input/Empregados/\",\n",
    "                                                                             output_path=\"./app/data/output/sor/tb_empregados/\",\n",
    "                                                                             dat_ref=DATA_REFERENCIA)\n",
    "job.run()\n",
    "read_csv_files_recursively(\"./app/data/output/sor/tb_empregados/\", has_header=True).head()"
   ]
  },
  {
   "cell_type": "code",
   "execution_count": 9,
   "metadata": {},
   "outputs": [
    {
     "name": "stdout",
     "output_type": "stream",
     "text": [
      "Listing files with size > 0 bytes in ./app/data/output/sor/tb_empregados/anomesdia=20230814:\n",
      "CPU times: user 14.9 ms, sys: 2.48 ms, total: 17.4 ms\n",
      "Wall time: 117 ms\n"
     ]
    },
    {
     "data": {
      "text/html": [
       "<div><style>\n",
       ".dataframe > thead > tr > th,\n",
       ".dataframe > tbody > tr > td {\n",
       "  text-align: right;\n",
       "}\n",
       "</style>\n",
       "<small>shape: (5, 22)</small><table border=\"1\" class=\"dataframe\"><thead><tr><th>qtd_aval</th><th>qtd_aval_cult</th><th>qtd_aval_salr</th><th>qtd_aval_benef</th><th>txt_url_instituicao</th><th>nom_mun_sede_instituicao</th><th>nom_pais_sede_instituicao</th><th>ano_fund_instituicao</th><th>nom_segto_atua_instituicao</th><th>txt_faixa_rend_instituicao</th><th>txt_url_orig_data</th><th>vlr_ind_satis_geral</th><th>vlr_ind_cult_valrs</th><th>vlr_ind_divr_incl</th><th>vlr_ind_qual_vida</th><th>vlr_ind_alt_lider</th><th>vlr_ind_remu_bene</th><th>vlr_ind_oprt_carr</th><th>vlr_pct_recom_outr_pess</th><th>vlr_pct_perspec_pos_instituicao</th><th>nom_instituicao</th><th>&quot;dat_hor_psst&quot;</th></tr><tr><td>i64</td><td>i64</td><td>i64</td><td>i64</td><td>str</td><td>str</td><td>str</td><td>i64</td><td>str</td><td>str</td><td>str</td><td>f64</td><td>f64</td><td>f64</td><td>f64</td><td>f64</td><td>f64</td><td>f64</td><td>f64</td><td>f64</td><td>str</td><td>f64</td></tr></thead><tbody><tr><td>13000</td><td>4100</td><td>20000</td><td>3600</td><td>&quot;http://www.gro…</td><td>&quot;Paris&quot;</td><td>&quot;França&quot;</td><td>2000</td><td>&quot;melhores-servi…</td><td>&quot;Mais de US$ 10…</td><td>&quot;https://www.gl…</td><td>3.8</td><td>3.7</td><td>4.0</td><td>3.8</td><td>3.4</td><td>3.4</td><td>3.5</td><td>77.0</td><td>63.0</td><td>&quot;BNP PARIBAS&quot;</td><td>1.6922e9</td></tr><tr><td>1600</td><td>683</td><td>2800</td><td>635</td><td>&quot;http://www.btg…</td><td>&quot;São Paulo&quot;</td><td>&quot;Brasil&quot;</td><td>null</td><td>&quot;melhores-gestã…</td><td>&quot;Desconhecida/n…</td><td>&quot;https://www.gl…</td><td>4.0</td><td>3.7</td><td>3.5</td><td>2.8</td><td>3.7</td><td>4.4</td><td>4.2</td><td>78.0</td><td>73.0</td><td>&quot;BTG PACTUAL&quot;</td><td>1.6922e9</td></tr><tr><td>175</td><td>74</td><td>271</td><td>105</td><td>&quot;http://www.alf…</td><td>&quot;São Paulo&quot;</td><td>&quot;Brasil&quot;</td><td>1925</td><td>&quot;melhores-servi…</td><td>&quot;Desconhecida/n…</td><td>&quot;https://www.gl…</td><td>3.5</td><td>3.2</td><td>3.2</td><td>3.1</td><td>2.8</td><td>3.8</td><td>2.7</td><td>68.0</td><td>47.0</td><td>&quot;ALFA&quot;</td><td>1.6922e9</td></tr><tr><td>445</td><td>232</td><td>704</td><td>277</td><td>&quot;http://www.ban…</td><td>&quot;São Paulo&quot;</td><td>&quot;Brasil&quot;</td><td>1930</td><td>&quot;melhores-servi…</td><td>&quot;De US$ 1 a US$…</td><td>&quot;https://www.gl…</td><td>4.1</td><td>3.9</td><td>4.1</td><td>3.7</td><td>3.6</td><td>4.2</td><td>3.5</td><td>79.0</td><td>63.0</td><td>&quot;BMG&quot;</td><td>1.6922e9</td></tr><tr><td>11000</td><td>3300</td><td>19000</td><td>3200</td><td>&quot;http://www.ban…</td><td>&quot;Osasco&quot;</td><td>&quot;Brasil&quot;</td><td>1943</td><td>&quot;melhores-servi…</td><td>&quot;Mais de US$ 10…</td><td>&quot;https://www.gl…</td><td>4.2</td><td>3.8</td><td>3.9</td><td>3.4</td><td>3.4</td><td>4.3</td><td>3.8</td><td>81.0</td><td>66.0</td><td>&quot;BRADESCO&quot;</td><td>1.6922e9</td></tr></tbody></table></div>"
      ],
      "text/plain": [
       "shape: (5, 22)\n",
       "┌──────────┬───────────┬───────────┬───────────┬───┬───────────┬───────────┬───────────┬───────────┐\n",
       "│ qtd_aval ┆ qtd_aval_ ┆ qtd_aval_ ┆ qtd_aval_ ┆ … ┆ vlr_pct_r ┆ vlr_pct_p ┆ nom_insti ┆ \"dat_hor_ │\n",
       "│ ---      ┆ cult      ┆ salr      ┆ benef     ┆   ┆ ecom_outr ┆ erspec_po ┆ tuicao    ┆ psst\"     │\n",
       "│ i64      ┆ ---       ┆ ---       ┆ ---       ┆   ┆ _pess     ┆ s_institu ┆ ---       ┆ ---       │\n",
       "│          ┆ i64       ┆ i64       ┆ i64       ┆   ┆ ---       ┆ icao      ┆ str       ┆ f64       │\n",
       "│          ┆           ┆           ┆           ┆   ┆ f64       ┆ ---       ┆           ┆           │\n",
       "│          ┆           ┆           ┆           ┆   ┆           ┆ f64       ┆           ┆           │\n",
       "╞══════════╪═══════════╪═══════════╪═══════════╪═══╪═══════════╪═══════════╪═══════════╪═══════════╡\n",
       "│ 13000    ┆ 4100      ┆ 20000     ┆ 3600      ┆ … ┆ 77.0      ┆ 63.0      ┆ BNP       ┆ 1.6922e9  │\n",
       "│          ┆           ┆           ┆           ┆   ┆           ┆           ┆ PARIBAS   ┆           │\n",
       "│ 1600     ┆ 683       ┆ 2800      ┆ 635       ┆ … ┆ 78.0      ┆ 73.0      ┆ BTG       ┆ 1.6922e9  │\n",
       "│          ┆           ┆           ┆           ┆   ┆           ┆           ┆ PACTUAL   ┆           │\n",
       "│ 175      ┆ 74        ┆ 271       ┆ 105       ┆ … ┆ 68.0      ┆ 47.0      ┆ ALFA      ┆ 1.6922e9  │\n",
       "│ 445      ┆ 232       ┆ 704       ┆ 277       ┆ … ┆ 79.0      ┆ 63.0      ┆ BMG       ┆ 1.6922e9  │\n",
       "│ 11000    ┆ 3300      ┆ 19000     ┆ 3200      ┆ … ┆ 81.0      ┆ 66.0      ┆ BRADESCO  ┆ 1.6922e9  │\n",
       "└──────────┴───────────┴───────────┴───────────┴───┴───────────┴───────────┴───────────┴───────────┘"
      ]
     },
     "execution_count": 9,
     "metadata": {},
     "output_type": "execute_result"
    }
   ],
   "source": [
    "%%time\n",
    "# Processa dados da SoR, realiza tratamento e salva na camada SoT dos Empregados\n",
    "job: job_ingestao_empregados_sot.ETLJob = job_ingestao_empregados_sot.ETLJob(input_path=f\"./app/data/output/sor/tb_empregados/anomesdia={DATA_REFERENCIA.strftime('%Y%m%d')}\",\n",
    "                                                                             output_path=\"./app/data/output/sot/tb_empregados/\",\n",
    "                                                                             dat_ref=DATA_REFERENCIA)\n",
    "job.run()\n",
    "read_csv_files_recursively(\"./app/data/output/sot/tb_empregados/\", has_header=True).head()"
   ]
  },
  {
   "cell_type": "code",
   "execution_count": 6,
   "metadata": {},
   "outputs": [
    {
     "name": "stdout",
     "output_type": "stream",
     "text": [
      "CPU times: user 32.2 ms, sys: 22.5 ms, total: 54.7 ms\n",
      "Wall time: 49.7 ms\n"
     ]
    },
    {
     "data": {
      "text/html": [
       "<div><style>\n",
       ".dataframe > thead > tr > th,\n",
       ".dataframe > tbody > tr > td {\n",
       "  text-align: right;\n",
       "}\n",
       "</style>\n",
       "<small>shape: (5, 10)</small><table border=\"1\" class=\"dataframe\"><thead><tr><th>nom_instituicao</th><th>num_cnpj_instituicao</th><th>nom_segto_instituicao</th><th>max_qtd_totl_clie_ccs_scr</th><th>avg_ind_recl</th><th>sum_qtd_totl_recl</th><th>avg_ind_geral_instituicao</th><th>avg_ind_remu_bene_instituicao</th><th>dat_hor_psst</th><th>anomesdia</th></tr><tr><td>str</td><td>i64</td><td>str</td><td>i64</td><td>f64</td><td>i64</td><td>f64</td><td>f64</td><td>str</td><td>i64</td></tr></thead><tbody><tr><td>&quot;CREDIT SUISSE&quot;</td><td>33987793</td><td>&quot;S2&quot;</td><td>5997</td><td>null</td><td>4</td><td>3.8</td><td>3.6</td><td>&quot;2023-08-17 21:…</td><td>20230814</td></tr><tr><td>&quot;VOTORANTIM&quot;</td><td>59588111</td><td>&quot;S2&quot;</td><td>21892612</td><td>20.82</td><td>861</td><td>4.4</td><td>4.6</td><td>&quot;2023-08-17 21:…</td><td>20230814</td></tr><tr><td>&quot;ALFA&quot;</td><td>60770336</td><td>&quot;S3&quot;</td><td>439630</td><td>null</td><td>85</td><td>3.5</td><td>3.8</td><td>&quot;2023-08-17 21:…</td><td>20230814</td></tr><tr><td>&quot;CITIBANK&quot;</td><td>33479023</td><td>&quot;S2&quot;</td><td>18935</td><td>null</td><td>25</td><td>3.9</td><td>3.8</td><td>&quot;2023-08-17 21:…</td><td>20230814</td></tr><tr><td>&quot;BANRISUL&quot;</td><td>92702067</td><td>&quot;S2&quot;</td><td>5213189</td><td>37.68</td><td>855</td><td>4.2</td><td>4.1</td><td>&quot;2023-08-17 21:…</td><td>20230814</td></tr></tbody></table></div>"
      ],
      "text/plain": [
       "shape: (5, 10)\n",
       "┌───────────┬───────────┬───────────┬───────────┬───┬───────────┬───────────┬───────────┬──────────┐\n",
       "│ nom_insti ┆ num_cnpj_ ┆ nom_segto ┆ max_qtd_t ┆ … ┆ avg_ind_g ┆ avg_ind_r ┆ dat_hor_p ┆ anomesdi │\n",
       "│ tuicao    ┆ instituic ┆ _institui ┆ otl_clie_ ┆   ┆ eral_inst ┆ emu_bene_ ┆ sst       ┆ a        │\n",
       "│ ---       ┆ ao        ┆ cao       ┆ ccs_scr   ┆   ┆ ituicao   ┆ instituic ┆ ---       ┆ ---      │\n",
       "│ str       ┆ ---       ┆ ---       ┆ ---       ┆   ┆ ---       ┆ ao        ┆ str       ┆ i64      │\n",
       "│           ┆ i64       ┆ str       ┆ i64       ┆   ┆ f64       ┆ ---       ┆           ┆          │\n",
       "│           ┆           ┆           ┆           ┆   ┆           ┆ f64       ┆           ┆          │\n",
       "╞═══════════╪═══════════╪═══════════╪═══════════╪═══╪═══════════╪═══════════╪═══════════╪══════════╡\n",
       "│ CREDIT    ┆ 33987793  ┆ S2        ┆ 5997      ┆ … ┆ 3.8       ┆ 3.6       ┆ 2023-08-1 ┆ 20230814 │\n",
       "│ SUISSE    ┆           ┆           ┆           ┆   ┆           ┆           ┆ 7 21:18:4 ┆          │\n",
       "│           ┆           ┆           ┆           ┆   ┆           ┆           ┆ 5.406644  ┆          │\n",
       "│ VOTORANTI ┆ 59588111  ┆ S2        ┆ 21892612  ┆ … ┆ 4.4       ┆ 4.6       ┆ 2023-08-1 ┆ 20230814 │\n",
       "│ M         ┆           ┆           ┆           ┆   ┆           ┆           ┆ 7 21:18:4 ┆          │\n",
       "│           ┆           ┆           ┆           ┆   ┆           ┆           ┆ 5.406644  ┆          │\n",
       "│ ALFA      ┆ 60770336  ┆ S3        ┆ 439630    ┆ … ┆ 3.5       ┆ 3.8       ┆ 2023-08-1 ┆ 20230814 │\n",
       "│           ┆           ┆           ┆           ┆   ┆           ┆           ┆ 7 21:18:4 ┆          │\n",
       "│           ┆           ┆           ┆           ┆   ┆           ┆           ┆ 5.406644  ┆          │\n",
       "│ CITIBANK  ┆ 33479023  ┆ S2        ┆ 18935     ┆ … ┆ 3.9       ┆ 3.8       ┆ 2023-08-1 ┆ 20230814 │\n",
       "│           ┆           ┆           ┆           ┆   ┆           ┆           ┆ 7 21:18:4 ┆          │\n",
       "│           ┆           ┆           ┆           ┆   ┆           ┆           ┆ 5.406644  ┆          │\n",
       "│ BANRISUL  ┆ 92702067  ┆ S2        ┆ 5213189   ┆ … ┆ 4.2       ┆ 4.1       ┆ 2023-08-1 ┆ 20230814 │\n",
       "│           ┆           ┆           ┆           ┆   ┆           ┆           ┆ 7 21:18:4 ┆          │\n",
       "│           ┆           ┆           ┆           ┆   ┆           ┆           ┆ 5.406644  ┆          │\n",
       "└───────────┴───────────┴───────────┴───────────┴───┴───────────┴───────────┴───────────┴──────────┘"
      ]
     },
     "execution_count": 6,
     "metadata": {},
     "output_type": "execute_result"
    }
   ],
   "source": [
    "%%time\n",
    "# Gera relatório final cruzando todas as SoTs\n",
    "job: job_ingestao_01_spec.ETLJob  = job_ingestao_01_spec.ETLJob(dat_ref=DATA_REFERENCIA)\n",
    "job.run()\n",
    "relatorio = read_csv_files_recursively(f\"./app/data/output/spec/report_atividade/anomesdia={DATA_REFERENCIA.strftime('%Y%m%d')}/\", has_header=True)\n",
    "relatorio.head()"
   ]
  },
  {
   "cell_type": "code",
   "execution_count": 4,
   "metadata": {},
   "outputs": [
    {
     "name": "stdout",
     "output_type": "stream",
     "text": [
      "CPU times: user 8.37 ms, sys: 945 µs, total: 9.32 ms\n",
      "Wall time: 8.62 ms\n"
     ]
    },
    {
     "data": {
      "text/html": [
       "<div><style>\n",
       ".dataframe > thead > tr > th,\n",
       ".dataframe > tbody > tr > td {\n",
       "  text-align: right;\n",
       "}\n",
       "</style>\n",
       "<small>shape: (5, 12)</small><table border=\"1\" class=\"dataframe\"><thead><tr><th>nom_instituicao</th><th>num_cnpj_instituicao</th><th>nom_segto_instituicao</th><th>ano</th><th>num_trimestre</th><th>max_qtd_totl_clie_ccs_scr</th><th>avg_ind_recl</th><th>sum_qtd_totl_recl</th><th>avg_ind_geral_instituicao</th><th>avg_ind_remu_bene_instituicao</th><th>dat_hor_psst</th><th>anomesdia</th></tr><tr><td>str</td><td>i64</td><td>str</td><td>i64</td><td>i64</td><td>f64</td><td>f64</td><td>i64</td><td>f64</td><td>f64</td><td>str</td><td>i64</td></tr></thead><tbody><tr><td>&quot;CAIXA ECONOMIC…</td><td>360305</td><td>&quot;S1&quot;</td><td>2021</td><td>2</td><td>1.45684233e8</td><td>32.13</td><td>16006</td><td>4.4</td><td>4.3</td><td>&quot;2023-08-17 21:…</td><td>20230814</td></tr><tr><td>&quot;BANCO DO NORDE…</td><td>7237373</td><td>&quot;S2&quot;</td><td>2021</td><td>1</td><td>8.512373e6</td><td>null</td><td>47</td><td>4.5</td><td>4.2</td><td>&quot;2023-08-17 21:…</td><td>20230814</td></tr><tr><td>&quot;CAIXA ECONOMIC…</td><td>360305</td><td>&quot;S1&quot;</td><td>2022</td><td>1</td><td>1.45044033e8</td><td>13.17</td><td>6566</td><td>4.4</td><td>4.3</td><td>&quot;2023-08-17 21:…</td><td>20230814</td></tr><tr><td>&quot;JP MORGAN CHAS…</td><td>33172537</td><td>&quot;S3&quot;</td><td>2022</td><td>1</td><td>4029.0</td><td>null</td><td>3</td><td>4.1</td><td>3.9</td><td>&quot;2023-08-17 21:…</td><td>20230814</td></tr><tr><td>&quot;CITIBANK&quot;</td><td>33479023</td><td>&quot;S2&quot;</td><td>2022</td><td>1</td><td>18222.0</td><td>null</td><td>8</td><td>3.9</td><td>3.8</td><td>&quot;2023-08-17 21:…</td><td>20230814</td></tr></tbody></table></div>"
      ],
      "text/plain": [
       "shape: (5, 12)\n",
       "┌────────────┬────────────┬────────────┬──────┬───┬────────────┬───────────┬───────────┬───────────┐\n",
       "│ nom_instit ┆ num_cnpj_i ┆ nom_segto_ ┆ ano  ┆ … ┆ avg_ind_ge ┆ avg_ind_r ┆ dat_hor_p ┆ anomesdia │\n",
       "│ uicao      ┆ nstituicao ┆ instituica ┆ ---  ┆   ┆ ral_instit ┆ emu_bene_ ┆ sst       ┆ ---       │\n",
       "│ ---        ┆ ---        ┆ o          ┆ i64  ┆   ┆ uicao      ┆ instituic ┆ ---       ┆ i64       │\n",
       "│ str        ┆ i64        ┆ ---        ┆      ┆   ┆ ---        ┆ ao        ┆ str       ┆           │\n",
       "│            ┆            ┆ str        ┆      ┆   ┆ f64        ┆ ---       ┆           ┆           │\n",
       "│            ┆            ┆            ┆      ┆   ┆            ┆ f64       ┆           ┆           │\n",
       "╞════════════╪════════════╪════════════╪══════╪═══╪════════════╪═══════════╪═══════════╪═══════════╡\n",
       "│ CAIXA      ┆ 360305     ┆ S1         ┆ 2021 ┆ … ┆ 4.4        ┆ 4.3       ┆ 2023-08-1 ┆ 20230814  │\n",
       "│ ECONOMICA  ┆            ┆            ┆      ┆   ┆            ┆           ┆ 7 21:20:1 ┆           │\n",
       "│ FEDERAL    ┆            ┆            ┆      ┆   ┆            ┆           ┆ 8.354539  ┆           │\n",
       "│ BANCO DO   ┆ 7237373    ┆ S2         ┆ 2021 ┆ … ┆ 4.5        ┆ 4.2       ┆ 2023-08-1 ┆ 20230814  │\n",
       "│ NORDESTE   ┆            ┆            ┆      ┆   ┆            ┆           ┆ 7 21:20:1 ┆           │\n",
       "│ DO BRASIL  ┆            ┆            ┆      ┆   ┆            ┆           ┆ 8.354539  ┆           │\n",
       "│ S.A.       ┆            ┆            ┆      ┆   ┆            ┆           ┆           ┆           │\n",
       "│ CAIXA      ┆ 360305     ┆ S1         ┆ 2022 ┆ … ┆ 4.4        ┆ 4.3       ┆ 2023-08-1 ┆ 20230814  │\n",
       "│ ECONOMICA  ┆            ┆            ┆      ┆   ┆            ┆           ┆ 7 21:20:1 ┆           │\n",
       "│ FEDERAL    ┆            ┆            ┆      ┆   ┆            ┆           ┆ 8.354539  ┆           │\n",
       "│ JP MORGAN  ┆ 33172537   ┆ S3         ┆ 2022 ┆ … ┆ 4.1        ┆ 3.9       ┆ 2023-08-1 ┆ 20230814  │\n",
       "│ CHASE      ┆            ┆            ┆      ┆   ┆            ┆           ┆ 7 21:20:1 ┆           │\n",
       "│            ┆            ┆            ┆      ┆   ┆            ┆           ┆ 8.354539  ┆           │\n",
       "│ CITIBANK   ┆ 33479023   ┆ S2         ┆ 2022 ┆ … ┆ 3.9        ┆ 3.8       ┆ 2023-08-1 ┆ 20230814  │\n",
       "│            ┆            ┆            ┆      ┆   ┆            ┆           ┆ 7 21:20:1 ┆           │\n",
       "│            ┆            ┆            ┆      ┆   ┆            ┆           ┆ 8.354539  ┆           │\n",
       "└────────────┴────────────┴────────────┴──────┴───┴────────────┴───────────┴───────────┴───────────┘"
      ]
     },
     "execution_count": 4,
     "metadata": {},
     "output_type": "execute_result"
    }
   ],
   "source": [
    "%%time\n",
    "# Gera relatório final cruzando todas as SoTs\n",
    "# job: job_ingestao_02_spec.ETLJob  = job_ingestao_02_spec.ETLJob(dat_ref=DATA_REFERENCIA)\n",
    "# job.run()\n",
    "relatorio = read_csv_files_recursively(f\"./app/data/output/spec/report_atividade_temp/anomesdia={DATA_REFERENCIA.strftime('%Y%m%d')}/\", has_header=True)\n",
    "relatorio.head()"
   ]
  },
  {
   "cell_type": "markdown",
   "metadata": {},
   "source": []
  },
  {
   "cell_type": "code",
   "execution_count": 11,
   "metadata": {},
   "outputs": [],
   "source": [
    "import pandas as pd\n",
    "relatorio = pd.read_csv(f\"./app/data/output/spec/report_atividade/anomesdia={DATA_REFERENCIA.strftime('%Y%m%d')}/tb_relatorio_final.csv\",sep=\";\")"
   ]
  },
  {
   "cell_type": "code",
   "execution_count": 12,
   "metadata": {},
   "outputs": [
    {
     "data": {
      "application/vnd.plotly.v1+json": {
       "config": {
        "plotlyServerURL": "https://plot.ly"
       },
       "data": [
        {
         "alignmentgroup": "True",
         "hovertemplate": "Segmento Instituição=%{x}<br>Quantidade de Instituições=%{y}<extra></extra>",
         "legendgroup": "",
         "marker": {
          "color": "#636efa",
          "pattern": {
           "shape": ""
          }
         },
         "name": "",
         "offsetgroup": "",
         "orientation": "v",
         "showlegend": false,
         "textposition": "auto",
         "type": "bar",
         "x": [
          "S1",
          "S2",
          "S3"
         ],
         "xaxis": "x",
         "y": [
          5,
          5,
          14
         ],
         "yaxis": "y"
        }
       ],
       "layout": {
        "barmode": "relative",
        "legend": {
         "tracegroupgap": 0
        },
        "template": {
         "data": {
          "bar": [
           {
            "error_x": {
             "color": "#2a3f5f"
            },
            "error_y": {
             "color": "#2a3f5f"
            },
            "marker": {
             "line": {
              "color": "#E5ECF6",
              "width": 0.5
             },
             "pattern": {
              "fillmode": "overlay",
              "size": 10,
              "solidity": 0.2
             }
            },
            "type": "bar"
           }
          ],
          "barpolar": [
           {
            "marker": {
             "line": {
              "color": "#E5ECF6",
              "width": 0.5
             },
             "pattern": {
              "fillmode": "overlay",
              "size": 10,
              "solidity": 0.2
             }
            },
            "type": "barpolar"
           }
          ],
          "carpet": [
           {
            "aaxis": {
             "endlinecolor": "#2a3f5f",
             "gridcolor": "white",
             "linecolor": "white",
             "minorgridcolor": "white",
             "startlinecolor": "#2a3f5f"
            },
            "baxis": {
             "endlinecolor": "#2a3f5f",
             "gridcolor": "white",
             "linecolor": "white",
             "minorgridcolor": "white",
             "startlinecolor": "#2a3f5f"
            },
            "type": "carpet"
           }
          ],
          "choropleth": [
           {
            "colorbar": {
             "outlinewidth": 0,
             "ticks": ""
            },
            "type": "choropleth"
           }
          ],
          "contour": [
           {
            "colorbar": {
             "outlinewidth": 0,
             "ticks": ""
            },
            "colorscale": [
             [
              0,
              "#0d0887"
             ],
             [
              0.1111111111111111,
              "#46039f"
             ],
             [
              0.2222222222222222,
              "#7201a8"
             ],
             [
              0.3333333333333333,
              "#9c179e"
             ],
             [
              0.4444444444444444,
              "#bd3786"
             ],
             [
              0.5555555555555556,
              "#d8576b"
             ],
             [
              0.6666666666666666,
              "#ed7953"
             ],
             [
              0.7777777777777778,
              "#fb9f3a"
             ],
             [
              0.8888888888888888,
              "#fdca26"
             ],
             [
              1,
              "#f0f921"
             ]
            ],
            "type": "contour"
           }
          ],
          "contourcarpet": [
           {
            "colorbar": {
             "outlinewidth": 0,
             "ticks": ""
            },
            "type": "contourcarpet"
           }
          ],
          "heatmap": [
           {
            "colorbar": {
             "outlinewidth": 0,
             "ticks": ""
            },
            "colorscale": [
             [
              0,
              "#0d0887"
             ],
             [
              0.1111111111111111,
              "#46039f"
             ],
             [
              0.2222222222222222,
              "#7201a8"
             ],
             [
              0.3333333333333333,
              "#9c179e"
             ],
             [
              0.4444444444444444,
              "#bd3786"
             ],
             [
              0.5555555555555556,
              "#d8576b"
             ],
             [
              0.6666666666666666,
              "#ed7953"
             ],
             [
              0.7777777777777778,
              "#fb9f3a"
             ],
             [
              0.8888888888888888,
              "#fdca26"
             ],
             [
              1,
              "#f0f921"
             ]
            ],
            "type": "heatmap"
           }
          ],
          "heatmapgl": [
           {
            "colorbar": {
             "outlinewidth": 0,
             "ticks": ""
            },
            "colorscale": [
             [
              0,
              "#0d0887"
             ],
             [
              0.1111111111111111,
              "#46039f"
             ],
             [
              0.2222222222222222,
              "#7201a8"
             ],
             [
              0.3333333333333333,
              "#9c179e"
             ],
             [
              0.4444444444444444,
              "#bd3786"
             ],
             [
              0.5555555555555556,
              "#d8576b"
             ],
             [
              0.6666666666666666,
              "#ed7953"
             ],
             [
              0.7777777777777778,
              "#fb9f3a"
             ],
             [
              0.8888888888888888,
              "#fdca26"
             ],
             [
              1,
              "#f0f921"
             ]
            ],
            "type": "heatmapgl"
           }
          ],
          "histogram": [
           {
            "marker": {
             "pattern": {
              "fillmode": "overlay",
              "size": 10,
              "solidity": 0.2
             }
            },
            "type": "histogram"
           }
          ],
          "histogram2d": [
           {
            "colorbar": {
             "outlinewidth": 0,
             "ticks": ""
            },
            "colorscale": [
             [
              0,
              "#0d0887"
             ],
             [
              0.1111111111111111,
              "#46039f"
             ],
             [
              0.2222222222222222,
              "#7201a8"
             ],
             [
              0.3333333333333333,
              "#9c179e"
             ],
             [
              0.4444444444444444,
              "#bd3786"
             ],
             [
              0.5555555555555556,
              "#d8576b"
             ],
             [
              0.6666666666666666,
              "#ed7953"
             ],
             [
              0.7777777777777778,
              "#fb9f3a"
             ],
             [
              0.8888888888888888,
              "#fdca26"
             ],
             [
              1,
              "#f0f921"
             ]
            ],
            "type": "histogram2d"
           }
          ],
          "histogram2dcontour": [
           {
            "colorbar": {
             "outlinewidth": 0,
             "ticks": ""
            },
            "colorscale": [
             [
              0,
              "#0d0887"
             ],
             [
              0.1111111111111111,
              "#46039f"
             ],
             [
              0.2222222222222222,
              "#7201a8"
             ],
             [
              0.3333333333333333,
              "#9c179e"
             ],
             [
              0.4444444444444444,
              "#bd3786"
             ],
             [
              0.5555555555555556,
              "#d8576b"
             ],
             [
              0.6666666666666666,
              "#ed7953"
             ],
             [
              0.7777777777777778,
              "#fb9f3a"
             ],
             [
              0.8888888888888888,
              "#fdca26"
             ],
             [
              1,
              "#f0f921"
             ]
            ],
            "type": "histogram2dcontour"
           }
          ],
          "mesh3d": [
           {
            "colorbar": {
             "outlinewidth": 0,
             "ticks": ""
            },
            "type": "mesh3d"
           }
          ],
          "parcoords": [
           {
            "line": {
             "colorbar": {
              "outlinewidth": 0,
              "ticks": ""
             }
            },
            "type": "parcoords"
           }
          ],
          "pie": [
           {
            "automargin": true,
            "type": "pie"
           }
          ],
          "scatter": [
           {
            "fillpattern": {
             "fillmode": "overlay",
             "size": 10,
             "solidity": 0.2
            },
            "type": "scatter"
           }
          ],
          "scatter3d": [
           {
            "line": {
             "colorbar": {
              "outlinewidth": 0,
              "ticks": ""
             }
            },
            "marker": {
             "colorbar": {
              "outlinewidth": 0,
              "ticks": ""
             }
            },
            "type": "scatter3d"
           }
          ],
          "scattercarpet": [
           {
            "marker": {
             "colorbar": {
              "outlinewidth": 0,
              "ticks": ""
             }
            },
            "type": "scattercarpet"
           }
          ],
          "scattergeo": [
           {
            "marker": {
             "colorbar": {
              "outlinewidth": 0,
              "ticks": ""
             }
            },
            "type": "scattergeo"
           }
          ],
          "scattergl": [
           {
            "marker": {
             "colorbar": {
              "outlinewidth": 0,
              "ticks": ""
             }
            },
            "type": "scattergl"
           }
          ],
          "scattermapbox": [
           {
            "marker": {
             "colorbar": {
              "outlinewidth": 0,
              "ticks": ""
             }
            },
            "type": "scattermapbox"
           }
          ],
          "scatterpolar": [
           {
            "marker": {
             "colorbar": {
              "outlinewidth": 0,
              "ticks": ""
             }
            },
            "type": "scatterpolar"
           }
          ],
          "scatterpolargl": [
           {
            "marker": {
             "colorbar": {
              "outlinewidth": 0,
              "ticks": ""
             }
            },
            "type": "scatterpolargl"
           }
          ],
          "scatterternary": [
           {
            "marker": {
             "colorbar": {
              "outlinewidth": 0,
              "ticks": ""
             }
            },
            "type": "scatterternary"
           }
          ],
          "surface": [
           {
            "colorbar": {
             "outlinewidth": 0,
             "ticks": ""
            },
            "colorscale": [
             [
              0,
              "#0d0887"
             ],
             [
              0.1111111111111111,
              "#46039f"
             ],
             [
              0.2222222222222222,
              "#7201a8"
             ],
             [
              0.3333333333333333,
              "#9c179e"
             ],
             [
              0.4444444444444444,
              "#bd3786"
             ],
             [
              0.5555555555555556,
              "#d8576b"
             ],
             [
              0.6666666666666666,
              "#ed7953"
             ],
             [
              0.7777777777777778,
              "#fb9f3a"
             ],
             [
              0.8888888888888888,
              "#fdca26"
             ],
             [
              1,
              "#f0f921"
             ]
            ],
            "type": "surface"
           }
          ],
          "table": [
           {
            "cells": {
             "fill": {
              "color": "#EBF0F8"
             },
             "line": {
              "color": "white"
             }
            },
            "header": {
             "fill": {
              "color": "#C8D4E3"
             },
             "line": {
              "color": "white"
             }
            },
            "type": "table"
           }
          ]
         },
         "layout": {
          "annotationdefaults": {
           "arrowcolor": "#2a3f5f",
           "arrowhead": 0,
           "arrowwidth": 1
          },
          "autotypenumbers": "strict",
          "coloraxis": {
           "colorbar": {
            "outlinewidth": 0,
            "ticks": ""
           }
          },
          "colorscale": {
           "diverging": [
            [
             0,
             "#8e0152"
            ],
            [
             0.1,
             "#c51b7d"
            ],
            [
             0.2,
             "#de77ae"
            ],
            [
             0.3,
             "#f1b6da"
            ],
            [
             0.4,
             "#fde0ef"
            ],
            [
             0.5,
             "#f7f7f7"
            ],
            [
             0.6,
             "#e6f5d0"
            ],
            [
             0.7,
             "#b8e186"
            ],
            [
             0.8,
             "#7fbc41"
            ],
            [
             0.9,
             "#4d9221"
            ],
            [
             1,
             "#276419"
            ]
           ],
           "sequential": [
            [
             0,
             "#0d0887"
            ],
            [
             0.1111111111111111,
             "#46039f"
            ],
            [
             0.2222222222222222,
             "#7201a8"
            ],
            [
             0.3333333333333333,
             "#9c179e"
            ],
            [
             0.4444444444444444,
             "#bd3786"
            ],
            [
             0.5555555555555556,
             "#d8576b"
            ],
            [
             0.6666666666666666,
             "#ed7953"
            ],
            [
             0.7777777777777778,
             "#fb9f3a"
            ],
            [
             0.8888888888888888,
             "#fdca26"
            ],
            [
             1,
             "#f0f921"
            ]
           ],
           "sequentialminus": [
            [
             0,
             "#0d0887"
            ],
            [
             0.1111111111111111,
             "#46039f"
            ],
            [
             0.2222222222222222,
             "#7201a8"
            ],
            [
             0.3333333333333333,
             "#9c179e"
            ],
            [
             0.4444444444444444,
             "#bd3786"
            ],
            [
             0.5555555555555556,
             "#d8576b"
            ],
            [
             0.6666666666666666,
             "#ed7953"
            ],
            [
             0.7777777777777778,
             "#fb9f3a"
            ],
            [
             0.8888888888888888,
             "#fdca26"
            ],
            [
             1,
             "#f0f921"
            ]
           ]
          },
          "colorway": [
           "#636efa",
           "#EF553B",
           "#00cc96",
           "#ab63fa",
           "#FFA15A",
           "#19d3f3",
           "#FF6692",
           "#B6E880",
           "#FF97FF",
           "#FECB52"
          ],
          "font": {
           "color": "#2a3f5f"
          },
          "geo": {
           "bgcolor": "white",
           "lakecolor": "white",
           "landcolor": "#E5ECF6",
           "showlakes": true,
           "showland": true,
           "subunitcolor": "white"
          },
          "hoverlabel": {
           "align": "left"
          },
          "hovermode": "closest",
          "mapbox": {
           "style": "light"
          },
          "paper_bgcolor": "white",
          "plot_bgcolor": "#E5ECF6",
          "polar": {
           "angularaxis": {
            "gridcolor": "white",
            "linecolor": "white",
            "ticks": ""
           },
           "bgcolor": "#E5ECF6",
           "radialaxis": {
            "gridcolor": "white",
            "linecolor": "white",
            "ticks": ""
           }
          },
          "scene": {
           "xaxis": {
            "backgroundcolor": "#E5ECF6",
            "gridcolor": "white",
            "gridwidth": 2,
            "linecolor": "white",
            "showbackground": true,
            "ticks": "",
            "zerolinecolor": "white"
           },
           "yaxis": {
            "backgroundcolor": "#E5ECF6",
            "gridcolor": "white",
            "gridwidth": 2,
            "linecolor": "white",
            "showbackground": true,
            "ticks": "",
            "zerolinecolor": "white"
           },
           "zaxis": {
            "backgroundcolor": "#E5ECF6",
            "gridcolor": "white",
            "gridwidth": 2,
            "linecolor": "white",
            "showbackground": true,
            "ticks": "",
            "zerolinecolor": "white"
           }
          },
          "shapedefaults": {
           "line": {
            "color": "#2a3f5f"
           }
          },
          "ternary": {
           "aaxis": {
            "gridcolor": "white",
            "linecolor": "white",
            "ticks": ""
           },
           "baxis": {
            "gridcolor": "white",
            "linecolor": "white",
            "ticks": ""
           },
           "bgcolor": "#E5ECF6",
           "caxis": {
            "gridcolor": "white",
            "linecolor": "white",
            "ticks": ""
           }
          },
          "title": {
           "x": 0.05
          },
          "xaxis": {
           "automargin": true,
           "gridcolor": "white",
           "linecolor": "white",
           "ticks": "",
           "title": {
            "standoff": 15
           },
           "zerolinecolor": "white",
           "zerolinewidth": 2
          },
          "yaxis": {
           "automargin": true,
           "gridcolor": "white",
           "linecolor": "white",
           "ticks": "",
           "title": {
            "standoff": 15
           },
           "zerolinecolor": "white",
           "zerolinewidth": 2
          }
         }
        },
        "title": {
         "text": "Quantidade de Instituições por Segmento"
        },
        "xaxis": {
         "anchor": "y",
         "domain": [
          0,
          1
         ],
         "title": {
          "text": "Segmento Instituição"
         }
        },
        "yaxis": {
         "anchor": "x",
         "domain": [
          0,
          1
         ],
         "title": {
          "text": "Quantidade de Instituições"
         }
        }
       }
      }
     },
     "metadata": {},
     "output_type": "display_data"
    }
   ],
   "source": [
    "df = pd.DataFrame(relatorio, columns=[\"nom_segto_instituicao\",\"nom_instituicao\"]).groupby(\"nom_segto_instituicao\").count()\n",
    "px.bar(df,\n",
    "       x=list(df.index),\n",
    "       y=list(df[\"nom_instituicao\"]),\n",
    "       labels={\"y\": \"Quantidade de Instituições\",\n",
    "               \"x\": \"Segmento Instituição\"},\n",
    "       title=\"Quantidade de Instituições por Segmento\")"
   ]
  },
  {
   "cell_type": "code",
   "execution_count": 13,
   "metadata": {},
   "outputs": [
    {
     "data": {
      "application/vnd.plotly.v1+json": {
       "config": {
        "plotlyServerURL": "https://plot.ly"
       },
       "data": [
        {
         "alignmentgroup": "True",
         "hovertemplate": "Instituições Financeiras=%{x}<br>Quantidade de Clientes=%{y}<extra></extra>",
         "legendgroup": "",
         "marker": {
          "color": "#636efa",
          "pattern": {
           "shape": ""
          }
         },
         "name": "",
         "offsetgroup": "",
         "orientation": "v",
         "showlegend": false,
         "textposition": "auto",
         "type": "bar",
         "x": [
          "CAIXA ECONOMICA FEDERAL",
          "BRADESCO",
          "ITAU",
          "SANTANDER",
          "ORIGINAL",
          "VOTORANTIM",
          "BMG",
          "BANCO DO NORDESTE DO BRASIL S.A.",
          "PAN",
          "SICREDI",
          "BANRISUL",
          "BNP PARIBAS",
          "BTG PACTUAL",
          "ALFA",
          "BANCO FIBRA S.A.",
          "PINE",
          "MERCEDES-BENZ",
          "CITIBANK",
          "CREDIT SUISSE",
          "BOFA MERRILL LYNCH",
          "JP MORGAN CHASE",
          "DEUTSCHE",
          "BANCO SUMITOMO MITSUI BRASIL S.A.",
          "SOCIETE GENERALE"
         ],
         "xaxis": "x",
         "y": [
          148308904,
          102814534,
          97712980,
          62028657,
          47994411,
          21892612,
          12267412,
          9384798,
          8907890,
          7410928,
          5213189,
          2456247,
          766998,
          439630,
          164195,
          119595,
          20651,
          18935,
          5997,
          4928,
          4029,
          2112,
          1180,
          670
         ],
         "yaxis": "y"
        }
       ],
       "layout": {
        "barmode": "relative",
        "legend": {
         "tracegroupgap": 0
        },
        "template": {
         "data": {
          "bar": [
           {
            "error_x": {
             "color": "#2a3f5f"
            },
            "error_y": {
             "color": "#2a3f5f"
            },
            "marker": {
             "line": {
              "color": "#E5ECF6",
              "width": 0.5
             },
             "pattern": {
              "fillmode": "overlay",
              "size": 10,
              "solidity": 0.2
             }
            },
            "type": "bar"
           }
          ],
          "barpolar": [
           {
            "marker": {
             "line": {
              "color": "#E5ECF6",
              "width": 0.5
             },
             "pattern": {
              "fillmode": "overlay",
              "size": 10,
              "solidity": 0.2
             }
            },
            "type": "barpolar"
           }
          ],
          "carpet": [
           {
            "aaxis": {
             "endlinecolor": "#2a3f5f",
             "gridcolor": "white",
             "linecolor": "white",
             "minorgridcolor": "white",
             "startlinecolor": "#2a3f5f"
            },
            "baxis": {
             "endlinecolor": "#2a3f5f",
             "gridcolor": "white",
             "linecolor": "white",
             "minorgridcolor": "white",
             "startlinecolor": "#2a3f5f"
            },
            "type": "carpet"
           }
          ],
          "choropleth": [
           {
            "colorbar": {
             "outlinewidth": 0,
             "ticks": ""
            },
            "type": "choropleth"
           }
          ],
          "contour": [
           {
            "colorbar": {
             "outlinewidth": 0,
             "ticks": ""
            },
            "colorscale": [
             [
              0,
              "#0d0887"
             ],
             [
              0.1111111111111111,
              "#46039f"
             ],
             [
              0.2222222222222222,
              "#7201a8"
             ],
             [
              0.3333333333333333,
              "#9c179e"
             ],
             [
              0.4444444444444444,
              "#bd3786"
             ],
             [
              0.5555555555555556,
              "#d8576b"
             ],
             [
              0.6666666666666666,
              "#ed7953"
             ],
             [
              0.7777777777777778,
              "#fb9f3a"
             ],
             [
              0.8888888888888888,
              "#fdca26"
             ],
             [
              1,
              "#f0f921"
             ]
            ],
            "type": "contour"
           }
          ],
          "contourcarpet": [
           {
            "colorbar": {
             "outlinewidth": 0,
             "ticks": ""
            },
            "type": "contourcarpet"
           }
          ],
          "heatmap": [
           {
            "colorbar": {
             "outlinewidth": 0,
             "ticks": ""
            },
            "colorscale": [
             [
              0,
              "#0d0887"
             ],
             [
              0.1111111111111111,
              "#46039f"
             ],
             [
              0.2222222222222222,
              "#7201a8"
             ],
             [
              0.3333333333333333,
              "#9c179e"
             ],
             [
              0.4444444444444444,
              "#bd3786"
             ],
             [
              0.5555555555555556,
              "#d8576b"
             ],
             [
              0.6666666666666666,
              "#ed7953"
             ],
             [
              0.7777777777777778,
              "#fb9f3a"
             ],
             [
              0.8888888888888888,
              "#fdca26"
             ],
             [
              1,
              "#f0f921"
             ]
            ],
            "type": "heatmap"
           }
          ],
          "heatmapgl": [
           {
            "colorbar": {
             "outlinewidth": 0,
             "ticks": ""
            },
            "colorscale": [
             [
              0,
              "#0d0887"
             ],
             [
              0.1111111111111111,
              "#46039f"
             ],
             [
              0.2222222222222222,
              "#7201a8"
             ],
             [
              0.3333333333333333,
              "#9c179e"
             ],
             [
              0.4444444444444444,
              "#bd3786"
             ],
             [
              0.5555555555555556,
              "#d8576b"
             ],
             [
              0.6666666666666666,
              "#ed7953"
             ],
             [
              0.7777777777777778,
              "#fb9f3a"
             ],
             [
              0.8888888888888888,
              "#fdca26"
             ],
             [
              1,
              "#f0f921"
             ]
            ],
            "type": "heatmapgl"
           }
          ],
          "histogram": [
           {
            "marker": {
             "pattern": {
              "fillmode": "overlay",
              "size": 10,
              "solidity": 0.2
             }
            },
            "type": "histogram"
           }
          ],
          "histogram2d": [
           {
            "colorbar": {
             "outlinewidth": 0,
             "ticks": ""
            },
            "colorscale": [
             [
              0,
              "#0d0887"
             ],
             [
              0.1111111111111111,
              "#46039f"
             ],
             [
              0.2222222222222222,
              "#7201a8"
             ],
             [
              0.3333333333333333,
              "#9c179e"
             ],
             [
              0.4444444444444444,
              "#bd3786"
             ],
             [
              0.5555555555555556,
              "#d8576b"
             ],
             [
              0.6666666666666666,
              "#ed7953"
             ],
             [
              0.7777777777777778,
              "#fb9f3a"
             ],
             [
              0.8888888888888888,
              "#fdca26"
             ],
             [
              1,
              "#f0f921"
             ]
            ],
            "type": "histogram2d"
           }
          ],
          "histogram2dcontour": [
           {
            "colorbar": {
             "outlinewidth": 0,
             "ticks": ""
            },
            "colorscale": [
             [
              0,
              "#0d0887"
             ],
             [
              0.1111111111111111,
              "#46039f"
             ],
             [
              0.2222222222222222,
              "#7201a8"
             ],
             [
              0.3333333333333333,
              "#9c179e"
             ],
             [
              0.4444444444444444,
              "#bd3786"
             ],
             [
              0.5555555555555556,
              "#d8576b"
             ],
             [
              0.6666666666666666,
              "#ed7953"
             ],
             [
              0.7777777777777778,
              "#fb9f3a"
             ],
             [
              0.8888888888888888,
              "#fdca26"
             ],
             [
              1,
              "#f0f921"
             ]
            ],
            "type": "histogram2dcontour"
           }
          ],
          "mesh3d": [
           {
            "colorbar": {
             "outlinewidth": 0,
             "ticks": ""
            },
            "type": "mesh3d"
           }
          ],
          "parcoords": [
           {
            "line": {
             "colorbar": {
              "outlinewidth": 0,
              "ticks": ""
             }
            },
            "type": "parcoords"
           }
          ],
          "pie": [
           {
            "automargin": true,
            "type": "pie"
           }
          ],
          "scatter": [
           {
            "fillpattern": {
             "fillmode": "overlay",
             "size": 10,
             "solidity": 0.2
            },
            "type": "scatter"
           }
          ],
          "scatter3d": [
           {
            "line": {
             "colorbar": {
              "outlinewidth": 0,
              "ticks": ""
             }
            },
            "marker": {
             "colorbar": {
              "outlinewidth": 0,
              "ticks": ""
             }
            },
            "type": "scatter3d"
           }
          ],
          "scattercarpet": [
           {
            "marker": {
             "colorbar": {
              "outlinewidth": 0,
              "ticks": ""
             }
            },
            "type": "scattercarpet"
           }
          ],
          "scattergeo": [
           {
            "marker": {
             "colorbar": {
              "outlinewidth": 0,
              "ticks": ""
             }
            },
            "type": "scattergeo"
           }
          ],
          "scattergl": [
           {
            "marker": {
             "colorbar": {
              "outlinewidth": 0,
              "ticks": ""
             }
            },
            "type": "scattergl"
           }
          ],
          "scattermapbox": [
           {
            "marker": {
             "colorbar": {
              "outlinewidth": 0,
              "ticks": ""
             }
            },
            "type": "scattermapbox"
           }
          ],
          "scatterpolar": [
           {
            "marker": {
             "colorbar": {
              "outlinewidth": 0,
              "ticks": ""
             }
            },
            "type": "scatterpolar"
           }
          ],
          "scatterpolargl": [
           {
            "marker": {
             "colorbar": {
              "outlinewidth": 0,
              "ticks": ""
             }
            },
            "type": "scatterpolargl"
           }
          ],
          "scatterternary": [
           {
            "marker": {
             "colorbar": {
              "outlinewidth": 0,
              "ticks": ""
             }
            },
            "type": "scatterternary"
           }
          ],
          "surface": [
           {
            "colorbar": {
             "outlinewidth": 0,
             "ticks": ""
            },
            "colorscale": [
             [
              0,
              "#0d0887"
             ],
             [
              0.1111111111111111,
              "#46039f"
             ],
             [
              0.2222222222222222,
              "#7201a8"
             ],
             [
              0.3333333333333333,
              "#9c179e"
             ],
             [
              0.4444444444444444,
              "#bd3786"
             ],
             [
              0.5555555555555556,
              "#d8576b"
             ],
             [
              0.6666666666666666,
              "#ed7953"
             ],
             [
              0.7777777777777778,
              "#fb9f3a"
             ],
             [
              0.8888888888888888,
              "#fdca26"
             ],
             [
              1,
              "#f0f921"
             ]
            ],
            "type": "surface"
           }
          ],
          "table": [
           {
            "cells": {
             "fill": {
              "color": "#EBF0F8"
             },
             "line": {
              "color": "white"
             }
            },
            "header": {
             "fill": {
              "color": "#C8D4E3"
             },
             "line": {
              "color": "white"
             }
            },
            "type": "table"
           }
          ]
         },
         "layout": {
          "annotationdefaults": {
           "arrowcolor": "#2a3f5f",
           "arrowhead": 0,
           "arrowwidth": 1
          },
          "autotypenumbers": "strict",
          "coloraxis": {
           "colorbar": {
            "outlinewidth": 0,
            "ticks": ""
           }
          },
          "colorscale": {
           "diverging": [
            [
             0,
             "#8e0152"
            ],
            [
             0.1,
             "#c51b7d"
            ],
            [
             0.2,
             "#de77ae"
            ],
            [
             0.3,
             "#f1b6da"
            ],
            [
             0.4,
             "#fde0ef"
            ],
            [
             0.5,
             "#f7f7f7"
            ],
            [
             0.6,
             "#e6f5d0"
            ],
            [
             0.7,
             "#b8e186"
            ],
            [
             0.8,
             "#7fbc41"
            ],
            [
             0.9,
             "#4d9221"
            ],
            [
             1,
             "#276419"
            ]
           ],
           "sequential": [
            [
             0,
             "#0d0887"
            ],
            [
             0.1111111111111111,
             "#46039f"
            ],
            [
             0.2222222222222222,
             "#7201a8"
            ],
            [
             0.3333333333333333,
             "#9c179e"
            ],
            [
             0.4444444444444444,
             "#bd3786"
            ],
            [
             0.5555555555555556,
             "#d8576b"
            ],
            [
             0.6666666666666666,
             "#ed7953"
            ],
            [
             0.7777777777777778,
             "#fb9f3a"
            ],
            [
             0.8888888888888888,
             "#fdca26"
            ],
            [
             1,
             "#f0f921"
            ]
           ],
           "sequentialminus": [
            [
             0,
             "#0d0887"
            ],
            [
             0.1111111111111111,
             "#46039f"
            ],
            [
             0.2222222222222222,
             "#7201a8"
            ],
            [
             0.3333333333333333,
             "#9c179e"
            ],
            [
             0.4444444444444444,
             "#bd3786"
            ],
            [
             0.5555555555555556,
             "#d8576b"
            ],
            [
             0.6666666666666666,
             "#ed7953"
            ],
            [
             0.7777777777777778,
             "#fb9f3a"
            ],
            [
             0.8888888888888888,
             "#fdca26"
            ],
            [
             1,
             "#f0f921"
            ]
           ]
          },
          "colorway": [
           "#636efa",
           "#EF553B",
           "#00cc96",
           "#ab63fa",
           "#FFA15A",
           "#19d3f3",
           "#FF6692",
           "#B6E880",
           "#FF97FF",
           "#FECB52"
          ],
          "font": {
           "color": "#2a3f5f"
          },
          "geo": {
           "bgcolor": "white",
           "lakecolor": "white",
           "landcolor": "#E5ECF6",
           "showlakes": true,
           "showland": true,
           "subunitcolor": "white"
          },
          "hoverlabel": {
           "align": "left"
          },
          "hovermode": "closest",
          "mapbox": {
           "style": "light"
          },
          "paper_bgcolor": "white",
          "plot_bgcolor": "#E5ECF6",
          "polar": {
           "angularaxis": {
            "gridcolor": "white",
            "linecolor": "white",
            "ticks": ""
           },
           "bgcolor": "#E5ECF6",
           "radialaxis": {
            "gridcolor": "white",
            "linecolor": "white",
            "ticks": ""
           }
          },
          "scene": {
           "xaxis": {
            "backgroundcolor": "#E5ECF6",
            "gridcolor": "white",
            "gridwidth": 2,
            "linecolor": "white",
            "showbackground": true,
            "ticks": "",
            "zerolinecolor": "white"
           },
           "yaxis": {
            "backgroundcolor": "#E5ECF6",
            "gridcolor": "white",
            "gridwidth": 2,
            "linecolor": "white",
            "showbackground": true,
            "ticks": "",
            "zerolinecolor": "white"
           },
           "zaxis": {
            "backgroundcolor": "#E5ECF6",
            "gridcolor": "white",
            "gridwidth": 2,
            "linecolor": "white",
            "showbackground": true,
            "ticks": "",
            "zerolinecolor": "white"
           }
          },
          "shapedefaults": {
           "line": {
            "color": "#2a3f5f"
           }
          },
          "ternary": {
           "aaxis": {
            "gridcolor": "white",
            "linecolor": "white",
            "ticks": ""
           },
           "baxis": {
            "gridcolor": "white",
            "linecolor": "white",
            "ticks": ""
           },
           "bgcolor": "#E5ECF6",
           "caxis": {
            "gridcolor": "white",
            "linecolor": "white",
            "ticks": ""
           }
          },
          "title": {
           "x": 0.05
          },
          "xaxis": {
           "automargin": true,
           "gridcolor": "white",
           "linecolor": "white",
           "ticks": "",
           "title": {
            "standoff": 15
           },
           "zerolinecolor": "white",
           "zerolinewidth": 2
          },
          "yaxis": {
           "automargin": true,
           "gridcolor": "white",
           "linecolor": "white",
           "ticks": "",
           "title": {
            "standoff": 15
           },
           "zerolinecolor": "white",
           "zerolinewidth": 2
          }
         }
        },
        "title": {
         "text": "Quantidade de Clientes por Instituição Financeira"
        },
        "xaxis": {
         "anchor": "y",
         "domain": [
          0,
          1
         ],
         "title": {
          "text": "Instituições Financeiras"
         }
        },
        "yaxis": {
         "anchor": "x",
         "domain": [
          0,
          1
         ],
         "title": {
          "text": "Quantidade de Clientes"
         }
        }
       }
      }
     },
     "metadata": {},
     "output_type": "display_data"
    }
   ],
   "source": [
    "df = relatorio.sort_values(\"max_qtd_totl_clie_ccs_scr\",ascending=False)\n",
    "px.bar(df,\n",
    "       x=list(df[\"nom_instituicao\"]),\n",
    "       y=list(df[\"max_qtd_totl_clie_ccs_scr\"]),\n",
    "       labels={\"y\": \"Quantidade de Clientes\",\n",
    "               \"x\": \"Instituições Financeiras\"},\n",
    "       title=\"Quantidade de Clientes por Instituição Financeira\")"
   ]
  },
  {
   "cell_type": "code",
   "execution_count": 14,
   "metadata": {},
   "outputs": [
    {
     "data": {
      "application/vnd.plotly.v1+json": {
       "config": {
        "plotlyServerURL": "https://plot.ly"
       },
       "data": [
        {
         "alignmentgroup": "True",
         "hovertemplate": "Instituições Financeiras=%{x}<br>Índice Médio Reclamações=%{y}<extra></extra>",
         "legendgroup": "",
         "marker": {
          "color": "#636efa",
          "pattern": {
           "shape": ""
          }
         },
         "name": "",
         "offsetgroup": "",
         "orientation": "v",
         "showlegend": false,
         "textposition": "auto",
         "type": "bar",
         "x": [
          "PAN",
          "BNP PARIBAS",
          "BMG",
          "ORIGINAL",
          "BANRISUL",
          "CAIXA ECONOMICA FEDERAL",
          "BRADESCO",
          "SANTANDER",
          "VOTORANTIM",
          "ITAU",
          "CREDIT SUISSE",
          "ALFA",
          "CITIBANK",
          "SOCIETE GENERALE",
          "BOFA MERRILL LYNCH",
          "JP MORGAN CHASE",
          "MERCEDES-BENZ",
          "BANCO SUMITOMO MITSUI BRASIL S.A.",
          "PINE",
          "BANCO DO NORDESTE DO BRASIL S.A.",
          "BTG PACTUAL",
          "DEUTSCHE",
          "BANCO FIBRA S.A.",
          "SICREDI"
         ],
         "xaxis": "x",
         "y": [
          245.28,
          192.1,
          165.2,
          79.22,
          37.68,
          36.2,
          36.03,
          31.38,
          20.82,
          19.72,
          null,
          null,
          null,
          null,
          null,
          null,
          null,
          null,
          null,
          null,
          null,
          null,
          null,
          null
         ],
         "yaxis": "y"
        }
       ],
       "layout": {
        "barmode": "relative",
        "legend": {
         "tracegroupgap": 0
        },
        "template": {
         "data": {
          "bar": [
           {
            "error_x": {
             "color": "#2a3f5f"
            },
            "error_y": {
             "color": "#2a3f5f"
            },
            "marker": {
             "line": {
              "color": "#E5ECF6",
              "width": 0.5
             },
             "pattern": {
              "fillmode": "overlay",
              "size": 10,
              "solidity": 0.2
             }
            },
            "type": "bar"
           }
          ],
          "barpolar": [
           {
            "marker": {
             "line": {
              "color": "#E5ECF6",
              "width": 0.5
             },
             "pattern": {
              "fillmode": "overlay",
              "size": 10,
              "solidity": 0.2
             }
            },
            "type": "barpolar"
           }
          ],
          "carpet": [
           {
            "aaxis": {
             "endlinecolor": "#2a3f5f",
             "gridcolor": "white",
             "linecolor": "white",
             "minorgridcolor": "white",
             "startlinecolor": "#2a3f5f"
            },
            "baxis": {
             "endlinecolor": "#2a3f5f",
             "gridcolor": "white",
             "linecolor": "white",
             "minorgridcolor": "white",
             "startlinecolor": "#2a3f5f"
            },
            "type": "carpet"
           }
          ],
          "choropleth": [
           {
            "colorbar": {
             "outlinewidth": 0,
             "ticks": ""
            },
            "type": "choropleth"
           }
          ],
          "contour": [
           {
            "colorbar": {
             "outlinewidth": 0,
             "ticks": ""
            },
            "colorscale": [
             [
              0,
              "#0d0887"
             ],
             [
              0.1111111111111111,
              "#46039f"
             ],
             [
              0.2222222222222222,
              "#7201a8"
             ],
             [
              0.3333333333333333,
              "#9c179e"
             ],
             [
              0.4444444444444444,
              "#bd3786"
             ],
             [
              0.5555555555555556,
              "#d8576b"
             ],
             [
              0.6666666666666666,
              "#ed7953"
             ],
             [
              0.7777777777777778,
              "#fb9f3a"
             ],
             [
              0.8888888888888888,
              "#fdca26"
             ],
             [
              1,
              "#f0f921"
             ]
            ],
            "type": "contour"
           }
          ],
          "contourcarpet": [
           {
            "colorbar": {
             "outlinewidth": 0,
             "ticks": ""
            },
            "type": "contourcarpet"
           }
          ],
          "heatmap": [
           {
            "colorbar": {
             "outlinewidth": 0,
             "ticks": ""
            },
            "colorscale": [
             [
              0,
              "#0d0887"
             ],
             [
              0.1111111111111111,
              "#46039f"
             ],
             [
              0.2222222222222222,
              "#7201a8"
             ],
             [
              0.3333333333333333,
              "#9c179e"
             ],
             [
              0.4444444444444444,
              "#bd3786"
             ],
             [
              0.5555555555555556,
              "#d8576b"
             ],
             [
              0.6666666666666666,
              "#ed7953"
             ],
             [
              0.7777777777777778,
              "#fb9f3a"
             ],
             [
              0.8888888888888888,
              "#fdca26"
             ],
             [
              1,
              "#f0f921"
             ]
            ],
            "type": "heatmap"
           }
          ],
          "heatmapgl": [
           {
            "colorbar": {
             "outlinewidth": 0,
             "ticks": ""
            },
            "colorscale": [
             [
              0,
              "#0d0887"
             ],
             [
              0.1111111111111111,
              "#46039f"
             ],
             [
              0.2222222222222222,
              "#7201a8"
             ],
             [
              0.3333333333333333,
              "#9c179e"
             ],
             [
              0.4444444444444444,
              "#bd3786"
             ],
             [
              0.5555555555555556,
              "#d8576b"
             ],
             [
              0.6666666666666666,
              "#ed7953"
             ],
             [
              0.7777777777777778,
              "#fb9f3a"
             ],
             [
              0.8888888888888888,
              "#fdca26"
             ],
             [
              1,
              "#f0f921"
             ]
            ],
            "type": "heatmapgl"
           }
          ],
          "histogram": [
           {
            "marker": {
             "pattern": {
              "fillmode": "overlay",
              "size": 10,
              "solidity": 0.2
             }
            },
            "type": "histogram"
           }
          ],
          "histogram2d": [
           {
            "colorbar": {
             "outlinewidth": 0,
             "ticks": ""
            },
            "colorscale": [
             [
              0,
              "#0d0887"
             ],
             [
              0.1111111111111111,
              "#46039f"
             ],
             [
              0.2222222222222222,
              "#7201a8"
             ],
             [
              0.3333333333333333,
              "#9c179e"
             ],
             [
              0.4444444444444444,
              "#bd3786"
             ],
             [
              0.5555555555555556,
              "#d8576b"
             ],
             [
              0.6666666666666666,
              "#ed7953"
             ],
             [
              0.7777777777777778,
              "#fb9f3a"
             ],
             [
              0.8888888888888888,
              "#fdca26"
             ],
             [
              1,
              "#f0f921"
             ]
            ],
            "type": "histogram2d"
           }
          ],
          "histogram2dcontour": [
           {
            "colorbar": {
             "outlinewidth": 0,
             "ticks": ""
            },
            "colorscale": [
             [
              0,
              "#0d0887"
             ],
             [
              0.1111111111111111,
              "#46039f"
             ],
             [
              0.2222222222222222,
              "#7201a8"
             ],
             [
              0.3333333333333333,
              "#9c179e"
             ],
             [
              0.4444444444444444,
              "#bd3786"
             ],
             [
              0.5555555555555556,
              "#d8576b"
             ],
             [
              0.6666666666666666,
              "#ed7953"
             ],
             [
              0.7777777777777778,
              "#fb9f3a"
             ],
             [
              0.8888888888888888,
              "#fdca26"
             ],
             [
              1,
              "#f0f921"
             ]
            ],
            "type": "histogram2dcontour"
           }
          ],
          "mesh3d": [
           {
            "colorbar": {
             "outlinewidth": 0,
             "ticks": ""
            },
            "type": "mesh3d"
           }
          ],
          "parcoords": [
           {
            "line": {
             "colorbar": {
              "outlinewidth": 0,
              "ticks": ""
             }
            },
            "type": "parcoords"
           }
          ],
          "pie": [
           {
            "automargin": true,
            "type": "pie"
           }
          ],
          "scatter": [
           {
            "fillpattern": {
             "fillmode": "overlay",
             "size": 10,
             "solidity": 0.2
            },
            "type": "scatter"
           }
          ],
          "scatter3d": [
           {
            "line": {
             "colorbar": {
              "outlinewidth": 0,
              "ticks": ""
             }
            },
            "marker": {
             "colorbar": {
              "outlinewidth": 0,
              "ticks": ""
             }
            },
            "type": "scatter3d"
           }
          ],
          "scattercarpet": [
           {
            "marker": {
             "colorbar": {
              "outlinewidth": 0,
              "ticks": ""
             }
            },
            "type": "scattercarpet"
           }
          ],
          "scattergeo": [
           {
            "marker": {
             "colorbar": {
              "outlinewidth": 0,
              "ticks": ""
             }
            },
            "type": "scattergeo"
           }
          ],
          "scattergl": [
           {
            "marker": {
             "colorbar": {
              "outlinewidth": 0,
              "ticks": ""
             }
            },
            "type": "scattergl"
           }
          ],
          "scattermapbox": [
           {
            "marker": {
             "colorbar": {
              "outlinewidth": 0,
              "ticks": ""
             }
            },
            "type": "scattermapbox"
           }
          ],
          "scatterpolar": [
           {
            "marker": {
             "colorbar": {
              "outlinewidth": 0,
              "ticks": ""
             }
            },
            "type": "scatterpolar"
           }
          ],
          "scatterpolargl": [
           {
            "marker": {
             "colorbar": {
              "outlinewidth": 0,
              "ticks": ""
             }
            },
            "type": "scatterpolargl"
           }
          ],
          "scatterternary": [
           {
            "marker": {
             "colorbar": {
              "outlinewidth": 0,
              "ticks": ""
             }
            },
            "type": "scatterternary"
           }
          ],
          "surface": [
           {
            "colorbar": {
             "outlinewidth": 0,
             "ticks": ""
            },
            "colorscale": [
             [
              0,
              "#0d0887"
             ],
             [
              0.1111111111111111,
              "#46039f"
             ],
             [
              0.2222222222222222,
              "#7201a8"
             ],
             [
              0.3333333333333333,
              "#9c179e"
             ],
             [
              0.4444444444444444,
              "#bd3786"
             ],
             [
              0.5555555555555556,
              "#d8576b"
             ],
             [
              0.6666666666666666,
              "#ed7953"
             ],
             [
              0.7777777777777778,
              "#fb9f3a"
             ],
             [
              0.8888888888888888,
              "#fdca26"
             ],
             [
              1,
              "#f0f921"
             ]
            ],
            "type": "surface"
           }
          ],
          "table": [
           {
            "cells": {
             "fill": {
              "color": "#EBF0F8"
             },
             "line": {
              "color": "white"
             }
            },
            "header": {
             "fill": {
              "color": "#C8D4E3"
             },
             "line": {
              "color": "white"
             }
            },
            "type": "table"
           }
          ]
         },
         "layout": {
          "annotationdefaults": {
           "arrowcolor": "#2a3f5f",
           "arrowhead": 0,
           "arrowwidth": 1
          },
          "autotypenumbers": "strict",
          "coloraxis": {
           "colorbar": {
            "outlinewidth": 0,
            "ticks": ""
           }
          },
          "colorscale": {
           "diverging": [
            [
             0,
             "#8e0152"
            ],
            [
             0.1,
             "#c51b7d"
            ],
            [
             0.2,
             "#de77ae"
            ],
            [
             0.3,
             "#f1b6da"
            ],
            [
             0.4,
             "#fde0ef"
            ],
            [
             0.5,
             "#f7f7f7"
            ],
            [
             0.6,
             "#e6f5d0"
            ],
            [
             0.7,
             "#b8e186"
            ],
            [
             0.8,
             "#7fbc41"
            ],
            [
             0.9,
             "#4d9221"
            ],
            [
             1,
             "#276419"
            ]
           ],
           "sequential": [
            [
             0,
             "#0d0887"
            ],
            [
             0.1111111111111111,
             "#46039f"
            ],
            [
             0.2222222222222222,
             "#7201a8"
            ],
            [
             0.3333333333333333,
             "#9c179e"
            ],
            [
             0.4444444444444444,
             "#bd3786"
            ],
            [
             0.5555555555555556,
             "#d8576b"
            ],
            [
             0.6666666666666666,
             "#ed7953"
            ],
            [
             0.7777777777777778,
             "#fb9f3a"
            ],
            [
             0.8888888888888888,
             "#fdca26"
            ],
            [
             1,
             "#f0f921"
            ]
           ],
           "sequentialminus": [
            [
             0,
             "#0d0887"
            ],
            [
             0.1111111111111111,
             "#46039f"
            ],
            [
             0.2222222222222222,
             "#7201a8"
            ],
            [
             0.3333333333333333,
             "#9c179e"
            ],
            [
             0.4444444444444444,
             "#bd3786"
            ],
            [
             0.5555555555555556,
             "#d8576b"
            ],
            [
             0.6666666666666666,
             "#ed7953"
            ],
            [
             0.7777777777777778,
             "#fb9f3a"
            ],
            [
             0.8888888888888888,
             "#fdca26"
            ],
            [
             1,
             "#f0f921"
            ]
           ]
          },
          "colorway": [
           "#636efa",
           "#EF553B",
           "#00cc96",
           "#ab63fa",
           "#FFA15A",
           "#19d3f3",
           "#FF6692",
           "#B6E880",
           "#FF97FF",
           "#FECB52"
          ],
          "font": {
           "color": "#2a3f5f"
          },
          "geo": {
           "bgcolor": "white",
           "lakecolor": "white",
           "landcolor": "#E5ECF6",
           "showlakes": true,
           "showland": true,
           "subunitcolor": "white"
          },
          "hoverlabel": {
           "align": "left"
          },
          "hovermode": "closest",
          "mapbox": {
           "style": "light"
          },
          "paper_bgcolor": "white",
          "plot_bgcolor": "#E5ECF6",
          "polar": {
           "angularaxis": {
            "gridcolor": "white",
            "linecolor": "white",
            "ticks": ""
           },
           "bgcolor": "#E5ECF6",
           "radialaxis": {
            "gridcolor": "white",
            "linecolor": "white",
            "ticks": ""
           }
          },
          "scene": {
           "xaxis": {
            "backgroundcolor": "#E5ECF6",
            "gridcolor": "white",
            "gridwidth": 2,
            "linecolor": "white",
            "showbackground": true,
            "ticks": "",
            "zerolinecolor": "white"
           },
           "yaxis": {
            "backgroundcolor": "#E5ECF6",
            "gridcolor": "white",
            "gridwidth": 2,
            "linecolor": "white",
            "showbackground": true,
            "ticks": "",
            "zerolinecolor": "white"
           },
           "zaxis": {
            "backgroundcolor": "#E5ECF6",
            "gridcolor": "white",
            "gridwidth": 2,
            "linecolor": "white",
            "showbackground": true,
            "ticks": "",
            "zerolinecolor": "white"
           }
          },
          "shapedefaults": {
           "line": {
            "color": "#2a3f5f"
           }
          },
          "ternary": {
           "aaxis": {
            "gridcolor": "white",
            "linecolor": "white",
            "ticks": ""
           },
           "baxis": {
            "gridcolor": "white",
            "linecolor": "white",
            "ticks": ""
           },
           "bgcolor": "#E5ECF6",
           "caxis": {
            "gridcolor": "white",
            "linecolor": "white",
            "ticks": ""
           }
          },
          "title": {
           "x": 0.05
          },
          "xaxis": {
           "automargin": true,
           "gridcolor": "white",
           "linecolor": "white",
           "ticks": "",
           "title": {
            "standoff": 15
           },
           "zerolinecolor": "white",
           "zerolinewidth": 2
          },
          "yaxis": {
           "automargin": true,
           "gridcolor": "white",
           "linecolor": "white",
           "ticks": "",
           "title": {
            "standoff": 15
           },
           "zerolinecolor": "white",
           "zerolinewidth": 2
          }
         }
        },
        "title": {
         "text": "Índice Médio Reclamações por Instituição Financeira"
        },
        "xaxis": {
         "anchor": "y",
         "domain": [
          0,
          1
         ],
         "title": {
          "text": "Instituições Financeiras"
         }
        },
        "yaxis": {
         "anchor": "x",
         "domain": [
          0,
          1
         ],
         "title": {
          "text": "Índice Médio Reclamações"
         }
        }
       }
      }
     },
     "metadata": {},
     "output_type": "display_data"
    }
   ],
   "source": [
    "df = relatorio.sort_values(\"avg_ind_recl\",ascending=False)\n",
    "px.bar(df,\n",
    "       x=list(df[\"nom_instituicao\"]),\n",
    "       y=list(df[\"avg_ind_recl\"]),\n",
    "       labels={\"y\": \"Índice Médio Reclamações\",\n",
    "               \"x\": \"Instituições Financeiras\"},\n",
    "       title=\"Índice Médio Reclamações por Instituição Financeira\")"
   ]
  },
  {
   "cell_type": "code",
   "execution_count": 15,
   "metadata": {},
   "outputs": [
    {
     "data": {
      "application/vnd.plotly.v1+json": {
       "config": {
        "plotlyServerURL": "https://plot.ly"
       },
       "data": [
        {
         "alignmentgroup": "True",
         "hovertemplate": "Instituições Financeiras=%{x}<br>Quantidade Total Reclamações=%{y}<extra></extra>",
         "legendgroup": "",
         "marker": {
          "color": "#636efa",
          "pattern": {
           "shape": ""
          }
         },
         "name": "",
         "offsetgroup": "",
         "orientation": "v",
         "showlegend": false,
         "textposition": "auto",
         "type": "bar",
         "x": [
          "CAIXA ECONOMICA FEDERAL",
          "BRADESCO",
          "SANTANDER",
          "ITAU",
          "PAN",
          "BMG",
          "ORIGINAL",
          "BNP PARIBAS",
          "VOTORANTIM",
          "BANRISUL",
          "BTG PACTUAL",
          "BANCO DO NORDESTE DO BRASIL S.A.",
          "ALFA",
          "CITIBANK",
          "MERCEDES-BENZ",
          "SICREDI",
          "PINE",
          "BANCO FIBRA S.A.",
          "CREDIT SUISSE",
          "JP MORGAN CHASE",
          "SOCIETE GENERALE",
          "BOFA MERRILL LYNCH",
          "DEUTSCHE",
          "BANCO SUMITOMO MITSUI BRASIL S.A."
         ],
         "xaxis": "x",
         "y": [
          16524,
          10693,
          7235,
          6878,
          3953,
          2398,
          2205,
          896,
          861,
          855,
          133,
          98,
          85,
          25,
          11,
          9,
          9,
          5,
          4,
          4,
          3,
          2,
          1,
          1
         ],
         "yaxis": "y"
        }
       ],
       "layout": {
        "barmode": "relative",
        "legend": {
         "tracegroupgap": 0
        },
        "template": {
         "data": {
          "bar": [
           {
            "error_x": {
             "color": "#2a3f5f"
            },
            "error_y": {
             "color": "#2a3f5f"
            },
            "marker": {
             "line": {
              "color": "#E5ECF6",
              "width": 0.5
             },
             "pattern": {
              "fillmode": "overlay",
              "size": 10,
              "solidity": 0.2
             }
            },
            "type": "bar"
           }
          ],
          "barpolar": [
           {
            "marker": {
             "line": {
              "color": "#E5ECF6",
              "width": 0.5
             },
             "pattern": {
              "fillmode": "overlay",
              "size": 10,
              "solidity": 0.2
             }
            },
            "type": "barpolar"
           }
          ],
          "carpet": [
           {
            "aaxis": {
             "endlinecolor": "#2a3f5f",
             "gridcolor": "white",
             "linecolor": "white",
             "minorgridcolor": "white",
             "startlinecolor": "#2a3f5f"
            },
            "baxis": {
             "endlinecolor": "#2a3f5f",
             "gridcolor": "white",
             "linecolor": "white",
             "minorgridcolor": "white",
             "startlinecolor": "#2a3f5f"
            },
            "type": "carpet"
           }
          ],
          "choropleth": [
           {
            "colorbar": {
             "outlinewidth": 0,
             "ticks": ""
            },
            "type": "choropleth"
           }
          ],
          "contour": [
           {
            "colorbar": {
             "outlinewidth": 0,
             "ticks": ""
            },
            "colorscale": [
             [
              0,
              "#0d0887"
             ],
             [
              0.1111111111111111,
              "#46039f"
             ],
             [
              0.2222222222222222,
              "#7201a8"
             ],
             [
              0.3333333333333333,
              "#9c179e"
             ],
             [
              0.4444444444444444,
              "#bd3786"
             ],
             [
              0.5555555555555556,
              "#d8576b"
             ],
             [
              0.6666666666666666,
              "#ed7953"
             ],
             [
              0.7777777777777778,
              "#fb9f3a"
             ],
             [
              0.8888888888888888,
              "#fdca26"
             ],
             [
              1,
              "#f0f921"
             ]
            ],
            "type": "contour"
           }
          ],
          "contourcarpet": [
           {
            "colorbar": {
             "outlinewidth": 0,
             "ticks": ""
            },
            "type": "contourcarpet"
           }
          ],
          "heatmap": [
           {
            "colorbar": {
             "outlinewidth": 0,
             "ticks": ""
            },
            "colorscale": [
             [
              0,
              "#0d0887"
             ],
             [
              0.1111111111111111,
              "#46039f"
             ],
             [
              0.2222222222222222,
              "#7201a8"
             ],
             [
              0.3333333333333333,
              "#9c179e"
             ],
             [
              0.4444444444444444,
              "#bd3786"
             ],
             [
              0.5555555555555556,
              "#d8576b"
             ],
             [
              0.6666666666666666,
              "#ed7953"
             ],
             [
              0.7777777777777778,
              "#fb9f3a"
             ],
             [
              0.8888888888888888,
              "#fdca26"
             ],
             [
              1,
              "#f0f921"
             ]
            ],
            "type": "heatmap"
           }
          ],
          "heatmapgl": [
           {
            "colorbar": {
             "outlinewidth": 0,
             "ticks": ""
            },
            "colorscale": [
             [
              0,
              "#0d0887"
             ],
             [
              0.1111111111111111,
              "#46039f"
             ],
             [
              0.2222222222222222,
              "#7201a8"
             ],
             [
              0.3333333333333333,
              "#9c179e"
             ],
             [
              0.4444444444444444,
              "#bd3786"
             ],
             [
              0.5555555555555556,
              "#d8576b"
             ],
             [
              0.6666666666666666,
              "#ed7953"
             ],
             [
              0.7777777777777778,
              "#fb9f3a"
             ],
             [
              0.8888888888888888,
              "#fdca26"
             ],
             [
              1,
              "#f0f921"
             ]
            ],
            "type": "heatmapgl"
           }
          ],
          "histogram": [
           {
            "marker": {
             "pattern": {
              "fillmode": "overlay",
              "size": 10,
              "solidity": 0.2
             }
            },
            "type": "histogram"
           }
          ],
          "histogram2d": [
           {
            "colorbar": {
             "outlinewidth": 0,
             "ticks": ""
            },
            "colorscale": [
             [
              0,
              "#0d0887"
             ],
             [
              0.1111111111111111,
              "#46039f"
             ],
             [
              0.2222222222222222,
              "#7201a8"
             ],
             [
              0.3333333333333333,
              "#9c179e"
             ],
             [
              0.4444444444444444,
              "#bd3786"
             ],
             [
              0.5555555555555556,
              "#d8576b"
             ],
             [
              0.6666666666666666,
              "#ed7953"
             ],
             [
              0.7777777777777778,
              "#fb9f3a"
             ],
             [
              0.8888888888888888,
              "#fdca26"
             ],
             [
              1,
              "#f0f921"
             ]
            ],
            "type": "histogram2d"
           }
          ],
          "histogram2dcontour": [
           {
            "colorbar": {
             "outlinewidth": 0,
             "ticks": ""
            },
            "colorscale": [
             [
              0,
              "#0d0887"
             ],
             [
              0.1111111111111111,
              "#46039f"
             ],
             [
              0.2222222222222222,
              "#7201a8"
             ],
             [
              0.3333333333333333,
              "#9c179e"
             ],
             [
              0.4444444444444444,
              "#bd3786"
             ],
             [
              0.5555555555555556,
              "#d8576b"
             ],
             [
              0.6666666666666666,
              "#ed7953"
             ],
             [
              0.7777777777777778,
              "#fb9f3a"
             ],
             [
              0.8888888888888888,
              "#fdca26"
             ],
             [
              1,
              "#f0f921"
             ]
            ],
            "type": "histogram2dcontour"
           }
          ],
          "mesh3d": [
           {
            "colorbar": {
             "outlinewidth": 0,
             "ticks": ""
            },
            "type": "mesh3d"
           }
          ],
          "parcoords": [
           {
            "line": {
             "colorbar": {
              "outlinewidth": 0,
              "ticks": ""
             }
            },
            "type": "parcoords"
           }
          ],
          "pie": [
           {
            "automargin": true,
            "type": "pie"
           }
          ],
          "scatter": [
           {
            "fillpattern": {
             "fillmode": "overlay",
             "size": 10,
             "solidity": 0.2
            },
            "type": "scatter"
           }
          ],
          "scatter3d": [
           {
            "line": {
             "colorbar": {
              "outlinewidth": 0,
              "ticks": ""
             }
            },
            "marker": {
             "colorbar": {
              "outlinewidth": 0,
              "ticks": ""
             }
            },
            "type": "scatter3d"
           }
          ],
          "scattercarpet": [
           {
            "marker": {
             "colorbar": {
              "outlinewidth": 0,
              "ticks": ""
             }
            },
            "type": "scattercarpet"
           }
          ],
          "scattergeo": [
           {
            "marker": {
             "colorbar": {
              "outlinewidth": 0,
              "ticks": ""
             }
            },
            "type": "scattergeo"
           }
          ],
          "scattergl": [
           {
            "marker": {
             "colorbar": {
              "outlinewidth": 0,
              "ticks": ""
             }
            },
            "type": "scattergl"
           }
          ],
          "scattermapbox": [
           {
            "marker": {
             "colorbar": {
              "outlinewidth": 0,
              "ticks": ""
             }
            },
            "type": "scattermapbox"
           }
          ],
          "scatterpolar": [
           {
            "marker": {
             "colorbar": {
              "outlinewidth": 0,
              "ticks": ""
             }
            },
            "type": "scatterpolar"
           }
          ],
          "scatterpolargl": [
           {
            "marker": {
             "colorbar": {
              "outlinewidth": 0,
              "ticks": ""
             }
            },
            "type": "scatterpolargl"
           }
          ],
          "scatterternary": [
           {
            "marker": {
             "colorbar": {
              "outlinewidth": 0,
              "ticks": ""
             }
            },
            "type": "scatterternary"
           }
          ],
          "surface": [
           {
            "colorbar": {
             "outlinewidth": 0,
             "ticks": ""
            },
            "colorscale": [
             [
              0,
              "#0d0887"
             ],
             [
              0.1111111111111111,
              "#46039f"
             ],
             [
              0.2222222222222222,
              "#7201a8"
             ],
             [
              0.3333333333333333,
              "#9c179e"
             ],
             [
              0.4444444444444444,
              "#bd3786"
             ],
             [
              0.5555555555555556,
              "#d8576b"
             ],
             [
              0.6666666666666666,
              "#ed7953"
             ],
             [
              0.7777777777777778,
              "#fb9f3a"
             ],
             [
              0.8888888888888888,
              "#fdca26"
             ],
             [
              1,
              "#f0f921"
             ]
            ],
            "type": "surface"
           }
          ],
          "table": [
           {
            "cells": {
             "fill": {
              "color": "#EBF0F8"
             },
             "line": {
              "color": "white"
             }
            },
            "header": {
             "fill": {
              "color": "#C8D4E3"
             },
             "line": {
              "color": "white"
             }
            },
            "type": "table"
           }
          ]
         },
         "layout": {
          "annotationdefaults": {
           "arrowcolor": "#2a3f5f",
           "arrowhead": 0,
           "arrowwidth": 1
          },
          "autotypenumbers": "strict",
          "coloraxis": {
           "colorbar": {
            "outlinewidth": 0,
            "ticks": ""
           }
          },
          "colorscale": {
           "diverging": [
            [
             0,
             "#8e0152"
            ],
            [
             0.1,
             "#c51b7d"
            ],
            [
             0.2,
             "#de77ae"
            ],
            [
             0.3,
             "#f1b6da"
            ],
            [
             0.4,
             "#fde0ef"
            ],
            [
             0.5,
             "#f7f7f7"
            ],
            [
             0.6,
             "#e6f5d0"
            ],
            [
             0.7,
             "#b8e186"
            ],
            [
             0.8,
             "#7fbc41"
            ],
            [
             0.9,
             "#4d9221"
            ],
            [
             1,
             "#276419"
            ]
           ],
           "sequential": [
            [
             0,
             "#0d0887"
            ],
            [
             0.1111111111111111,
             "#46039f"
            ],
            [
             0.2222222222222222,
             "#7201a8"
            ],
            [
             0.3333333333333333,
             "#9c179e"
            ],
            [
             0.4444444444444444,
             "#bd3786"
            ],
            [
             0.5555555555555556,
             "#d8576b"
            ],
            [
             0.6666666666666666,
             "#ed7953"
            ],
            [
             0.7777777777777778,
             "#fb9f3a"
            ],
            [
             0.8888888888888888,
             "#fdca26"
            ],
            [
             1,
             "#f0f921"
            ]
           ],
           "sequentialminus": [
            [
             0,
             "#0d0887"
            ],
            [
             0.1111111111111111,
             "#46039f"
            ],
            [
             0.2222222222222222,
             "#7201a8"
            ],
            [
             0.3333333333333333,
             "#9c179e"
            ],
            [
             0.4444444444444444,
             "#bd3786"
            ],
            [
             0.5555555555555556,
             "#d8576b"
            ],
            [
             0.6666666666666666,
             "#ed7953"
            ],
            [
             0.7777777777777778,
             "#fb9f3a"
            ],
            [
             0.8888888888888888,
             "#fdca26"
            ],
            [
             1,
             "#f0f921"
            ]
           ]
          },
          "colorway": [
           "#636efa",
           "#EF553B",
           "#00cc96",
           "#ab63fa",
           "#FFA15A",
           "#19d3f3",
           "#FF6692",
           "#B6E880",
           "#FF97FF",
           "#FECB52"
          ],
          "font": {
           "color": "#2a3f5f"
          },
          "geo": {
           "bgcolor": "white",
           "lakecolor": "white",
           "landcolor": "#E5ECF6",
           "showlakes": true,
           "showland": true,
           "subunitcolor": "white"
          },
          "hoverlabel": {
           "align": "left"
          },
          "hovermode": "closest",
          "mapbox": {
           "style": "light"
          },
          "paper_bgcolor": "white",
          "plot_bgcolor": "#E5ECF6",
          "polar": {
           "angularaxis": {
            "gridcolor": "white",
            "linecolor": "white",
            "ticks": ""
           },
           "bgcolor": "#E5ECF6",
           "radialaxis": {
            "gridcolor": "white",
            "linecolor": "white",
            "ticks": ""
           }
          },
          "scene": {
           "xaxis": {
            "backgroundcolor": "#E5ECF6",
            "gridcolor": "white",
            "gridwidth": 2,
            "linecolor": "white",
            "showbackground": true,
            "ticks": "",
            "zerolinecolor": "white"
           },
           "yaxis": {
            "backgroundcolor": "#E5ECF6",
            "gridcolor": "white",
            "gridwidth": 2,
            "linecolor": "white",
            "showbackground": true,
            "ticks": "",
            "zerolinecolor": "white"
           },
           "zaxis": {
            "backgroundcolor": "#E5ECF6",
            "gridcolor": "white",
            "gridwidth": 2,
            "linecolor": "white",
            "showbackground": true,
            "ticks": "",
            "zerolinecolor": "white"
           }
          },
          "shapedefaults": {
           "line": {
            "color": "#2a3f5f"
           }
          },
          "ternary": {
           "aaxis": {
            "gridcolor": "white",
            "linecolor": "white",
            "ticks": ""
           },
           "baxis": {
            "gridcolor": "white",
            "linecolor": "white",
            "ticks": ""
           },
           "bgcolor": "#E5ECF6",
           "caxis": {
            "gridcolor": "white",
            "linecolor": "white",
            "ticks": ""
           }
          },
          "title": {
           "x": 0.05
          },
          "xaxis": {
           "automargin": true,
           "gridcolor": "white",
           "linecolor": "white",
           "ticks": "",
           "title": {
            "standoff": 15
           },
           "zerolinecolor": "white",
           "zerolinewidth": 2
          },
          "yaxis": {
           "automargin": true,
           "gridcolor": "white",
           "linecolor": "white",
           "ticks": "",
           "title": {
            "standoff": 15
           },
           "zerolinecolor": "white",
           "zerolinewidth": 2
          }
         }
        },
        "title": {
         "text": "Quantidade Reclamações por Instituição Financeira"
        },
        "xaxis": {
         "anchor": "y",
         "domain": [
          0,
          1
         ],
         "title": {
          "text": "Instituições Financeiras"
         }
        },
        "yaxis": {
         "anchor": "x",
         "domain": [
          0,
          1
         ],
         "title": {
          "text": "Quantidade Total Reclamações"
         }
        }
       }
      }
     },
     "metadata": {},
     "output_type": "display_data"
    }
   ],
   "source": [
    "df = relatorio.sort_values(\"sum_qtd_totl_recl\",ascending=False)\n",
    "px.bar(df,\n",
    "       x=list(df[\"nom_instituicao\"]),\n",
    "       y=list(df[\"sum_qtd_totl_recl\"]),\n",
    "       labels={\"y\": \"Quantidade Total Reclamações\",\n",
    "               \"x\": \"Instituições Financeiras\"},\n",
    "       title=\"Quantidade Reclamações por Instituição Financeira\")"
   ]
  },
  {
   "cell_type": "code",
   "execution_count": 16,
   "metadata": {},
   "outputs": [
    {
     "data": {
      "application/vnd.plotly.v1+json": {
       "config": {
        "plotlyServerURL": "https://plot.ly"
       },
       "data": [
        {
         "alignmentgroup": "True",
         "hovertemplate": "Instituições Financeiras=%{x}<br>Índice Satisfação Geral Funcionários=%{y}<extra></extra>",
         "legendgroup": "",
         "marker": {
          "color": "#636efa",
          "pattern": {
           "shape": ""
          }
         },
         "name": "",
         "offsetgroup": "",
         "orientation": "v",
         "showlegend": false,
         "textposition": "auto",
         "type": "bar",
         "x": [
          "ITAU",
          "BANCO DO NORDESTE DO BRASIL S.A.",
          "SICREDI",
          "CAIXA ECONOMICA FEDERAL",
          "VOTORANTIM",
          "PAN",
          "BANCO FIBRA S.A.",
          "BRADESCO",
          "BANRISUL",
          "BMG",
          "JP MORGAN CHASE",
          "MERCEDES-BENZ",
          "BTG PACTUAL",
          "DEUTSCHE",
          "CITIBANK",
          "SANTANDER",
          "BNP PARIBAS",
          "CREDIT SUISSE",
          "PINE",
          "BOFA MERRILL LYNCH",
          "ORIGINAL",
          "SOCIETE GENERALE",
          "ALFA",
          "BANCO SUMITOMO MITSUI BRASIL S.A."
         ],
         "xaxis": "x",
         "y": [
          4.5,
          4.5,
          4.4,
          4.4,
          4.4,
          4.4,
          4.3,
          4.2,
          4.2,
          4.1,
          4.1,
          4.1,
          4,
          3.9,
          3.9,
          3.9,
          3.8,
          3.8,
          3.8,
          3.8,
          3.8,
          3.7,
          3.5,
          3.4
         ],
         "yaxis": "y"
        }
       ],
       "layout": {
        "barmode": "relative",
        "legend": {
         "tracegroupgap": 0
        },
        "template": {
         "data": {
          "bar": [
           {
            "error_x": {
             "color": "#2a3f5f"
            },
            "error_y": {
             "color": "#2a3f5f"
            },
            "marker": {
             "line": {
              "color": "#E5ECF6",
              "width": 0.5
             },
             "pattern": {
              "fillmode": "overlay",
              "size": 10,
              "solidity": 0.2
             }
            },
            "type": "bar"
           }
          ],
          "barpolar": [
           {
            "marker": {
             "line": {
              "color": "#E5ECF6",
              "width": 0.5
             },
             "pattern": {
              "fillmode": "overlay",
              "size": 10,
              "solidity": 0.2
             }
            },
            "type": "barpolar"
           }
          ],
          "carpet": [
           {
            "aaxis": {
             "endlinecolor": "#2a3f5f",
             "gridcolor": "white",
             "linecolor": "white",
             "minorgridcolor": "white",
             "startlinecolor": "#2a3f5f"
            },
            "baxis": {
             "endlinecolor": "#2a3f5f",
             "gridcolor": "white",
             "linecolor": "white",
             "minorgridcolor": "white",
             "startlinecolor": "#2a3f5f"
            },
            "type": "carpet"
           }
          ],
          "choropleth": [
           {
            "colorbar": {
             "outlinewidth": 0,
             "ticks": ""
            },
            "type": "choropleth"
           }
          ],
          "contour": [
           {
            "colorbar": {
             "outlinewidth": 0,
             "ticks": ""
            },
            "colorscale": [
             [
              0,
              "#0d0887"
             ],
             [
              0.1111111111111111,
              "#46039f"
             ],
             [
              0.2222222222222222,
              "#7201a8"
             ],
             [
              0.3333333333333333,
              "#9c179e"
             ],
             [
              0.4444444444444444,
              "#bd3786"
             ],
             [
              0.5555555555555556,
              "#d8576b"
             ],
             [
              0.6666666666666666,
              "#ed7953"
             ],
             [
              0.7777777777777778,
              "#fb9f3a"
             ],
             [
              0.8888888888888888,
              "#fdca26"
             ],
             [
              1,
              "#f0f921"
             ]
            ],
            "type": "contour"
           }
          ],
          "contourcarpet": [
           {
            "colorbar": {
             "outlinewidth": 0,
             "ticks": ""
            },
            "type": "contourcarpet"
           }
          ],
          "heatmap": [
           {
            "colorbar": {
             "outlinewidth": 0,
             "ticks": ""
            },
            "colorscale": [
             [
              0,
              "#0d0887"
             ],
             [
              0.1111111111111111,
              "#46039f"
             ],
             [
              0.2222222222222222,
              "#7201a8"
             ],
             [
              0.3333333333333333,
              "#9c179e"
             ],
             [
              0.4444444444444444,
              "#bd3786"
             ],
             [
              0.5555555555555556,
              "#d8576b"
             ],
             [
              0.6666666666666666,
              "#ed7953"
             ],
             [
              0.7777777777777778,
              "#fb9f3a"
             ],
             [
              0.8888888888888888,
              "#fdca26"
             ],
             [
              1,
              "#f0f921"
             ]
            ],
            "type": "heatmap"
           }
          ],
          "heatmapgl": [
           {
            "colorbar": {
             "outlinewidth": 0,
             "ticks": ""
            },
            "colorscale": [
             [
              0,
              "#0d0887"
             ],
             [
              0.1111111111111111,
              "#46039f"
             ],
             [
              0.2222222222222222,
              "#7201a8"
             ],
             [
              0.3333333333333333,
              "#9c179e"
             ],
             [
              0.4444444444444444,
              "#bd3786"
             ],
             [
              0.5555555555555556,
              "#d8576b"
             ],
             [
              0.6666666666666666,
              "#ed7953"
             ],
             [
              0.7777777777777778,
              "#fb9f3a"
             ],
             [
              0.8888888888888888,
              "#fdca26"
             ],
             [
              1,
              "#f0f921"
             ]
            ],
            "type": "heatmapgl"
           }
          ],
          "histogram": [
           {
            "marker": {
             "pattern": {
              "fillmode": "overlay",
              "size": 10,
              "solidity": 0.2
             }
            },
            "type": "histogram"
           }
          ],
          "histogram2d": [
           {
            "colorbar": {
             "outlinewidth": 0,
             "ticks": ""
            },
            "colorscale": [
             [
              0,
              "#0d0887"
             ],
             [
              0.1111111111111111,
              "#46039f"
             ],
             [
              0.2222222222222222,
              "#7201a8"
             ],
             [
              0.3333333333333333,
              "#9c179e"
             ],
             [
              0.4444444444444444,
              "#bd3786"
             ],
             [
              0.5555555555555556,
              "#d8576b"
             ],
             [
              0.6666666666666666,
              "#ed7953"
             ],
             [
              0.7777777777777778,
              "#fb9f3a"
             ],
             [
              0.8888888888888888,
              "#fdca26"
             ],
             [
              1,
              "#f0f921"
             ]
            ],
            "type": "histogram2d"
           }
          ],
          "histogram2dcontour": [
           {
            "colorbar": {
             "outlinewidth": 0,
             "ticks": ""
            },
            "colorscale": [
             [
              0,
              "#0d0887"
             ],
             [
              0.1111111111111111,
              "#46039f"
             ],
             [
              0.2222222222222222,
              "#7201a8"
             ],
             [
              0.3333333333333333,
              "#9c179e"
             ],
             [
              0.4444444444444444,
              "#bd3786"
             ],
             [
              0.5555555555555556,
              "#d8576b"
             ],
             [
              0.6666666666666666,
              "#ed7953"
             ],
             [
              0.7777777777777778,
              "#fb9f3a"
             ],
             [
              0.8888888888888888,
              "#fdca26"
             ],
             [
              1,
              "#f0f921"
             ]
            ],
            "type": "histogram2dcontour"
           }
          ],
          "mesh3d": [
           {
            "colorbar": {
             "outlinewidth": 0,
             "ticks": ""
            },
            "type": "mesh3d"
           }
          ],
          "parcoords": [
           {
            "line": {
             "colorbar": {
              "outlinewidth": 0,
              "ticks": ""
             }
            },
            "type": "parcoords"
           }
          ],
          "pie": [
           {
            "automargin": true,
            "type": "pie"
           }
          ],
          "scatter": [
           {
            "fillpattern": {
             "fillmode": "overlay",
             "size": 10,
             "solidity": 0.2
            },
            "type": "scatter"
           }
          ],
          "scatter3d": [
           {
            "line": {
             "colorbar": {
              "outlinewidth": 0,
              "ticks": ""
             }
            },
            "marker": {
             "colorbar": {
              "outlinewidth": 0,
              "ticks": ""
             }
            },
            "type": "scatter3d"
           }
          ],
          "scattercarpet": [
           {
            "marker": {
             "colorbar": {
              "outlinewidth": 0,
              "ticks": ""
             }
            },
            "type": "scattercarpet"
           }
          ],
          "scattergeo": [
           {
            "marker": {
             "colorbar": {
              "outlinewidth": 0,
              "ticks": ""
             }
            },
            "type": "scattergeo"
           }
          ],
          "scattergl": [
           {
            "marker": {
             "colorbar": {
              "outlinewidth": 0,
              "ticks": ""
             }
            },
            "type": "scattergl"
           }
          ],
          "scattermapbox": [
           {
            "marker": {
             "colorbar": {
              "outlinewidth": 0,
              "ticks": ""
             }
            },
            "type": "scattermapbox"
           }
          ],
          "scatterpolar": [
           {
            "marker": {
             "colorbar": {
              "outlinewidth": 0,
              "ticks": ""
             }
            },
            "type": "scatterpolar"
           }
          ],
          "scatterpolargl": [
           {
            "marker": {
             "colorbar": {
              "outlinewidth": 0,
              "ticks": ""
             }
            },
            "type": "scatterpolargl"
           }
          ],
          "scatterternary": [
           {
            "marker": {
             "colorbar": {
              "outlinewidth": 0,
              "ticks": ""
             }
            },
            "type": "scatterternary"
           }
          ],
          "surface": [
           {
            "colorbar": {
             "outlinewidth": 0,
             "ticks": ""
            },
            "colorscale": [
             [
              0,
              "#0d0887"
             ],
             [
              0.1111111111111111,
              "#46039f"
             ],
             [
              0.2222222222222222,
              "#7201a8"
             ],
             [
              0.3333333333333333,
              "#9c179e"
             ],
             [
              0.4444444444444444,
              "#bd3786"
             ],
             [
              0.5555555555555556,
              "#d8576b"
             ],
             [
              0.6666666666666666,
              "#ed7953"
             ],
             [
              0.7777777777777778,
              "#fb9f3a"
             ],
             [
              0.8888888888888888,
              "#fdca26"
             ],
             [
              1,
              "#f0f921"
             ]
            ],
            "type": "surface"
           }
          ],
          "table": [
           {
            "cells": {
             "fill": {
              "color": "#EBF0F8"
             },
             "line": {
              "color": "white"
             }
            },
            "header": {
             "fill": {
              "color": "#C8D4E3"
             },
             "line": {
              "color": "white"
             }
            },
            "type": "table"
           }
          ]
         },
         "layout": {
          "annotationdefaults": {
           "arrowcolor": "#2a3f5f",
           "arrowhead": 0,
           "arrowwidth": 1
          },
          "autotypenumbers": "strict",
          "coloraxis": {
           "colorbar": {
            "outlinewidth": 0,
            "ticks": ""
           }
          },
          "colorscale": {
           "diverging": [
            [
             0,
             "#8e0152"
            ],
            [
             0.1,
             "#c51b7d"
            ],
            [
             0.2,
             "#de77ae"
            ],
            [
             0.3,
             "#f1b6da"
            ],
            [
             0.4,
             "#fde0ef"
            ],
            [
             0.5,
             "#f7f7f7"
            ],
            [
             0.6,
             "#e6f5d0"
            ],
            [
             0.7,
             "#b8e186"
            ],
            [
             0.8,
             "#7fbc41"
            ],
            [
             0.9,
             "#4d9221"
            ],
            [
             1,
             "#276419"
            ]
           ],
           "sequential": [
            [
             0,
             "#0d0887"
            ],
            [
             0.1111111111111111,
             "#46039f"
            ],
            [
             0.2222222222222222,
             "#7201a8"
            ],
            [
             0.3333333333333333,
             "#9c179e"
            ],
            [
             0.4444444444444444,
             "#bd3786"
            ],
            [
             0.5555555555555556,
             "#d8576b"
            ],
            [
             0.6666666666666666,
             "#ed7953"
            ],
            [
             0.7777777777777778,
             "#fb9f3a"
            ],
            [
             0.8888888888888888,
             "#fdca26"
            ],
            [
             1,
             "#f0f921"
            ]
           ],
           "sequentialminus": [
            [
             0,
             "#0d0887"
            ],
            [
             0.1111111111111111,
             "#46039f"
            ],
            [
             0.2222222222222222,
             "#7201a8"
            ],
            [
             0.3333333333333333,
             "#9c179e"
            ],
            [
             0.4444444444444444,
             "#bd3786"
            ],
            [
             0.5555555555555556,
             "#d8576b"
            ],
            [
             0.6666666666666666,
             "#ed7953"
            ],
            [
             0.7777777777777778,
             "#fb9f3a"
            ],
            [
             0.8888888888888888,
             "#fdca26"
            ],
            [
             1,
             "#f0f921"
            ]
           ]
          },
          "colorway": [
           "#636efa",
           "#EF553B",
           "#00cc96",
           "#ab63fa",
           "#FFA15A",
           "#19d3f3",
           "#FF6692",
           "#B6E880",
           "#FF97FF",
           "#FECB52"
          ],
          "font": {
           "color": "#2a3f5f"
          },
          "geo": {
           "bgcolor": "white",
           "lakecolor": "white",
           "landcolor": "#E5ECF6",
           "showlakes": true,
           "showland": true,
           "subunitcolor": "white"
          },
          "hoverlabel": {
           "align": "left"
          },
          "hovermode": "closest",
          "mapbox": {
           "style": "light"
          },
          "paper_bgcolor": "white",
          "plot_bgcolor": "#E5ECF6",
          "polar": {
           "angularaxis": {
            "gridcolor": "white",
            "linecolor": "white",
            "ticks": ""
           },
           "bgcolor": "#E5ECF6",
           "radialaxis": {
            "gridcolor": "white",
            "linecolor": "white",
            "ticks": ""
           }
          },
          "scene": {
           "xaxis": {
            "backgroundcolor": "#E5ECF6",
            "gridcolor": "white",
            "gridwidth": 2,
            "linecolor": "white",
            "showbackground": true,
            "ticks": "",
            "zerolinecolor": "white"
           },
           "yaxis": {
            "backgroundcolor": "#E5ECF6",
            "gridcolor": "white",
            "gridwidth": 2,
            "linecolor": "white",
            "showbackground": true,
            "ticks": "",
            "zerolinecolor": "white"
           },
           "zaxis": {
            "backgroundcolor": "#E5ECF6",
            "gridcolor": "white",
            "gridwidth": 2,
            "linecolor": "white",
            "showbackground": true,
            "ticks": "",
            "zerolinecolor": "white"
           }
          },
          "shapedefaults": {
           "line": {
            "color": "#2a3f5f"
           }
          },
          "ternary": {
           "aaxis": {
            "gridcolor": "white",
            "linecolor": "white",
            "ticks": ""
           },
           "baxis": {
            "gridcolor": "white",
            "linecolor": "white",
            "ticks": ""
           },
           "bgcolor": "#E5ECF6",
           "caxis": {
            "gridcolor": "white",
            "linecolor": "white",
            "ticks": ""
           }
          },
          "title": {
           "x": 0.05
          },
          "xaxis": {
           "automargin": true,
           "gridcolor": "white",
           "linecolor": "white",
           "ticks": "",
           "title": {
            "standoff": 15
           },
           "zerolinecolor": "white",
           "zerolinewidth": 2
          },
          "yaxis": {
           "automargin": true,
           "gridcolor": "white",
           "linecolor": "white",
           "ticks": "",
           "title": {
            "standoff": 15
           },
           "zerolinecolor": "white",
           "zerolinewidth": 2
          }
         }
        },
        "title": {
         "text": "Índice Médio Geral Satisfação Funcionários por Instituição Financeira"
        },
        "xaxis": {
         "anchor": "y",
         "domain": [
          0,
          1
         ],
         "title": {
          "text": "Instituições Financeiras"
         }
        },
        "yaxis": {
         "anchor": "x",
         "domain": [
          0,
          1
         ],
         "title": {
          "text": "Índice Satisfação Geral Funcionários"
         }
        }
       }
      }
     },
     "metadata": {},
     "output_type": "display_data"
    }
   ],
   "source": [
    "df = relatorio.sort_values(\"avg_ind_geral_instituicao\",ascending=False)\n",
    "px.bar(df,\n",
    "       x=list(df[\"nom_instituicao\"]),\n",
    "       y=list(df[\"avg_ind_geral_instituicao\"]),\n",
    "       labels={\"y\": \"Índice Satisfação Geral Funcionários\",\n",
    "               \"x\": \"Instituições Financeiras\"},\n",
    "       title=\"Índice Médio Geral Satisfação Funcionários por Instituição Financeira\")"
   ]
  },
  {
   "cell_type": "code",
   "execution_count": 17,
   "metadata": {},
   "outputs": [
    {
     "data": {
      "application/vnd.plotly.v1+json": {
       "config": {
        "plotlyServerURL": "https://plot.ly"
       },
       "data": [
        {
         "alignmentgroup": "True",
         "hovertemplate": "Instituições Financeiras=%{x}<br>Índice Satisfação Remuneração=%{y}<extra></extra>",
         "legendgroup": "",
         "marker": {
          "color": "#636efa",
          "pattern": {
           "shape": ""
          }
         },
         "name": "",
         "offsetgroup": "",
         "orientation": "v",
         "showlegend": false,
         "textposition": "auto",
         "type": "bar",
         "x": [
          "ITAU",
          "PAN",
          "VOTORANTIM",
          "BTG PACTUAL",
          "BRADESCO",
          "CAIXA ECONOMICA FEDERAL",
          "BANCO DO NORDESTE DO BRASIL S.A.",
          "BANCO FIBRA S.A.",
          "BMG",
          "SICREDI",
          "BANRISUL",
          "ORIGINAL",
          "MERCEDES-BENZ",
          "SANTANDER",
          "PINE",
          "JP MORGAN CHASE",
          "ALFA",
          "BOFA MERRILL LYNCH",
          "CITIBANK",
          "DEUTSCHE",
          "CREDIT SUISSE",
          "BNP PARIBAS",
          "BANCO SUMITOMO MITSUI BRASIL S.A.",
          "SOCIETE GENERALE"
         ],
         "xaxis": "x",
         "y": [
          4.6,
          4.6,
          4.6,
          4.4,
          4.3,
          4.3,
          4.2,
          4.2,
          4.2,
          4.1,
          4.1,
          4,
          4,
          4,
          3.9,
          3.9,
          3.8,
          3.8,
          3.8,
          3.6,
          3.6,
          3.4,
          3.3,
          3.3
         ],
         "yaxis": "y"
        }
       ],
       "layout": {
        "barmode": "relative",
        "legend": {
         "tracegroupgap": 0
        },
        "template": {
         "data": {
          "bar": [
           {
            "error_x": {
             "color": "#2a3f5f"
            },
            "error_y": {
             "color": "#2a3f5f"
            },
            "marker": {
             "line": {
              "color": "#E5ECF6",
              "width": 0.5
             },
             "pattern": {
              "fillmode": "overlay",
              "size": 10,
              "solidity": 0.2
             }
            },
            "type": "bar"
           }
          ],
          "barpolar": [
           {
            "marker": {
             "line": {
              "color": "#E5ECF6",
              "width": 0.5
             },
             "pattern": {
              "fillmode": "overlay",
              "size": 10,
              "solidity": 0.2
             }
            },
            "type": "barpolar"
           }
          ],
          "carpet": [
           {
            "aaxis": {
             "endlinecolor": "#2a3f5f",
             "gridcolor": "white",
             "linecolor": "white",
             "minorgridcolor": "white",
             "startlinecolor": "#2a3f5f"
            },
            "baxis": {
             "endlinecolor": "#2a3f5f",
             "gridcolor": "white",
             "linecolor": "white",
             "minorgridcolor": "white",
             "startlinecolor": "#2a3f5f"
            },
            "type": "carpet"
           }
          ],
          "choropleth": [
           {
            "colorbar": {
             "outlinewidth": 0,
             "ticks": ""
            },
            "type": "choropleth"
           }
          ],
          "contour": [
           {
            "colorbar": {
             "outlinewidth": 0,
             "ticks": ""
            },
            "colorscale": [
             [
              0,
              "#0d0887"
             ],
             [
              0.1111111111111111,
              "#46039f"
             ],
             [
              0.2222222222222222,
              "#7201a8"
             ],
             [
              0.3333333333333333,
              "#9c179e"
             ],
             [
              0.4444444444444444,
              "#bd3786"
             ],
             [
              0.5555555555555556,
              "#d8576b"
             ],
             [
              0.6666666666666666,
              "#ed7953"
             ],
             [
              0.7777777777777778,
              "#fb9f3a"
             ],
             [
              0.8888888888888888,
              "#fdca26"
             ],
             [
              1,
              "#f0f921"
             ]
            ],
            "type": "contour"
           }
          ],
          "contourcarpet": [
           {
            "colorbar": {
             "outlinewidth": 0,
             "ticks": ""
            },
            "type": "contourcarpet"
           }
          ],
          "heatmap": [
           {
            "colorbar": {
             "outlinewidth": 0,
             "ticks": ""
            },
            "colorscale": [
             [
              0,
              "#0d0887"
             ],
             [
              0.1111111111111111,
              "#46039f"
             ],
             [
              0.2222222222222222,
              "#7201a8"
             ],
             [
              0.3333333333333333,
              "#9c179e"
             ],
             [
              0.4444444444444444,
              "#bd3786"
             ],
             [
              0.5555555555555556,
              "#d8576b"
             ],
             [
              0.6666666666666666,
              "#ed7953"
             ],
             [
              0.7777777777777778,
              "#fb9f3a"
             ],
             [
              0.8888888888888888,
              "#fdca26"
             ],
             [
              1,
              "#f0f921"
             ]
            ],
            "type": "heatmap"
           }
          ],
          "heatmapgl": [
           {
            "colorbar": {
             "outlinewidth": 0,
             "ticks": ""
            },
            "colorscale": [
             [
              0,
              "#0d0887"
             ],
             [
              0.1111111111111111,
              "#46039f"
             ],
             [
              0.2222222222222222,
              "#7201a8"
             ],
             [
              0.3333333333333333,
              "#9c179e"
             ],
             [
              0.4444444444444444,
              "#bd3786"
             ],
             [
              0.5555555555555556,
              "#d8576b"
             ],
             [
              0.6666666666666666,
              "#ed7953"
             ],
             [
              0.7777777777777778,
              "#fb9f3a"
             ],
             [
              0.8888888888888888,
              "#fdca26"
             ],
             [
              1,
              "#f0f921"
             ]
            ],
            "type": "heatmapgl"
           }
          ],
          "histogram": [
           {
            "marker": {
             "pattern": {
              "fillmode": "overlay",
              "size": 10,
              "solidity": 0.2
             }
            },
            "type": "histogram"
           }
          ],
          "histogram2d": [
           {
            "colorbar": {
             "outlinewidth": 0,
             "ticks": ""
            },
            "colorscale": [
             [
              0,
              "#0d0887"
             ],
             [
              0.1111111111111111,
              "#46039f"
             ],
             [
              0.2222222222222222,
              "#7201a8"
             ],
             [
              0.3333333333333333,
              "#9c179e"
             ],
             [
              0.4444444444444444,
              "#bd3786"
             ],
             [
              0.5555555555555556,
              "#d8576b"
             ],
             [
              0.6666666666666666,
              "#ed7953"
             ],
             [
              0.7777777777777778,
              "#fb9f3a"
             ],
             [
              0.8888888888888888,
              "#fdca26"
             ],
             [
              1,
              "#f0f921"
             ]
            ],
            "type": "histogram2d"
           }
          ],
          "histogram2dcontour": [
           {
            "colorbar": {
             "outlinewidth": 0,
             "ticks": ""
            },
            "colorscale": [
             [
              0,
              "#0d0887"
             ],
             [
              0.1111111111111111,
              "#46039f"
             ],
             [
              0.2222222222222222,
              "#7201a8"
             ],
             [
              0.3333333333333333,
              "#9c179e"
             ],
             [
              0.4444444444444444,
              "#bd3786"
             ],
             [
              0.5555555555555556,
              "#d8576b"
             ],
             [
              0.6666666666666666,
              "#ed7953"
             ],
             [
              0.7777777777777778,
              "#fb9f3a"
             ],
             [
              0.8888888888888888,
              "#fdca26"
             ],
             [
              1,
              "#f0f921"
             ]
            ],
            "type": "histogram2dcontour"
           }
          ],
          "mesh3d": [
           {
            "colorbar": {
             "outlinewidth": 0,
             "ticks": ""
            },
            "type": "mesh3d"
           }
          ],
          "parcoords": [
           {
            "line": {
             "colorbar": {
              "outlinewidth": 0,
              "ticks": ""
             }
            },
            "type": "parcoords"
           }
          ],
          "pie": [
           {
            "automargin": true,
            "type": "pie"
           }
          ],
          "scatter": [
           {
            "fillpattern": {
             "fillmode": "overlay",
             "size": 10,
             "solidity": 0.2
            },
            "type": "scatter"
           }
          ],
          "scatter3d": [
           {
            "line": {
             "colorbar": {
              "outlinewidth": 0,
              "ticks": ""
             }
            },
            "marker": {
             "colorbar": {
              "outlinewidth": 0,
              "ticks": ""
             }
            },
            "type": "scatter3d"
           }
          ],
          "scattercarpet": [
           {
            "marker": {
             "colorbar": {
              "outlinewidth": 0,
              "ticks": ""
             }
            },
            "type": "scattercarpet"
           }
          ],
          "scattergeo": [
           {
            "marker": {
             "colorbar": {
              "outlinewidth": 0,
              "ticks": ""
             }
            },
            "type": "scattergeo"
           }
          ],
          "scattergl": [
           {
            "marker": {
             "colorbar": {
              "outlinewidth": 0,
              "ticks": ""
             }
            },
            "type": "scattergl"
           }
          ],
          "scattermapbox": [
           {
            "marker": {
             "colorbar": {
              "outlinewidth": 0,
              "ticks": ""
             }
            },
            "type": "scattermapbox"
           }
          ],
          "scatterpolar": [
           {
            "marker": {
             "colorbar": {
              "outlinewidth": 0,
              "ticks": ""
             }
            },
            "type": "scatterpolar"
           }
          ],
          "scatterpolargl": [
           {
            "marker": {
             "colorbar": {
              "outlinewidth": 0,
              "ticks": ""
             }
            },
            "type": "scatterpolargl"
           }
          ],
          "scatterternary": [
           {
            "marker": {
             "colorbar": {
              "outlinewidth": 0,
              "ticks": ""
             }
            },
            "type": "scatterternary"
           }
          ],
          "surface": [
           {
            "colorbar": {
             "outlinewidth": 0,
             "ticks": ""
            },
            "colorscale": [
             [
              0,
              "#0d0887"
             ],
             [
              0.1111111111111111,
              "#46039f"
             ],
             [
              0.2222222222222222,
              "#7201a8"
             ],
             [
              0.3333333333333333,
              "#9c179e"
             ],
             [
              0.4444444444444444,
              "#bd3786"
             ],
             [
              0.5555555555555556,
              "#d8576b"
             ],
             [
              0.6666666666666666,
              "#ed7953"
             ],
             [
              0.7777777777777778,
              "#fb9f3a"
             ],
             [
              0.8888888888888888,
              "#fdca26"
             ],
             [
              1,
              "#f0f921"
             ]
            ],
            "type": "surface"
           }
          ],
          "table": [
           {
            "cells": {
             "fill": {
              "color": "#EBF0F8"
             },
             "line": {
              "color": "white"
             }
            },
            "header": {
             "fill": {
              "color": "#C8D4E3"
             },
             "line": {
              "color": "white"
             }
            },
            "type": "table"
           }
          ]
         },
         "layout": {
          "annotationdefaults": {
           "arrowcolor": "#2a3f5f",
           "arrowhead": 0,
           "arrowwidth": 1
          },
          "autotypenumbers": "strict",
          "coloraxis": {
           "colorbar": {
            "outlinewidth": 0,
            "ticks": ""
           }
          },
          "colorscale": {
           "diverging": [
            [
             0,
             "#8e0152"
            ],
            [
             0.1,
             "#c51b7d"
            ],
            [
             0.2,
             "#de77ae"
            ],
            [
             0.3,
             "#f1b6da"
            ],
            [
             0.4,
             "#fde0ef"
            ],
            [
             0.5,
             "#f7f7f7"
            ],
            [
             0.6,
             "#e6f5d0"
            ],
            [
             0.7,
             "#b8e186"
            ],
            [
             0.8,
             "#7fbc41"
            ],
            [
             0.9,
             "#4d9221"
            ],
            [
             1,
             "#276419"
            ]
           ],
           "sequential": [
            [
             0,
             "#0d0887"
            ],
            [
             0.1111111111111111,
             "#46039f"
            ],
            [
             0.2222222222222222,
             "#7201a8"
            ],
            [
             0.3333333333333333,
             "#9c179e"
            ],
            [
             0.4444444444444444,
             "#bd3786"
            ],
            [
             0.5555555555555556,
             "#d8576b"
            ],
            [
             0.6666666666666666,
             "#ed7953"
            ],
            [
             0.7777777777777778,
             "#fb9f3a"
            ],
            [
             0.8888888888888888,
             "#fdca26"
            ],
            [
             1,
             "#f0f921"
            ]
           ],
           "sequentialminus": [
            [
             0,
             "#0d0887"
            ],
            [
             0.1111111111111111,
             "#46039f"
            ],
            [
             0.2222222222222222,
             "#7201a8"
            ],
            [
             0.3333333333333333,
             "#9c179e"
            ],
            [
             0.4444444444444444,
             "#bd3786"
            ],
            [
             0.5555555555555556,
             "#d8576b"
            ],
            [
             0.6666666666666666,
             "#ed7953"
            ],
            [
             0.7777777777777778,
             "#fb9f3a"
            ],
            [
             0.8888888888888888,
             "#fdca26"
            ],
            [
             1,
             "#f0f921"
            ]
           ]
          },
          "colorway": [
           "#636efa",
           "#EF553B",
           "#00cc96",
           "#ab63fa",
           "#FFA15A",
           "#19d3f3",
           "#FF6692",
           "#B6E880",
           "#FF97FF",
           "#FECB52"
          ],
          "font": {
           "color": "#2a3f5f"
          },
          "geo": {
           "bgcolor": "white",
           "lakecolor": "white",
           "landcolor": "#E5ECF6",
           "showlakes": true,
           "showland": true,
           "subunitcolor": "white"
          },
          "hoverlabel": {
           "align": "left"
          },
          "hovermode": "closest",
          "mapbox": {
           "style": "light"
          },
          "paper_bgcolor": "white",
          "plot_bgcolor": "#E5ECF6",
          "polar": {
           "angularaxis": {
            "gridcolor": "white",
            "linecolor": "white",
            "ticks": ""
           },
           "bgcolor": "#E5ECF6",
           "radialaxis": {
            "gridcolor": "white",
            "linecolor": "white",
            "ticks": ""
           }
          },
          "scene": {
           "xaxis": {
            "backgroundcolor": "#E5ECF6",
            "gridcolor": "white",
            "gridwidth": 2,
            "linecolor": "white",
            "showbackground": true,
            "ticks": "",
            "zerolinecolor": "white"
           },
           "yaxis": {
            "backgroundcolor": "#E5ECF6",
            "gridcolor": "white",
            "gridwidth": 2,
            "linecolor": "white",
            "showbackground": true,
            "ticks": "",
            "zerolinecolor": "white"
           },
           "zaxis": {
            "backgroundcolor": "#E5ECF6",
            "gridcolor": "white",
            "gridwidth": 2,
            "linecolor": "white",
            "showbackground": true,
            "ticks": "",
            "zerolinecolor": "white"
           }
          },
          "shapedefaults": {
           "line": {
            "color": "#2a3f5f"
           }
          },
          "ternary": {
           "aaxis": {
            "gridcolor": "white",
            "linecolor": "white",
            "ticks": ""
           },
           "baxis": {
            "gridcolor": "white",
            "linecolor": "white",
            "ticks": ""
           },
           "bgcolor": "#E5ECF6",
           "caxis": {
            "gridcolor": "white",
            "linecolor": "white",
            "ticks": ""
           }
          },
          "title": {
           "x": 0.05
          },
          "xaxis": {
           "automargin": true,
           "gridcolor": "white",
           "linecolor": "white",
           "ticks": "",
           "title": {
            "standoff": 15
           },
           "zerolinecolor": "white",
           "zerolinewidth": 2
          },
          "yaxis": {
           "automargin": true,
           "gridcolor": "white",
           "linecolor": "white",
           "ticks": "",
           "title": {
            "standoff": 15
           },
           "zerolinecolor": "white",
           "zerolinewidth": 2
          }
         }
        },
        "title": {
         "text": "Índice Médio Satisfação Remuneração por Instituição Financeira"
        },
        "xaxis": {
         "anchor": "y",
         "domain": [
          0,
          1
         ],
         "title": {
          "text": "Instituições Financeiras"
         }
        },
        "yaxis": {
         "anchor": "x",
         "domain": [
          0,
          1
         ],
         "title": {
          "text": "Índice Satisfação Remuneração"
         }
        }
       }
      }
     },
     "metadata": {},
     "output_type": "display_data"
    }
   ],
   "source": [
    "df = relatorio.sort_values(\"avg_ind_remu_bene_instituicao\",ascending=False)\n",
    "px.bar(df,\n",
    "       x=list(df[\"nom_instituicao\"]),\n",
    "       y=list(df[\"avg_ind_remu_bene_instituicao\"]),\n",
    "       labels={\"y\": \"Índice Satisfação Remuneração\",\n",
    "               \"x\": \"Instituições Financeiras\"},\n",
    "       title=\"Índice Médio Satisfação Remuneração por Instituição Financeira\")"
   ]
  },
  {
   "cell_type": "code",
   "execution_count": 18,
   "metadata": {},
   "outputs": [
    {
     "name": "stdout",
     "output_type": "stream",
     "text": [
      "The Zen of Python, by Tim Peters\n",
      "\n",
      "Beautiful is better than ugly.\n",
      "Explicit is better than implicit.\n",
      "Simple is better than complex.\n",
      "Complex is better than complicated.\n",
      "Flat is better than nested.\n",
      "Sparse is better than dense.\n",
      "Readability counts.\n",
      "Special cases aren't special enough to break the rules.\n",
      "Although practicality beats purity.\n",
      "Errors should never pass silently.\n",
      "Unless explicitly silenced.\n",
      "In the face of ambiguity, refuse the temptation to guess.\n",
      "There should be one-- and preferably only one --obvious way to do it.\n",
      "Although that way may not be obvious at first unless you're Dutch.\n",
      "Now is better than never.\n",
      "Although never is often better than *right* now.\n",
      "If the implementation is hard to explain, it's a bad idea.\n",
      "If the implementation is easy to explain, it may be a good idea.\n",
      "Namespaces are one honking great idea -- let's do more of those!\n"
     ]
    }
   ],
   "source": [
    "import this"
   ]
  }
 ],
 "metadata": {
  "kernelspec": {
   "display_name": "Python 3",
   "language": "python",
   "name": "python3"
  },
  "language_info": {
   "codemirror_mode": {
    "name": "ipython",
    "version": 3
   },
   "file_extension": ".py",
   "mimetype": "text/x-python",
   "name": "python",
   "nbconvert_exporter": "python",
   "pygments_lexer": "ipython3",
   "version": "3.10.12"
  },
  "orig_nbformat": 4
 },
 "nbformat": 4,
 "nbformat_minor": 2
}
