{
 "cells": [
  {
   "cell_type": "code",
   "execution_count": 2,
   "metadata": {},
   "outputs": [
    {
     "ename": "ModuleNotFoundError",
     "evalue": "No module named 'src'",
     "output_type": "error",
     "traceback": [
      "\u001b[0;31m---------------------------------------------------------------------------\u001b[0m",
      "\u001b[0;31mModuleNotFoundError\u001b[0m                       Traceback (most recent call last)",
      "Cell \u001b[0;32mIn[2], line 1\u001b[0m\n\u001b[0;32m----> 1\u001b[0m \u001b[39mfrom\u001b[39;00m \u001b[39msrc\u001b[39;00m\u001b[39m.\u001b[39;00m\u001b[39msor\u001b[39;00m \u001b[39mimport\u001b[39;00m job_ingestao_bancos_sor\n\u001b[1;32m      2\u001b[0m \u001b[39mfrom\u001b[39;00m \u001b[39mapp\u001b[39;00m\u001b[39m.\u001b[39;00m\u001b[39msrc\u001b[39;00m\u001b[39m.\u001b[39;00m\u001b[39msor\u001b[39;00m \u001b[39mimport\u001b[39;00m job_ingestao_reclamacoes_sor\n\u001b[1;32m      3\u001b[0m \u001b[39mfrom\u001b[39;00m \u001b[39mapp\u001b[39;00m\u001b[39m.\u001b[39;00m\u001b[39msrc\u001b[39;00m\u001b[39m.\u001b[39;00m\u001b[39msor\u001b[39;00m \u001b[39mimport\u001b[39;00m job_ingestao_empregados_sor\n",
      "\u001b[0;31mModuleNotFoundError\u001b[0m: No module named 'src'"
     ]
    }
   ],
   "source": [
    "from app.src.sor import job_ingestao_bancos_sor\n",
    "from app.src.sor import job_ingestao_reclamacoes_sor\n",
    "from app.src.sor import job_ingestao_empregados_sor\n",
    "from app.src.sot import job_ingestao_bancos_sot\n",
    "from app.src.sot import job_ingestao_reclamacoes_sot\n",
    "from app.src.sot import job_ingestao_empregados_sot\n",
    "from app.src.spec import job_ingestao_01_spec\n",
    "from app.utils.utils import read_csv_files_recursively\n",
    "from plotly import express as px\n",
    "from datetime import date"
   ]
  },
  {
   "cell_type": "code",
   "execution_count": null,
   "metadata": {},
   "outputs": [],
   "source": [
    "DATA_REFERENCIA: date = date(2023,8,14)"
   ]
  },
  {
   "cell_type": "code",
   "execution_count": null,
   "metadata": {},
   "outputs": [
    {
     "name": "stdout",
     "output_type": "stream",
     "text": [
      "Listing files with size > 0 bytes in ./app/data/input/Bancos/:\n",
      "CPU times: user 16.2 ms, sys: 1.51 ms, total: 17.7 ms\n",
      "Wall time: 21.3 ms\n"
     ]
    },
    {
     "data": {
      "text/html": [
       "<div><style>\n",
       ".dataframe > thead > tr > th,\n",
       ".dataframe > tbody > tr > td {\n",
       "  text-align: right;\n",
       "}\n",
       "</style>\n",
       "<small>shape: (5, 3)</small><table border=\"1\" class=\"dataframe\"><thead><tr><th>Segmento</th><th>CNPJ</th><th>Nome</th></tr><tr><td>str</td><td>i64</td><td>str</td></tr></thead><tbody><tr><td>&quot;S1&quot;</td><td>0</td><td>&quot;BANCO DO BRASI…</td></tr><tr><td>&quot;S1&quot;</td><td>60746948</td><td>&quot;BRADESCO - PRU…</td></tr><tr><td>&quot;S1&quot;</td><td>30306294</td><td>&quot;BTG PACTUAL - …</td></tr><tr><td>&quot;S1&quot;</td><td>360305</td><td>&quot;CAIXA ECONOMIC…</td></tr><tr><td>&quot;S1&quot;</td><td>60872504</td><td>&quot;ITAU - PRUDENC…</td></tr></tbody></table></div>"
      ],
      "text/plain": [
       "shape: (5, 3)\n",
       "┌──────────┬──────────┬───────────────────────────────────┐\n",
       "│ Segmento ┆ CNPJ     ┆ Nome                              │\n",
       "│ ---      ┆ ---      ┆ ---                               │\n",
       "│ str      ┆ i64      ┆ str                               │\n",
       "╞══════════╪══════════╪═══════════════════════════════════╡\n",
       "│ S1       ┆ 0        ┆ BANCO DO BRASIL - PRUDENCIAL      │\n",
       "│ S1       ┆ 60746948 ┆ BRADESCO - PRUDENCIAL             │\n",
       "│ S1       ┆ 30306294 ┆ BTG PACTUAL - PRUDENCIAL          │\n",
       "│ S1       ┆ 360305   ┆ CAIXA ECONOMICA FEDERAL - PRUDEN… │\n",
       "│ S1       ┆ 60872504 ┆ ITAU - PRUDENCIAL                 │\n",
       "└──────────┴──────────┴───────────────────────────────────┘"
      ]
     },
     "execution_count": 16,
     "metadata": {},
     "output_type": "execute_result"
    }
   ],
   "source": [
    "%%time\n",
    "# Processa dados raw Bancos para gerar camada Source of Record (SoR)\n",
    "job: job_ingestao_bancos_sor.ETLJob = job_ingestao_bancos_sor.ETLJob(input_path=\"./app/data/input/Bancos/\",\n",
    "                                                                     output_path=\"./app/data/output/sor/tb_bancos/\",\n",
    "                                                                     dat_ref=DATA_REFERENCIA)\n",
    "job.run()\n",
    "read_csv_files_recursively(\"./app/data/output/sor/tb_bancos/\", has_header=True).head()"
   ]
  },
  {
   "cell_type": "code",
   "execution_count": null,
   "metadata": {},
   "outputs": [
    {
     "name": "stdout",
     "output_type": "stream",
     "text": [
      "Listing files with size > 0 bytes in ./app/data/output/sor/tb_bancos/anomesdia=20230814/:\n",
      "CPU times: user 22.3 ms, sys: 2.91 ms, total: 25.3 ms\n",
      "Wall time: 23.8 ms\n"
     ]
    },
    {
     "data": {
      "text/html": [
       "<div><style>\n",
       ".dataframe > thead > tr > th,\n",
       ".dataframe > tbody > tr > td {\n",
       "  text-align: right;\n",
       "}\n",
       "</style>\n",
       "<small>shape: (5, 4)</small><table border=\"1\" class=\"dataframe\"><thead><tr><th>nom_segto_instituicao</th><th>num_cnpj_instituicao</th><th>nom_instituicao</th><th>dat_hor_psst</th></tr><tr><td>str</td><td>i64</td><td>str</td><td>f64</td></tr></thead><tbody><tr><td>&quot;S1&quot;</td><td>0</td><td>&quot;BANCO DO BRASI…</td><td>1.6922e9</td></tr><tr><td>&quot;S1&quot;</td><td>60746948</td><td>&quot;BRADESCO&quot;</td><td>1.6922e9</td></tr><tr><td>&quot;S1&quot;</td><td>30306294</td><td>&quot;BTG PACTUAL&quot;</td><td>1.6922e9</td></tr><tr><td>&quot;S1&quot;</td><td>360305</td><td>&quot;CAIXA ECONOMIC…</td><td>1.6922e9</td></tr><tr><td>&quot;S1&quot;</td><td>60872504</td><td>&quot;ITAU&quot;</td><td>1.6922e9</td></tr></tbody></table></div>"
      ],
      "text/plain": [
       "shape: (5, 4)\n",
       "┌───────────────────────┬──────────────────────┬─────────────────────────┬──────────────┐\n",
       "│ nom_segto_instituicao ┆ num_cnpj_instituicao ┆ nom_instituicao         ┆ dat_hor_psst │\n",
       "│ ---                   ┆ ---                  ┆ ---                     ┆ ---          │\n",
       "│ str                   ┆ i64                  ┆ str                     ┆ f64          │\n",
       "╞═══════════════════════╪══════════════════════╪═════════════════════════╪══════════════╡\n",
       "│ S1                    ┆ 0                    ┆ BANCO DO BRASIL         ┆ 1.6922e9     │\n",
       "│ S1                    ┆ 60746948             ┆ BRADESCO                ┆ 1.6922e9     │\n",
       "│ S1                    ┆ 30306294             ┆ BTG PACTUAL             ┆ 1.6922e9     │\n",
       "│ S1                    ┆ 360305               ┆ CAIXA ECONOMICA FEDERAL ┆ 1.6922e9     │\n",
       "│ S1                    ┆ 60872504             ┆ ITAU                    ┆ 1.6922e9     │\n",
       "└───────────────────────┴──────────────────────┴─────────────────────────┴──────────────┘"
      ]
     },
     "execution_count": 17,
     "metadata": {},
     "output_type": "execute_result"
    }
   ],
   "source": [
    "%%time\n",
    "# Processa dados da SoR, realiza tratamento e salva na camada SoT dos bancos\n",
    "job: job_ingestao_bancos_sot.ETLJob = job_ingestao_bancos_sot.ETLJob(input_path=f\"./app/data/output/sor/tb_bancos/anomesdia={DATA_REFERENCIA.strftime('%Y%m%d')}/\",\n",
    "                                                                     output_path=\"./app/data/output/sot/tb_bancos/\",\n",
    "                                                                     dat_ref=DATA_REFERENCIA)\n",
    "job.run()\n",
    "read_csv_files_recursively(\"./app/data/output/sot/tb_bancos/\", has_header=True).head()"
   ]
  },
  {
   "cell_type": "code",
   "execution_count": null,
   "metadata": {},
   "outputs": [
    {
     "name": "stdout",
     "output_type": "stream",
     "text": [
      "Listing files with size > 0 bytes in ./app/data/input/Reclamacoes/:\n",
      "CPU times: user 25.9 ms, sys: 3.72 ms, total: 29.7 ms\n",
      "Wall time: 38.4 ms\n"
     ]
    },
    {
     "data": {
      "text/html": [
       "<div><style>\n",
       ".dataframe > thead > tr > th,\n",
       ".dataframe > tbody > tr > td {\n",
       "  text-align: right;\n",
       "}\n",
       "</style>\n",
       "<small>shape: (5, 15)</small><table border=\"1\" class=\"dataframe\"><thead><tr><th>Ano</th><th>Trimestre</th><th>Categoria</th><th>Tipo</th><th>CNPJ IF</th><th>Instituição financeira</th><th>Índice</th><th>Quantidade de reclamações reguladas procedentes</th><th>Quantidade de reclamações reguladas - outras</th><th>Quantidade de reclamações não reguladas</th><th>Quantidade total de reclamações</th><th>Quantidade total de clientes  CCS e SCR</th><th>Quantidade de clientes  CCS</th><th>Quantidade de clientes  SCR</th><th></th></tr><tr><td>i64</td><td>str</td><td>str</td><td>str</td><td>str</td><td>str</td><td>str</td><td>i64</td><td>i64</td><td>i64</td><td>i64</td><td>str</td><td>str</td><td>str</td><td>str</td></tr></thead><tbody><tr><td>2021</td><td>&quot;3º&quot;</td><td>&quot;Demais bancos …</td><td>&quot;Conglomerado&quot;</td><td>&quot; &quot;</td><td>&quot;ABC-BRASIL (co…</td><td>&quot; &quot;</td><td>1</td><td>2</td><td>1</td><td>4</td><td>&quot;29707&quot;</td><td>&quot;28217&quot;</td><td>&quot;4009&quot;</td><td>null</td></tr><tr><td>2021</td><td>&quot;3º&quot;</td><td>&quot;Demais bancos …</td><td>&quot;Conglomerado&quot;</td><td>&quot; &quot;</td><td>&quot;AGIBANK (congl…</td><td>&quot;82,54&quot;</td><td>109</td><td>296</td><td>107</td><td>512</td><td>&quot;1320447&quot;</td><td>&quot;999951&quot;</td><td>&quot;873341&quot;</td><td>null</td></tr><tr><td>2021</td><td>&quot;3º&quot;</td><td>&quot;Demais bancos …</td><td>&quot;Banco/financei…</td><td>&quot;36321990&quot;</td><td>&quot;AGORACRED S/A …</td><td>&quot; &quot;</td><td>3</td><td>1</td><td>2</td><td>6</td><td>&quot;453405&quot;</td><td>&quot;130&quot;</td><td>&quot;453275&quot;</td><td>null</td></tr><tr><td>2021</td><td>&quot;3º&quot;</td><td>&quot;Demais bancos …</td><td>&quot;Banco/financei…</td><td>&quot;27214112&quot;</td><td>&quot;AL5 S.A. CRÉDI…</td><td>&quot; &quot;</td><td>4</td><td>0</td><td>6</td><td>10</td><td>&quot;18217&quot;</td><td>&quot;9981&quot;</td><td>&quot;11683&quot;</td><td>null</td></tr><tr><td>2021</td><td>&quot;3º&quot;</td><td>&quot;Demais bancos …</td><td>&quot;Conglomerado&quot;</td><td>&quot; &quot;</td><td>&quot;ALFA (conglome…</td><td>&quot; &quot;</td><td>13</td><td>61</td><td>11</td><td>85</td><td>&quot;420486&quot;</td><td>&quot;268221&quot;</td><td>&quot;153423&quot;</td><td>null</td></tr></tbody></table></div>"
      ],
      "text/plain": [
       "shape: (5, 15)\n",
       "┌──────┬───────────┬─────────────┬─────────────┬───┬─────────────┬─────────────┬────────────┬──────┐\n",
       "│ Ano  ┆ Trimestre ┆ Categoria   ┆ Tipo        ┆ … ┆ Quantidade  ┆ Quantidade  ┆ Quantidade ┆      │\n",
       "│ ---  ┆ ---       ┆ ---         ┆ ---         ┆   ┆ total de    ┆ de clientes ┆ de         ┆ ---  │\n",
       "│ i64  ┆ str       ┆ str         ┆ str         ┆   ┆ clientes    ┆  CCS        ┆ clientes   ┆ str  │\n",
       "│      ┆           ┆             ┆             ┆   ┆ C…          ┆ ---         ┆ SCR        ┆      │\n",
       "│      ┆           ┆             ┆             ┆   ┆ ---         ┆ str         ┆ ---        ┆      │\n",
       "│      ┆           ┆             ┆             ┆   ┆ str         ┆             ┆ str        ┆      │\n",
       "╞══════╪═══════════╪═════════════╪═════════════╪═══╪═════════════╪═════════════╪════════════╪══════╡\n",
       "│ 2021 ┆ 3º        ┆ Demais      ┆ Conglomerad ┆ … ┆ 29707       ┆ 28217       ┆ 4009       ┆ null │\n",
       "│      ┆           ┆ bancos e    ┆ o           ┆   ┆             ┆             ┆            ┆      │\n",
       "│      ┆           ┆ financeiras ┆             ┆   ┆             ┆             ┆            ┆      │\n",
       "│ 2021 ┆ 3º        ┆ Demais      ┆ Conglomerad ┆ … ┆ 1320447     ┆ 999951      ┆ 873341     ┆ null │\n",
       "│      ┆           ┆ bancos e    ┆ o           ┆   ┆             ┆             ┆            ┆      │\n",
       "│      ┆           ┆ financeiras ┆             ┆   ┆             ┆             ┆            ┆      │\n",
       "│ 2021 ┆ 3º        ┆ Demais      ┆ Banco/finan ┆ … ┆ 453405      ┆ 130         ┆ 453275     ┆ null │\n",
       "│      ┆           ┆ bancos e    ┆ ceira       ┆   ┆             ┆             ┆            ┆      │\n",
       "│      ┆           ┆ financeiras ┆             ┆   ┆             ┆             ┆            ┆      │\n",
       "│ 2021 ┆ 3º        ┆ Demais      ┆ Banco/finan ┆ … ┆ 18217       ┆ 9981        ┆ 11683      ┆ null │\n",
       "│      ┆           ┆ bancos e    ┆ ceira       ┆   ┆             ┆             ┆            ┆      │\n",
       "│      ┆           ┆ financeiras ┆             ┆   ┆             ┆             ┆            ┆      │\n",
       "│ 2021 ┆ 3º        ┆ Demais      ┆ Conglomerad ┆ … ┆ 420486      ┆ 268221      ┆ 153423     ┆ null │\n",
       "│      ┆           ┆ bancos e    ┆ o           ┆   ┆             ┆             ┆            ┆      │\n",
       "│      ┆           ┆ financeiras ┆             ┆   ┆             ┆             ┆            ┆      │\n",
       "└──────┴───────────┴─────────────┴─────────────┴───┴─────────────┴─────────────┴────────────┴──────┘"
      ]
     },
     "execution_count": 18,
     "metadata": {},
     "output_type": "execute_result"
    }
   ],
   "source": [
    "%%time\n",
    "# Processa dados raw Reclamacoes para gerar camada Source of Record (SoR)\n",
    "job: job_ingestao_reclamacoes_sor.ETLJob = job_ingestao_reclamacoes_sor.ETLJob(input_path=\"./app/data/input/Reclamacoes/\",\n",
    "                                                                               output_path=\"./app/data/output/sor/tb_reclamacoes/\")\n",
    "job.run()\n",
    "read_csv_files_recursively(\"./app/data/output/sor/tb_reclamacoes/\", has_header=True, options={\"dtypes\": {\"Quantidade total de clientes  CCS e SCR\" : str}}).head()"
   ]
  },
  {
   "cell_type": "code",
   "execution_count": null,
   "metadata": {},
   "outputs": [
    {
     "name": "stdout",
     "output_type": "stream",
     "text": [
      "Listing files with size > 0 bytes in ./app/data/output/sor/tb_reclamacoes/:\n",
      "CPU times: user 59.5 ms, sys: 10.1 ms, total: 69.6 ms\n",
      "Wall time: 68.7 ms\n"
     ]
    },
    {
     "data": {
      "text/html": [
       "<div><style>\n",
       ".dataframe > thead > tr > th,\n",
       ".dataframe > tbody > tr > td {\n",
       "  text-align: right;\n",
       "}\n",
       "</style>\n",
       "<small>shape: (5, 15)</small><table border=\"1\" class=\"dataframe\"><thead><tr><th>ano</th><th>num_trimestre</th><th>nom_categoria</th><th>nom_tipo_instituicao</th><th>num_cnpj_instituicao</th><th>nom_instituicao</th><th>vlr_ind_recl</th><th>qtd_recl_reg_prec</th><th>qtd_recl_reg_outr</th><th>qtd_recl_nao_reg</th><th>qtd_totl_recl</th><th>qtd_totl_clie_css_scr</th><th>qtd_clie_ccs</th><th>qtd_clie_scr</th><th>dat_hor_psst</th></tr><tr><td>i64</td><td>i64</td><td>str</td><td>str</td><td>i64</td><td>str</td><td>f64</td><td>i64</td><td>i64</td><td>i64</td><td>i64</td><td>i64</td><td>i64</td><td>i64</td><td>f64</td></tr></thead><tbody><tr><td>2021</td><td>4</td><td>&quot;Demais Bancos,…</td><td>&quot;Conglomerado&quot;</td><td>null</td><td>&quot;ABC-BRASIL&quot;</td><td>null</td><td>2</td><td>0</td><td>3</td><td>5</td><td>33095</td><td>31565</td><td>4248</td><td>1.6922e9</td></tr><tr><td>2021</td><td>4</td><td>&quot;Demais Bancos,…</td><td>&quot;Banco/financei…</td><td>13140088</td><td>&quot;ACESSO SOLUÇÕE…</td><td>20.87</td><td>42</td><td>28</td><td>5</td><td>75</td><td>2011869</td><td>2011869</td><td>null</td><td>1.6922e9</td></tr><tr><td>2021</td><td>4</td><td>&quot;Demais Bancos,…</td><td>&quot;Conglomerado&quot;</td><td>null</td><td>&quot;AGIBANK&quot;</td><td>195.92</td><td>309</td><td>334</td><td>76</td><td>719</td><td>1577152</td><td>1224075</td><td>996638</td><td>1.6922e9</td></tr><tr><td>2021</td><td>4</td><td>&quot;Demais Bancos,…</td><td>&quot;Banco/financei…</td><td>36321990</td><td>&quot;AGORACRED S/A …</td><td>null</td><td>2</td><td>2</td><td>1</td><td>5</td><td>473823</td><td>130</td><td>473693</td><td>1.6922e9</td></tr><tr><td>2021</td><td>4</td><td>&quot;Demais Bancos,…</td><td>&quot;Banco/financei…</td><td>27214112</td><td>&quot;AL5 S.A. CRÉDI…</td><td>null</td><td>2</td><td>5</td><td>5</td><td>12</td><td>23421</td><td>13123</td><td>14355</td><td>1.6922e9</td></tr></tbody></table></div>"
      ],
      "text/plain": [
       "shape: (5, 15)\n",
       "┌──────┬────────────┬────────────┬────────────┬───┬────────────┬───────────┬───────────┬───────────┐\n",
       "│ ano  ┆ num_trimes ┆ nom_catego ┆ nom_tipo_i ┆ … ┆ qtd_totl_c ┆ qtd_clie_ ┆ qtd_clie_ ┆ dat_hor_p │\n",
       "│ ---  ┆ tre        ┆ ria        ┆ nstituicao ┆   ┆ lie_css_sc ┆ ccs       ┆ scr       ┆ sst       │\n",
       "│ i64  ┆ ---        ┆ ---        ┆ ---        ┆   ┆ r          ┆ ---       ┆ ---       ┆ ---       │\n",
       "│      ┆ i64        ┆ str        ┆ str        ┆   ┆ ---        ┆ i64       ┆ i64       ┆ f64       │\n",
       "│      ┆            ┆            ┆            ┆   ┆ i64        ┆           ┆           ┆           │\n",
       "╞══════╪════════════╪════════════╪════════════╪═══╪════════════╪═══════════╪═══════════╪═══════════╡\n",
       "│ 2021 ┆ 4          ┆ Demais     ┆ Conglomera ┆ … ┆ 33095      ┆ 31565     ┆ 4248      ┆ 1.6922e9  │\n",
       "│      ┆            ┆ Bancos,    ┆ do         ┆   ┆            ┆           ┆           ┆           │\n",
       "│      ┆            ┆ Financeira ┆            ┆   ┆            ┆           ┆           ┆           │\n",
       "│      ┆            ┆ s e Ins…   ┆            ┆   ┆            ┆           ┆           ┆           │\n",
       "│ 2021 ┆ 4          ┆ Demais     ┆ Banco/fina ┆ … ┆ 2011869    ┆ 2011869   ┆ null      ┆ 1.6922e9  │\n",
       "│      ┆            ┆ Bancos,    ┆ nceira     ┆   ┆            ┆           ┆           ┆           │\n",
       "│      ┆            ┆ Financeira ┆            ┆   ┆            ┆           ┆           ┆           │\n",
       "│      ┆            ┆ s e Ins…   ┆            ┆   ┆            ┆           ┆           ┆           │\n",
       "│ 2021 ┆ 4          ┆ Demais     ┆ Conglomera ┆ … ┆ 1577152    ┆ 1224075   ┆ 996638    ┆ 1.6922e9  │\n",
       "│      ┆            ┆ Bancos,    ┆ do         ┆   ┆            ┆           ┆           ┆           │\n",
       "│      ┆            ┆ Financeira ┆            ┆   ┆            ┆           ┆           ┆           │\n",
       "│      ┆            ┆ s e Ins…   ┆            ┆   ┆            ┆           ┆           ┆           │\n",
       "│ 2021 ┆ 4          ┆ Demais     ┆ Banco/fina ┆ … ┆ 473823     ┆ 130       ┆ 473693    ┆ 1.6922e9  │\n",
       "│      ┆            ┆ Bancos,    ┆ nceira     ┆   ┆            ┆           ┆           ┆           │\n",
       "│      ┆            ┆ Financeira ┆            ┆   ┆            ┆           ┆           ┆           │\n",
       "│      ┆            ┆ s e Ins…   ┆            ┆   ┆            ┆           ┆           ┆           │\n",
       "│ 2021 ┆ 4          ┆ Demais     ┆ Banco/fina ┆ … ┆ 23421      ┆ 13123     ┆ 14355     ┆ 1.6922e9  │\n",
       "│      ┆            ┆ Bancos,    ┆ nceira     ┆   ┆            ┆           ┆           ┆           │\n",
       "│      ┆            ┆ Financeira ┆            ┆   ┆            ┆           ┆           ┆           │\n",
       "│      ┆            ┆ s e Ins…   ┆            ┆   ┆            ┆           ┆           ┆           │\n",
       "└──────┴────────────┴────────────┴────────────┴───┴────────────┴───────────┴───────────┴───────────┘"
      ]
     },
     "execution_count": 19,
     "metadata": {},
     "output_type": "execute_result"
    }
   ],
   "source": [
    "%%time\n",
    "# Processa dados da SoR, realiza tratamento e salva na camada SoT das reclamações\n",
    "job: job_ingestao_reclamacoes_sot.ETLJob = job_ingestao_reclamacoes_sot.ETLJob(input_path=\"./app/data/output/sor/tb_reclamacoes/\",\n",
    "                                                                     output_path=\"./app/data/output/sot/tb_reclamacoes/\")\n",
    "job.run()\n",
    "read_csv_files_recursively(\"./app/data/output/sot/tb_reclamacoes/\", has_header=True).head()"
   ]
  },
  {
   "cell_type": "code",
   "execution_count": null,
   "metadata": {},
   "outputs": [
    {
     "name": "stdout",
     "output_type": "stream",
     "text": [
      "Listing files with size > 0 bytes in ./app/data/input/Empregados/:\n",
      "CPU times: user 6 ms, sys: 1.22 ms, total: 7.22 ms\n",
      "Wall time: 8.22 ms\n"
     ]
    },
    {
     "data": {
      "text/html": [
       "<div><style>\n",
       ".dataframe > thead > tr > th,\n",
       ".dataframe > tbody > tr > td {\n",
       "  text-align: right;\n",
       "}\n",
       "</style>\n",
       "<small>shape: (5, 23)</small><table border=\"1\" class=\"dataframe\"><thead><tr><th>employer_name</th><th>reviews_count</th><th>culture_count</th><th>salaries_count</th><th>benefits_count</th><th>employer-website</th><th>employer-headquarters</th><th>employer-founded</th><th>employer-industry</th><th>employer-revenue</th><th>url</th><th>Geral</th><th>Cultura e valores</th><th>Diversidade e inclusão</th><th>Qualidade de vida</th><th>Alta liderança</th><th>Remuneração e benefícios</th><th>Oportunidades de carreira</th><th>Recomendam para outras pessoas(%)</th><th>Perspectiva positiva da empresa(%)</th><th>Segmento</th><th>Nome</th><th>match_percent</th></tr><tr><td>str</td><td>str</td><td>str</td><td>str</td><td>str</td><td>str</td><td>str</td><td>str</td><td>str</td><td>str</td><td>str</td><td>str</td><td>str</td><td>str</td><td>str</td><td>str</td><td>str</td><td>str</td><td>str</td><td>str</td><td>str</td><td>str</td><td>str</td></tr></thead><tbody><tr><td>&quot;BNP Paribas&quot;</td><td>&quot;13000&quot;</td><td>&quot;4100&quot;</td><td>&quot;20000&quot;</td><td>&quot;3600&quot;</td><td>&quot;http://www.gro…</td><td>&quot;Paris, França&quot;</td><td>&quot;2000.0&quot;</td><td>&quot;/Explorar/melh…</td><td>&quot;Mais de US$ 10…</td><td>&quot;https://www.gl…</td><td>&quot;3.8&quot;</td><td>&quot;3.7&quot;</td><td>&quot;4.0&quot;</td><td>&quot;3.8&quot;</td><td>&quot;3.4&quot;</td><td>&quot;3.4&quot;</td><td>&quot;3.5&quot;</td><td>&quot;77.0&quot;</td><td>&quot;63.0&quot;</td><td>&quot;S3&quot;</td><td>&quot;BNP PARIBAS&quot;</td><td>&quot;100&quot;</td></tr><tr><td>&quot;BTG Pactual&quot;</td><td>&quot;1600&quot;</td><td>&quot;683&quot;</td><td>&quot;2800&quot;</td><td>&quot;635&quot;</td><td>&quot;http://www.btg…</td><td>&quot;São Paulo, Bra…</td><td>null</td><td>&quot;/Explorar/melh…</td><td>&quot;Desconhecida/n…</td><td>&quot;https://www.gl…</td><td>&quot;4.0&quot;</td><td>&quot;3.7&quot;</td><td>&quot;3.5&quot;</td><td>&quot;2.8&quot;</td><td>&quot;3.7&quot;</td><td>&quot;4.4&quot;</td><td>&quot;4.2&quot;</td><td>&quot;78.0&quot;</td><td>&quot;73.0&quot;</td><td>&quot;S1&quot;</td><td>&quot;BTG PACTUAL&quot;</td><td>&quot;100&quot;</td></tr><tr><td>&quot;Banco Alfa&quot;</td><td>&quot;175&quot;</td><td>&quot;74&quot;</td><td>&quot;271&quot;</td><td>&quot;105&quot;</td><td>&quot;http://www.alf…</td><td>&quot;São Paulo, Bra…</td><td>&quot;1925.0&quot;</td><td>&quot;/Explorar/melh…</td><td>&quot;Desconhecida/n…</td><td>&quot;https://www.gl…</td><td>&quot;3.5&quot;</td><td>&quot;3.2&quot;</td><td>&quot;3.2&quot;</td><td>&quot;3.1&quot;</td><td>&quot;2.8&quot;</td><td>&quot;3.8&quot;</td><td>&quot;2.7&quot;</td><td>&quot;68.0&quot;</td><td>&quot;47.0&quot;</td><td>&quot;S3&quot;</td><td>&quot;ALFA&quot;</td><td>&quot;100&quot;</td></tr><tr><td>&quot;Banco BMG&quot;</td><td>&quot;445&quot;</td><td>&quot;232&quot;</td><td>&quot;704&quot;</td><td>&quot;277&quot;</td><td>&quot;http://www.ban…</td><td>&quot;São Paulo, Bra…</td><td>&quot;1930.0&quot;</td><td>&quot;/Explorar/melh…</td><td>&quot;De US$ 1 a US$…</td><td>&quot;https://www.gl…</td><td>&quot;4.1&quot;</td><td>&quot;3.9&quot;</td><td>&quot;4.1&quot;</td><td>&quot;3.7&quot;</td><td>&quot;3.6&quot;</td><td>&quot;4.2&quot;</td><td>&quot;3.5&quot;</td><td>&quot;79.0&quot;</td><td>&quot;63.0&quot;</td><td>&quot;S3&quot;</td><td>&quot;BMG&quot;</td><td>&quot;100&quot;</td></tr><tr><td>&quot;Banco Bradesco…</td><td>&quot;11000&quot;</td><td>&quot;3300&quot;</td><td>&quot;19000&quot;</td><td>&quot;3200&quot;</td><td>&quot;http://www.ban…</td><td>&quot;Osasco, Brasil…</td><td>&quot;1943.0&quot;</td><td>&quot;/Explorar/melh…</td><td>&quot;Mais de US$ 10…</td><td>&quot;https://www.gl…</td><td>&quot;4.2&quot;</td><td>&quot;3.8&quot;</td><td>&quot;3.9&quot;</td><td>&quot;3.4&quot;</td><td>&quot;3.4&quot;</td><td>&quot;4.3&quot;</td><td>&quot;3.8&quot;</td><td>&quot;81.0&quot;</td><td>&quot;66.0&quot;</td><td>&quot;S1&quot;</td><td>&quot;BRADESCO&quot;</td><td>&quot;100&quot;</td></tr></tbody></table></div>"
      ],
      "text/plain": [
       "shape: (5, 23)\n",
       "┌───────────┬───────────┬───────────┬───────────┬───┬───────────┬──────────┬───────────┬───────────┐\n",
       "│ employer_ ┆ reviews_c ┆ culture_c ┆ salaries_ ┆ … ┆ Perspecti ┆ Segmento ┆ Nome      ┆ match_per │\n",
       "│ name      ┆ ount      ┆ ount      ┆ count     ┆   ┆ va        ┆ ---      ┆ ---       ┆ cent      │\n",
       "│ ---       ┆ ---       ┆ ---       ┆ ---       ┆   ┆ positiva  ┆ str      ┆ str       ┆ ---       │\n",
       "│ str       ┆ str       ┆ str       ┆ str       ┆   ┆ da        ┆          ┆           ┆ str       │\n",
       "│           ┆           ┆           ┆           ┆   ┆ empresa(… ┆          ┆           ┆           │\n",
       "│           ┆           ┆           ┆           ┆   ┆ ---       ┆          ┆           ┆           │\n",
       "│           ┆           ┆           ┆           ┆   ┆ str       ┆          ┆           ┆           │\n",
       "╞═══════════╪═══════════╪═══════════╪═══════════╪═══╪═══════════╪══════════╪═══════════╪═══════════╡\n",
       "│ BNP       ┆ 13000     ┆ 4100      ┆ 20000     ┆ … ┆ 63.0      ┆ S3       ┆ BNP       ┆ 100       │\n",
       "│ Paribas   ┆           ┆           ┆           ┆   ┆           ┆          ┆ PARIBAS   ┆           │\n",
       "│ BTG       ┆ 1600      ┆ 683       ┆ 2800      ┆ … ┆ 73.0      ┆ S1       ┆ BTG       ┆ 100       │\n",
       "│ Pactual   ┆           ┆           ┆           ┆   ┆           ┆          ┆ PACTUAL   ┆           │\n",
       "│ Banco     ┆ 175       ┆ 74        ┆ 271       ┆ … ┆ 47.0      ┆ S3       ┆ ALFA      ┆ 100       │\n",
       "│ Alfa      ┆           ┆           ┆           ┆   ┆           ┆          ┆           ┆           │\n",
       "│ Banco BMG ┆ 445       ┆ 232       ┆ 704       ┆ … ┆ 63.0      ┆ S3       ┆ BMG       ┆ 100       │\n",
       "│ Banco     ┆ 11000     ┆ 3300      ┆ 19000     ┆ … ┆ 66.0      ┆ S1       ┆ BRADESCO  ┆ 100       │\n",
       "│ Bradesco  ┆           ┆           ┆           ┆   ┆           ┆          ┆           ┆           │\n",
       "└───────────┴───────────┴───────────┴───────────┴───┴───────────┴──────────┴───────────┴───────────┘"
      ]
     },
     "execution_count": 20,
     "metadata": {},
     "output_type": "execute_result"
    }
   ],
   "source": [
    "%%time\n",
    "# Processa dados raw Empregados para gerar camada Source of Record (SoR)\n",
    "job: job_ingestao_empregados_sor.ETLJob = job_ingestao_empregados_sor.ETLJob(input_path=\"./app/data/input/Empregados/\",\n",
    "                                                                             output_path=\"./app/data/output/sor/tb_empregados/\",\n",
    "                                                                             dat_ref=DATA_REFERENCIA)\n",
    "job.run()\n",
    "read_csv_files_recursively(\"./app/data/output/sor/tb_empregados/\", has_header=True).head()"
   ]
  },
  {
   "cell_type": "code",
   "execution_count": null,
   "metadata": {},
   "outputs": [
    {
     "name": "stdout",
     "output_type": "stream",
     "text": [
      "Listing files with size > 0 bytes in ./app/data/output/sor/tb_empregados/anomesdia=20230814:\n",
      "CPU times: user 10.6 ms, sys: 0 ns, total: 10.6 ms\n",
      "Wall time: 8.74 ms\n"
     ]
    },
    {
     "data": {
      "text/html": [
       "<div><style>\n",
       ".dataframe > thead > tr > th,\n",
       ".dataframe > tbody > tr > td {\n",
       "  text-align: right;\n",
       "}\n",
       "</style>\n",
       "<small>shape: (5, 22)</small><table border=\"1\" class=\"dataframe\"><thead><tr><th>qtd_aval</th><th>qtd_aval_cult</th><th>qtd_aval_salr</th><th>qtd_aval_benef</th><th>txt_url_instituicao</th><th>nom_mun_sede_instituicao</th><th>nom_pais_sede_instituicao</th><th>ano_fund_instituicao</th><th>nom_segto_atua_instituicao</th><th>txt_faixa_rend_instituicao</th><th>txt_url_orig_data</th><th>vlr_ind_satis_geral</th><th>vlr_ind_cult_valrs</th><th>vlr_ind_divr_incl</th><th>vlr_ind_qual_vida</th><th>vlr_ind_alt_lider</th><th>vlr_ind_remu_bene</th><th>vlr_ind_oprt_carr</th><th>vlr_pct_recom_outr_pess</th><th>vlr_pct_perspec_pos_instituicao</th><th>nom_instituicao</th><th>&quot;dat_hor_psst&quot;</th></tr><tr><td>i64</td><td>i64</td><td>i64</td><td>i64</td><td>str</td><td>str</td><td>str</td><td>i64</td><td>str</td><td>str</td><td>str</td><td>f64</td><td>f64</td><td>f64</td><td>f64</td><td>f64</td><td>f64</td><td>f64</td><td>f64</td><td>f64</td><td>str</td><td>f64</td></tr></thead><tbody><tr><td>13000</td><td>4100</td><td>20000</td><td>3600</td><td>&quot;http://www.gro…</td><td>&quot;Paris&quot;</td><td>&quot;França&quot;</td><td>2000</td><td>&quot;melhores-servi…</td><td>&quot;Mais de US$ 10…</td><td>&quot;https://www.gl…</td><td>3.8</td><td>3.7</td><td>4.0</td><td>3.8</td><td>3.4</td><td>3.4</td><td>3.5</td><td>77.0</td><td>63.0</td><td>&quot;BNP PARIBAS&quot;</td><td>1.6922e9</td></tr><tr><td>1600</td><td>683</td><td>2800</td><td>635</td><td>&quot;http://www.btg…</td><td>&quot;São Paulo&quot;</td><td>&quot;Brasil&quot;</td><td>null</td><td>&quot;melhores-gestã…</td><td>&quot;Desconhecida/n…</td><td>&quot;https://www.gl…</td><td>4.0</td><td>3.7</td><td>3.5</td><td>2.8</td><td>3.7</td><td>4.4</td><td>4.2</td><td>78.0</td><td>73.0</td><td>&quot;BTG PACTUAL&quot;</td><td>1.6922e9</td></tr><tr><td>175</td><td>74</td><td>271</td><td>105</td><td>&quot;http://www.alf…</td><td>&quot;São Paulo&quot;</td><td>&quot;Brasil&quot;</td><td>1925</td><td>&quot;melhores-servi…</td><td>&quot;Desconhecida/n…</td><td>&quot;https://www.gl…</td><td>3.5</td><td>3.2</td><td>3.2</td><td>3.1</td><td>2.8</td><td>3.8</td><td>2.7</td><td>68.0</td><td>47.0</td><td>&quot;ALFA&quot;</td><td>1.6922e9</td></tr><tr><td>445</td><td>232</td><td>704</td><td>277</td><td>&quot;http://www.ban…</td><td>&quot;São Paulo&quot;</td><td>&quot;Brasil&quot;</td><td>1930</td><td>&quot;melhores-servi…</td><td>&quot;De US$ 1 a US$…</td><td>&quot;https://www.gl…</td><td>4.1</td><td>3.9</td><td>4.1</td><td>3.7</td><td>3.6</td><td>4.2</td><td>3.5</td><td>79.0</td><td>63.0</td><td>&quot;BMG&quot;</td><td>1.6922e9</td></tr><tr><td>11000</td><td>3300</td><td>19000</td><td>3200</td><td>&quot;http://www.ban…</td><td>&quot;Osasco&quot;</td><td>&quot;Brasil&quot;</td><td>1943</td><td>&quot;melhores-servi…</td><td>&quot;Mais de US$ 10…</td><td>&quot;https://www.gl…</td><td>4.2</td><td>3.8</td><td>3.9</td><td>3.4</td><td>3.4</td><td>4.3</td><td>3.8</td><td>81.0</td><td>66.0</td><td>&quot;BRADESCO&quot;</td><td>1.6922e9</td></tr></tbody></table></div>"
      ],
      "text/plain": [
       "shape: (5, 22)\n",
       "┌──────────┬───────────┬───────────┬───────────┬───┬───────────┬───────────┬───────────┬───────────┐\n",
       "│ qtd_aval ┆ qtd_aval_ ┆ qtd_aval_ ┆ qtd_aval_ ┆ … ┆ vlr_pct_r ┆ vlr_pct_p ┆ nom_insti ┆ \"dat_hor_ │\n",
       "│ ---      ┆ cult      ┆ salr      ┆ benef     ┆   ┆ ecom_outr ┆ erspec_po ┆ tuicao    ┆ psst\"     │\n",
       "│ i64      ┆ ---       ┆ ---       ┆ ---       ┆   ┆ _pess     ┆ s_institu ┆ ---       ┆ ---       │\n",
       "│          ┆ i64       ┆ i64       ┆ i64       ┆   ┆ ---       ┆ icao      ┆ str       ┆ f64       │\n",
       "│          ┆           ┆           ┆           ┆   ┆ f64       ┆ ---       ┆           ┆           │\n",
       "│          ┆           ┆           ┆           ┆   ┆           ┆ f64       ┆           ┆           │\n",
       "╞══════════╪═══════════╪═══════════╪═══════════╪═══╪═══════════╪═══════════╪═══════════╪═══════════╡\n",
       "│ 13000    ┆ 4100      ┆ 20000     ┆ 3600      ┆ … ┆ 77.0      ┆ 63.0      ┆ BNP       ┆ 1.6922e9  │\n",
       "│          ┆           ┆           ┆           ┆   ┆           ┆           ┆ PARIBAS   ┆           │\n",
       "│ 1600     ┆ 683       ┆ 2800      ┆ 635       ┆ … ┆ 78.0      ┆ 73.0      ┆ BTG       ┆ 1.6922e9  │\n",
       "│          ┆           ┆           ┆           ┆   ┆           ┆           ┆ PACTUAL   ┆           │\n",
       "│ 175      ┆ 74        ┆ 271       ┆ 105       ┆ … ┆ 68.0      ┆ 47.0      ┆ ALFA      ┆ 1.6922e9  │\n",
       "│ 445      ┆ 232       ┆ 704       ┆ 277       ┆ … ┆ 79.0      ┆ 63.0      ┆ BMG       ┆ 1.6922e9  │\n",
       "│ 11000    ┆ 3300      ┆ 19000     ┆ 3200      ┆ … ┆ 81.0      ┆ 66.0      ┆ BRADESCO  ┆ 1.6922e9  │\n",
       "└──────────┴───────────┴───────────┴───────────┴───┴───────────┴───────────┴───────────┴───────────┘"
      ]
     },
     "execution_count": 21,
     "metadata": {},
     "output_type": "execute_result"
    }
   ],
   "source": [
    "%%time\n",
    "# Processa dados da SoR, realiza tratamento e salva na camada SoT dos Empregados\n",
    "job: job_ingestao_empregados_sot.ETLJob = job_ingestao_empregados_sot.ETLJob(input_path=f\"./app/data/output/sor/tb_empregados/anomesdia={DATA_REFERENCIA.strftime('%Y%m%d')}\",\n",
    "                                                                             output_path=\"./app/data/output/sot/tb_empregados/\",\n",
    "                                                                             dat_ref=DATA_REFERENCIA)\n",
    "job.run()\n",
    "read_csv_files_recursively(\"./app/data/output/sot/tb_empregados/\", has_header=True).head()"
   ]
  },
  {
   "cell_type": "code",
   "execution_count": null,
   "metadata": {},
   "outputs": [
    {
     "name": "stdout",
     "output_type": "stream",
     "text": [
      "CPU times: user 34.2 ms, sys: 10.9 ms, total: 45.1 ms\n",
      "Wall time: 29.6 ms\n"
     ]
    },
    {
     "data": {
      "text/html": [
       "<div><style>\n",
       ".dataframe > thead > tr > th,\n",
       ".dataframe > tbody > tr > td {\n",
       "  text-align: right;\n",
       "}\n",
       "</style>\n",
       "<small>shape: (5, 10)</small><table border=\"1\" class=\"dataframe\"><thead><tr><th>nom_instituicao</th><th>num_cnpj_instituicao</th><th>nom_segto_instituicao</th><th>max_qtd_totl_clie_ccs_scr</th><th>avg_ind_recl</th><th>sum_qtd_totl_recl</th><th>avg_ind_geral_instituicao</th><th>avg_ind_remu_bene_instituicao</th><th>dat_hor_psst</th><th>anomesdia</th></tr><tr><td>str</td><td>i64</td><td>str</td><td>i64</td><td>f64</td><td>i64</td><td>f64</td><td>f64</td><td>str</td><td>i64</td></tr></thead><tbody><tr><td>&quot;CAIXA ECONOMIC…</td><td>360305</td><td>&quot;S1&quot;</td><td>148308904</td><td>36.2</td><td>16524</td><td>4.4</td><td>4.3</td><td>&quot;2023-08-15 23:…</td><td>20230814</td></tr><tr><td>&quot;BTG PACTUAL&quot;</td><td>30306294</td><td>&quot;S1&quot;</td><td>766998</td><td>null</td><td>133</td><td>4.0</td><td>4.4</td><td>&quot;2023-08-15 23:…</td><td>20230814</td></tr><tr><td>&quot;JP MORGAN CHAS…</td><td>33172537</td><td>&quot;S3&quot;</td><td>4029</td><td>null</td><td>4</td><td>4.1</td><td>3.9</td><td>&quot;2023-08-15 23:…</td><td>20230814</td></tr><tr><td>&quot;ITAU&quot;</td><td>60872504</td><td>&quot;S1&quot;</td><td>97712980</td><td>19.72</td><td>6878</td><td>4.5</td><td>4.6</td><td>&quot;2023-08-15 23:…</td><td>20230814</td></tr><tr><td>&quot;SOCIETE GENERA…</td><td>61533584</td><td>&quot;S3&quot;</td><td>670</td><td>null</td><td>3</td><td>3.7</td><td>3.3</td><td>&quot;2023-08-15 23:…</td><td>20230814</td></tr></tbody></table></div>"
      ],
      "text/plain": [
       "shape: (5, 10)\n",
       "┌───────────┬───────────┬───────────┬───────────┬───┬───────────┬───────────┬───────────┬──────────┐\n",
       "│ nom_insti ┆ num_cnpj_ ┆ nom_segto ┆ max_qtd_t ┆ … ┆ avg_ind_g ┆ avg_ind_r ┆ dat_hor_p ┆ anomesdi │\n",
       "│ tuicao    ┆ instituic ┆ _institui ┆ otl_clie_ ┆   ┆ eral_inst ┆ emu_bene_ ┆ sst       ┆ a        │\n",
       "│ ---       ┆ ao        ┆ cao       ┆ ccs_scr   ┆   ┆ ituicao   ┆ instituic ┆ ---       ┆ ---      │\n",
       "│ str       ┆ ---       ┆ ---       ┆ ---       ┆   ┆ ---       ┆ ao        ┆ str       ┆ i64      │\n",
       "│           ┆ i64       ┆ str       ┆ i64       ┆   ┆ f64       ┆ ---       ┆           ┆          │\n",
       "│           ┆           ┆           ┆           ┆   ┆           ┆ f64       ┆           ┆          │\n",
       "╞═══════════╪═══════════╪═══════════╪═══════════╪═══╪═══════════╪═══════════╪═══════════╪══════════╡\n",
       "│ CAIXA     ┆ 360305    ┆ S1        ┆ 148308904 ┆ … ┆ 4.4       ┆ 4.3       ┆ 2023-08-1 ┆ 20230814 │\n",
       "│ ECONOMICA ┆           ┆           ┆           ┆   ┆           ┆           ┆ 5 23:58:4 ┆          │\n",
       "│ FEDERAL   ┆           ┆           ┆           ┆   ┆           ┆           ┆ 1.860205  ┆          │\n",
       "│ BTG       ┆ 30306294  ┆ S1        ┆ 766998    ┆ … ┆ 4.0       ┆ 4.4       ┆ 2023-08-1 ┆ 20230814 │\n",
       "│ PACTUAL   ┆           ┆           ┆           ┆   ┆           ┆           ┆ 5 23:58:4 ┆          │\n",
       "│           ┆           ┆           ┆           ┆   ┆           ┆           ┆ 1.860205  ┆          │\n",
       "│ JP MORGAN ┆ 33172537  ┆ S3        ┆ 4029      ┆ … ┆ 4.1       ┆ 3.9       ┆ 2023-08-1 ┆ 20230814 │\n",
       "│ CHASE     ┆           ┆           ┆           ┆   ┆           ┆           ┆ 5 23:58:4 ┆          │\n",
       "│           ┆           ┆           ┆           ┆   ┆           ┆           ┆ 1.860205  ┆          │\n",
       "│ ITAU      ┆ 60872504  ┆ S1        ┆ 97712980  ┆ … ┆ 4.5       ┆ 4.6       ┆ 2023-08-1 ┆ 20230814 │\n",
       "│           ┆           ┆           ┆           ┆   ┆           ┆           ┆ 5 23:58:4 ┆          │\n",
       "│           ┆           ┆           ┆           ┆   ┆           ┆           ┆ 1.860205  ┆          │\n",
       "│ SOCIETE   ┆ 61533584  ┆ S3        ┆ 670       ┆ … ┆ 3.7       ┆ 3.3       ┆ 2023-08-1 ┆ 20230814 │\n",
       "│ GENERALE  ┆           ┆           ┆           ┆   ┆           ┆           ┆ 5 23:58:4 ┆          │\n",
       "│           ┆           ┆           ┆           ┆   ┆           ┆           ┆ 1.860205  ┆          │\n",
       "└───────────┴───────────┴───────────┴───────────┴───┴───────────┴───────────┴───────────┴──────────┘"
      ]
     },
     "execution_count": 22,
     "metadata": {},
     "output_type": "execute_result"
    }
   ],
   "source": [
    "%%time\n",
    "# Gera relatório final cruzando todas as SoTs\n",
    "job: job_ingestao_01_spec.ETLJob  = job_ingestao_01_spec.ETLJob(dat_ref=DATA_REFERENCIA)\n",
    "job.run()\n",
    "relatorio = read_csv_files_recursively(f\"./app/data/output/spec/report_atividade/anomesdia={DATA_REFERENCIA.strftime('%Y%m%d')}/\", has_header=True)\n",
    "relatorio.head()"
   ]
  },
  {
   "cell_type": "code",
   "execution_count": null,
   "metadata": {},
   "outputs": [],
   "source": [
    "import pandas as pd\n",
    "relatorio = pd.read_csv(f\"./app/data/output/spec/report_atividade/anomesdia={DATA_REFERENCIA.strftime('%Y%m%d')}/tb_relatorio_final.csv\",sep=\";\")"
   ]
  },
  {
   "cell_type": "code",
   "execution_count": null,
   "metadata": {},
   "outputs": [
    {
     "data": {
      "application/vnd.plotly.v1+json": {
       "config": {
        "plotlyServerURL": "https://plot.ly"
       },
       "data": [
        {
         "alignmentgroup": "True",
         "hovertemplate": "Segmento Instituição=%{x}<br>Quantidade de Instituições=%{y}<extra></extra>",
         "legendgroup": "",
         "marker": {
          "color": "#636efa",
          "pattern": {
           "shape": ""
          }
         },
         "name": "",
         "offsetgroup": "",
         "orientation": "v",
         "showlegend": false,
         "textposition": "auto",
         "type": "bar",
         "x": [
          "S1",
          "S2",
          "S3"
         ],
         "xaxis": "x",
         "y": [
          5,
          5,
          14
         ],
         "yaxis": "y"
        }
       ],
       "layout": {
        "barmode": "relative",
        "legend": {
         "tracegroupgap": 0
        },
        "template": {
         "data": {
          "bar": [
           {
            "error_x": {
             "color": "#2a3f5f"
            },
            "error_y": {
             "color": "#2a3f5f"
            },
            "marker": {
             "line": {
              "color": "#E5ECF6",
              "width": 0.5
             },
             "pattern": {
              "fillmode": "overlay",
              "size": 10,
              "solidity": 0.2
             }
            },
            "type": "bar"
           }
          ],
          "barpolar": [
           {
            "marker": {
             "line": {
              "color": "#E5ECF6",
              "width": 0.5
             },
             "pattern": {
              "fillmode": "overlay",
              "size": 10,
              "solidity": 0.2
             }
            },
            "type": "barpolar"
           }
          ],
          "carpet": [
           {
            "aaxis": {
             "endlinecolor": "#2a3f5f",
             "gridcolor": "white",
             "linecolor": "white",
             "minorgridcolor": "white",
             "startlinecolor": "#2a3f5f"
            },
            "baxis": {
             "endlinecolor": "#2a3f5f",
             "gridcolor": "white",
             "linecolor": "white",
             "minorgridcolor": "white",
             "startlinecolor": "#2a3f5f"
            },
            "type": "carpet"
           }
          ],
          "choropleth": [
           {
            "colorbar": {
             "outlinewidth": 0,
             "ticks": ""
            },
            "type": "choropleth"
           }
          ],
          "contour": [
           {
            "colorbar": {
             "outlinewidth": 0,
             "ticks": ""
            },
            "colorscale": [
             [
              0,
              "#0d0887"
             ],
             [
              0.1111111111111111,
              "#46039f"
             ],
             [
              0.2222222222222222,
              "#7201a8"
             ],
             [
              0.3333333333333333,
              "#9c179e"
             ],
             [
              0.4444444444444444,
              "#bd3786"
             ],
             [
              0.5555555555555556,
              "#d8576b"
             ],
             [
              0.6666666666666666,
              "#ed7953"
             ],
             [
              0.7777777777777778,
              "#fb9f3a"
             ],
             [
              0.8888888888888888,
              "#fdca26"
             ],
             [
              1,
              "#f0f921"
             ]
            ],
            "type": "contour"
           }
          ],
          "contourcarpet": [
           {
            "colorbar": {
             "outlinewidth": 0,
             "ticks": ""
            },
            "type": "contourcarpet"
           }
          ],
          "heatmap": [
           {
            "colorbar": {
             "outlinewidth": 0,
             "ticks": ""
            },
            "colorscale": [
             [
              0,
              "#0d0887"
             ],
             [
              0.1111111111111111,
              "#46039f"
             ],
             [
              0.2222222222222222,
              "#7201a8"
             ],
             [
              0.3333333333333333,
              "#9c179e"
             ],
             [
              0.4444444444444444,
              "#bd3786"
             ],
             [
              0.5555555555555556,
              "#d8576b"
             ],
             [
              0.6666666666666666,
              "#ed7953"
             ],
             [
              0.7777777777777778,
              "#fb9f3a"
             ],
             [
              0.8888888888888888,
              "#fdca26"
             ],
             [
              1,
              "#f0f921"
             ]
            ],
            "type": "heatmap"
           }
          ],
          "heatmapgl": [
           {
            "colorbar": {
             "outlinewidth": 0,
             "ticks": ""
            },
            "colorscale": [
             [
              0,
              "#0d0887"
             ],
             [
              0.1111111111111111,
              "#46039f"
             ],
             [
              0.2222222222222222,
              "#7201a8"
             ],
             [
              0.3333333333333333,
              "#9c179e"
             ],
             [
              0.4444444444444444,
              "#bd3786"
             ],
             [
              0.5555555555555556,
              "#d8576b"
             ],
             [
              0.6666666666666666,
              "#ed7953"
             ],
             [
              0.7777777777777778,
              "#fb9f3a"
             ],
             [
              0.8888888888888888,
              "#fdca26"
             ],
             [
              1,
              "#f0f921"
             ]
            ],
            "type": "heatmapgl"
           }
          ],
          "histogram": [
           {
            "marker": {
             "pattern": {
              "fillmode": "overlay",
              "size": 10,
              "solidity": 0.2
             }
            },
            "type": "histogram"
           }
          ],
          "histogram2d": [
           {
            "colorbar": {
             "outlinewidth": 0,
             "ticks": ""
            },
            "colorscale": [
             [
              0,
              "#0d0887"
             ],
             [
              0.1111111111111111,
              "#46039f"
             ],
             [
              0.2222222222222222,
              "#7201a8"
             ],
             [
              0.3333333333333333,
              "#9c179e"
             ],
             [
              0.4444444444444444,
              "#bd3786"
             ],
             [
              0.5555555555555556,
              "#d8576b"
             ],
             [
              0.6666666666666666,
              "#ed7953"
             ],
             [
              0.7777777777777778,
              "#fb9f3a"
             ],
             [
              0.8888888888888888,
              "#fdca26"
             ],
             [
              1,
              "#f0f921"
             ]
            ],
            "type": "histogram2d"
           }
          ],
          "histogram2dcontour": [
           {
            "colorbar": {
             "outlinewidth": 0,
             "ticks": ""
            },
            "colorscale": [
             [
              0,
              "#0d0887"
             ],
             [
              0.1111111111111111,
              "#46039f"
             ],
             [
              0.2222222222222222,
              "#7201a8"
             ],
             [
              0.3333333333333333,
              "#9c179e"
             ],
             [
              0.4444444444444444,
              "#bd3786"
             ],
             [
              0.5555555555555556,
              "#d8576b"
             ],
             [
              0.6666666666666666,
              "#ed7953"
             ],
             [
              0.7777777777777778,
              "#fb9f3a"
             ],
             [
              0.8888888888888888,
              "#fdca26"
             ],
             [
              1,
              "#f0f921"
             ]
            ],
            "type": "histogram2dcontour"
           }
          ],
          "mesh3d": [
           {
            "colorbar": {
             "outlinewidth": 0,
             "ticks": ""
            },
            "type": "mesh3d"
           }
          ],
          "parcoords": [
           {
            "line": {
             "colorbar": {
              "outlinewidth": 0,
              "ticks": ""
             }
            },
            "type": "parcoords"
           }
          ],
          "pie": [
           {
            "automargin": true,
            "type": "pie"
           }
          ],
          "scatter": [
           {
            "fillpattern": {
             "fillmode": "overlay",
             "size": 10,
             "solidity": 0.2
            },
            "type": "scatter"
           }
          ],
          "scatter3d": [
           {
            "line": {
             "colorbar": {
              "outlinewidth": 0,
              "ticks": ""
             }
            },
            "marker": {
             "colorbar": {
              "outlinewidth": 0,
              "ticks": ""
             }
            },
            "type": "scatter3d"
           }
          ],
          "scattercarpet": [
           {
            "marker": {
             "colorbar": {
              "outlinewidth": 0,
              "ticks": ""
             }
            },
            "type": "scattercarpet"
           }
          ],
          "scattergeo": [
           {
            "marker": {
             "colorbar": {
              "outlinewidth": 0,
              "ticks": ""
             }
            },
            "type": "scattergeo"
           }
          ],
          "scattergl": [
           {
            "marker": {
             "colorbar": {
              "outlinewidth": 0,
              "ticks": ""
             }
            },
            "type": "scattergl"
           }
          ],
          "scattermapbox": [
           {
            "marker": {
             "colorbar": {
              "outlinewidth": 0,
              "ticks": ""
             }
            },
            "type": "scattermapbox"
           }
          ],
          "scatterpolar": [
           {
            "marker": {
             "colorbar": {
              "outlinewidth": 0,
              "ticks": ""
             }
            },
            "type": "scatterpolar"
           }
          ],
          "scatterpolargl": [
           {
            "marker": {
             "colorbar": {
              "outlinewidth": 0,
              "ticks": ""
             }
            },
            "type": "scatterpolargl"
           }
          ],
          "scatterternary": [
           {
            "marker": {
             "colorbar": {
              "outlinewidth": 0,
              "ticks": ""
             }
            },
            "type": "scatterternary"
           }
          ],
          "surface": [
           {
            "colorbar": {
             "outlinewidth": 0,
             "ticks": ""
            },
            "colorscale": [
             [
              0,
              "#0d0887"
             ],
             [
              0.1111111111111111,
              "#46039f"
             ],
             [
              0.2222222222222222,
              "#7201a8"
             ],
             [
              0.3333333333333333,
              "#9c179e"
             ],
             [
              0.4444444444444444,
              "#bd3786"
             ],
             [
              0.5555555555555556,
              "#d8576b"
             ],
             [
              0.6666666666666666,
              "#ed7953"
             ],
             [
              0.7777777777777778,
              "#fb9f3a"
             ],
             [
              0.8888888888888888,
              "#fdca26"
             ],
             [
              1,
              "#f0f921"
             ]
            ],
            "type": "surface"
           }
          ],
          "table": [
           {
            "cells": {
             "fill": {
              "color": "#EBF0F8"
             },
             "line": {
              "color": "white"
             }
            },
            "header": {
             "fill": {
              "color": "#C8D4E3"
             },
             "line": {
              "color": "white"
             }
            },
            "type": "table"
           }
          ]
         },
         "layout": {
          "annotationdefaults": {
           "arrowcolor": "#2a3f5f",
           "arrowhead": 0,
           "arrowwidth": 1
          },
          "autotypenumbers": "strict",
          "coloraxis": {
           "colorbar": {
            "outlinewidth": 0,
            "ticks": ""
           }
          },
          "colorscale": {
           "diverging": [
            [
             0,
             "#8e0152"
            ],
            [
             0.1,
             "#c51b7d"
            ],
            [
             0.2,
             "#de77ae"
            ],
            [
             0.3,
             "#f1b6da"
            ],
            [
             0.4,
             "#fde0ef"
            ],
            [
             0.5,
             "#f7f7f7"
            ],
            [
             0.6,
             "#e6f5d0"
            ],
            [
             0.7,
             "#b8e186"
            ],
            [
             0.8,
             "#7fbc41"
            ],
            [
             0.9,
             "#4d9221"
            ],
            [
             1,
             "#276419"
            ]
           ],
           "sequential": [
            [
             0,
             "#0d0887"
            ],
            [
             0.1111111111111111,
             "#46039f"
            ],
            [
             0.2222222222222222,
             "#7201a8"
            ],
            [
             0.3333333333333333,
             "#9c179e"
            ],
            [
             0.4444444444444444,
             "#bd3786"
            ],
            [
             0.5555555555555556,
             "#d8576b"
            ],
            [
             0.6666666666666666,
             "#ed7953"
            ],
            [
             0.7777777777777778,
             "#fb9f3a"
            ],
            [
             0.8888888888888888,
             "#fdca26"
            ],
            [
             1,
             "#f0f921"
            ]
           ],
           "sequentialminus": [
            [
             0,
             "#0d0887"
            ],
            [
             0.1111111111111111,
             "#46039f"
            ],
            [
             0.2222222222222222,
             "#7201a8"
            ],
            [
             0.3333333333333333,
             "#9c179e"
            ],
            [
             0.4444444444444444,
             "#bd3786"
            ],
            [
             0.5555555555555556,
             "#d8576b"
            ],
            [
             0.6666666666666666,
             "#ed7953"
            ],
            [
             0.7777777777777778,
             "#fb9f3a"
            ],
            [
             0.8888888888888888,
             "#fdca26"
            ],
            [
             1,
             "#f0f921"
            ]
           ]
          },
          "colorway": [
           "#636efa",
           "#EF553B",
           "#00cc96",
           "#ab63fa",
           "#FFA15A",
           "#19d3f3",
           "#FF6692",
           "#B6E880",
           "#FF97FF",
           "#FECB52"
          ],
          "font": {
           "color": "#2a3f5f"
          },
          "geo": {
           "bgcolor": "white",
           "lakecolor": "white",
           "landcolor": "#E5ECF6",
           "showlakes": true,
           "showland": true,
           "subunitcolor": "white"
          },
          "hoverlabel": {
           "align": "left"
          },
          "hovermode": "closest",
          "mapbox": {
           "style": "light"
          },
          "paper_bgcolor": "white",
          "plot_bgcolor": "#E5ECF6",
          "polar": {
           "angularaxis": {
            "gridcolor": "white",
            "linecolor": "white",
            "ticks": ""
           },
           "bgcolor": "#E5ECF6",
           "radialaxis": {
            "gridcolor": "white",
            "linecolor": "white",
            "ticks": ""
           }
          },
          "scene": {
           "xaxis": {
            "backgroundcolor": "#E5ECF6",
            "gridcolor": "white",
            "gridwidth": 2,
            "linecolor": "white",
            "showbackground": true,
            "ticks": "",
            "zerolinecolor": "white"
           },
           "yaxis": {
            "backgroundcolor": "#E5ECF6",
            "gridcolor": "white",
            "gridwidth": 2,
            "linecolor": "white",
            "showbackground": true,
            "ticks": "",
            "zerolinecolor": "white"
           },
           "zaxis": {
            "backgroundcolor": "#E5ECF6",
            "gridcolor": "white",
            "gridwidth": 2,
            "linecolor": "white",
            "showbackground": true,
            "ticks": "",
            "zerolinecolor": "white"
           }
          },
          "shapedefaults": {
           "line": {
            "color": "#2a3f5f"
           }
          },
          "ternary": {
           "aaxis": {
            "gridcolor": "white",
            "linecolor": "white",
            "ticks": ""
           },
           "baxis": {
            "gridcolor": "white",
            "linecolor": "white",
            "ticks": ""
           },
           "bgcolor": "#E5ECF6",
           "caxis": {
            "gridcolor": "white",
            "linecolor": "white",
            "ticks": ""
           }
          },
          "title": {
           "x": 0.05
          },
          "xaxis": {
           "automargin": true,
           "gridcolor": "white",
           "linecolor": "white",
           "ticks": "",
           "title": {
            "standoff": 15
           },
           "zerolinecolor": "white",
           "zerolinewidth": 2
          },
          "yaxis": {
           "automargin": true,
           "gridcolor": "white",
           "linecolor": "white",
           "ticks": "",
           "title": {
            "standoff": 15
           },
           "zerolinecolor": "white",
           "zerolinewidth": 2
          }
         }
        },
        "title": {
         "text": "Quantidade de Instituições por Segmento"
        },
        "xaxis": {
         "anchor": "y",
         "domain": [
          0,
          1
         ],
         "title": {
          "text": "Segmento Instituição"
         }
        },
        "yaxis": {
         "anchor": "x",
         "domain": [
          0,
          1
         ],
         "title": {
          "text": "Quantidade de Instituições"
         }
        }
       }
      }
     },
     "metadata": {},
     "output_type": "display_data"
    }
   ],
   "source": [
    "df = pd.DataFrame(relatorio, columns=[\"nom_segto_instituicao\",\"nom_instituicao\"]).groupby(\"nom_segto_instituicao\").count()\n",
    "px.bar(df,\n",
    "       x=list(df.index),\n",
    "       y=list(df[\"nom_instituicao\"]),\n",
    "       labels={\"y\": \"Quantidade de Instituições\",\n",
    "               \"x\": \"Segmento Instituição\"},\n",
    "       title=\"Quantidade de Instituições por Segmento\")"
   ]
  },
  {
   "cell_type": "code",
   "execution_count": null,
   "metadata": {},
   "outputs": [
    {
     "data": {
      "application/vnd.plotly.v1+json": {
       "config": {
        "plotlyServerURL": "https://plot.ly"
       },
       "data": [
        {
         "alignmentgroup": "True",
         "hovertemplate": "Instituições Financeiras=%{x}<br>Quantidade de Clientes=%{y}<extra></extra>",
         "legendgroup": "",
         "marker": {
          "color": "#636efa",
          "pattern": {
           "shape": ""
          }
         },
         "name": "",
         "offsetgroup": "",
         "orientation": "v",
         "showlegend": false,
         "textposition": "auto",
         "type": "bar",
         "x": [
          "CAIXA ECONOMICA FEDERAL",
          "BRADESCO",
          "ITAU",
          "SANTANDER",
          "ORIGINAL",
          "VOTORANTIM",
          "BMG",
          "BANCO DO NORDESTE DO BRASIL S.A.",
          "PAN",
          "SICREDI",
          "BANRISUL",
          "BNP PARIBAS",
          "BTG PACTUAL",
          "ALFA",
          "BANCO FIBRA S.A.",
          "PINE",
          "MERCEDES-BENZ",
          "CITIBANK",
          "CREDIT SUISSE",
          "BOFA MERRILL LYNCH",
          "JP MORGAN CHASE",
          "DEUTSCHE",
          "BANCO SUMITOMO MITSUI BRASIL S.A.",
          "SOCIETE GENERALE"
         ],
         "xaxis": "x",
         "y": [
          148308904,
          102814534,
          97712980,
          62028657,
          47994411,
          21892612,
          12267412,
          9384798,
          8907890,
          7410928,
          5213189,
          2456247,
          766998,
          439630,
          164195,
          119595,
          20651,
          18935,
          5997,
          4928,
          4029,
          2112,
          1180,
          670
         ],
         "yaxis": "y"
        }
       ],
       "layout": {
        "barmode": "relative",
        "legend": {
         "tracegroupgap": 0
        },
        "template": {
         "data": {
          "bar": [
           {
            "error_x": {
             "color": "#2a3f5f"
            },
            "error_y": {
             "color": "#2a3f5f"
            },
            "marker": {
             "line": {
              "color": "#E5ECF6",
              "width": 0.5
             },
             "pattern": {
              "fillmode": "overlay",
              "size": 10,
              "solidity": 0.2
             }
            },
            "type": "bar"
           }
          ],
          "barpolar": [
           {
            "marker": {
             "line": {
              "color": "#E5ECF6",
              "width": 0.5
             },
             "pattern": {
              "fillmode": "overlay",
              "size": 10,
              "solidity": 0.2
             }
            },
            "type": "barpolar"
           }
          ],
          "carpet": [
           {
            "aaxis": {
             "endlinecolor": "#2a3f5f",
             "gridcolor": "white",
             "linecolor": "white",
             "minorgridcolor": "white",
             "startlinecolor": "#2a3f5f"
            },
            "baxis": {
             "endlinecolor": "#2a3f5f",
             "gridcolor": "white",
             "linecolor": "white",
             "minorgridcolor": "white",
             "startlinecolor": "#2a3f5f"
            },
            "type": "carpet"
           }
          ],
          "choropleth": [
           {
            "colorbar": {
             "outlinewidth": 0,
             "ticks": ""
            },
            "type": "choropleth"
           }
          ],
          "contour": [
           {
            "colorbar": {
             "outlinewidth": 0,
             "ticks": ""
            },
            "colorscale": [
             [
              0,
              "#0d0887"
             ],
             [
              0.1111111111111111,
              "#46039f"
             ],
             [
              0.2222222222222222,
              "#7201a8"
             ],
             [
              0.3333333333333333,
              "#9c179e"
             ],
             [
              0.4444444444444444,
              "#bd3786"
             ],
             [
              0.5555555555555556,
              "#d8576b"
             ],
             [
              0.6666666666666666,
              "#ed7953"
             ],
             [
              0.7777777777777778,
              "#fb9f3a"
             ],
             [
              0.8888888888888888,
              "#fdca26"
             ],
             [
              1,
              "#f0f921"
             ]
            ],
            "type": "contour"
           }
          ],
          "contourcarpet": [
           {
            "colorbar": {
             "outlinewidth": 0,
             "ticks": ""
            },
            "type": "contourcarpet"
           }
          ],
          "heatmap": [
           {
            "colorbar": {
             "outlinewidth": 0,
             "ticks": ""
            },
            "colorscale": [
             [
              0,
              "#0d0887"
             ],
             [
              0.1111111111111111,
              "#46039f"
             ],
             [
              0.2222222222222222,
              "#7201a8"
             ],
             [
              0.3333333333333333,
              "#9c179e"
             ],
             [
              0.4444444444444444,
              "#bd3786"
             ],
             [
              0.5555555555555556,
              "#d8576b"
             ],
             [
              0.6666666666666666,
              "#ed7953"
             ],
             [
              0.7777777777777778,
              "#fb9f3a"
             ],
             [
              0.8888888888888888,
              "#fdca26"
             ],
             [
              1,
              "#f0f921"
             ]
            ],
            "type": "heatmap"
           }
          ],
          "heatmapgl": [
           {
            "colorbar": {
             "outlinewidth": 0,
             "ticks": ""
            },
            "colorscale": [
             [
              0,
              "#0d0887"
             ],
             [
              0.1111111111111111,
              "#46039f"
             ],
             [
              0.2222222222222222,
              "#7201a8"
             ],
             [
              0.3333333333333333,
              "#9c179e"
             ],
             [
              0.4444444444444444,
              "#bd3786"
             ],
             [
              0.5555555555555556,
              "#d8576b"
             ],
             [
              0.6666666666666666,
              "#ed7953"
             ],
             [
              0.7777777777777778,
              "#fb9f3a"
             ],
             [
              0.8888888888888888,
              "#fdca26"
             ],
             [
              1,
              "#f0f921"
             ]
            ],
            "type": "heatmapgl"
           }
          ],
          "histogram": [
           {
            "marker": {
             "pattern": {
              "fillmode": "overlay",
              "size": 10,
              "solidity": 0.2
             }
            },
            "type": "histogram"
           }
          ],
          "histogram2d": [
           {
            "colorbar": {
             "outlinewidth": 0,
             "ticks": ""
            },
            "colorscale": [
             [
              0,
              "#0d0887"
             ],
             [
              0.1111111111111111,
              "#46039f"
             ],
             [
              0.2222222222222222,
              "#7201a8"
             ],
             [
              0.3333333333333333,
              "#9c179e"
             ],
             [
              0.4444444444444444,
              "#bd3786"
             ],
             [
              0.5555555555555556,
              "#d8576b"
             ],
             [
              0.6666666666666666,
              "#ed7953"
             ],
             [
              0.7777777777777778,
              "#fb9f3a"
             ],
             [
              0.8888888888888888,
              "#fdca26"
             ],
             [
              1,
              "#f0f921"
             ]
            ],
            "type": "histogram2d"
           }
          ],
          "histogram2dcontour": [
           {
            "colorbar": {
             "outlinewidth": 0,
             "ticks": ""
            },
            "colorscale": [
             [
              0,
              "#0d0887"
             ],
             [
              0.1111111111111111,
              "#46039f"
             ],
             [
              0.2222222222222222,
              "#7201a8"
             ],
             [
              0.3333333333333333,
              "#9c179e"
             ],
             [
              0.4444444444444444,
              "#bd3786"
             ],
             [
              0.5555555555555556,
              "#d8576b"
             ],
             [
              0.6666666666666666,
              "#ed7953"
             ],
             [
              0.7777777777777778,
              "#fb9f3a"
             ],
             [
              0.8888888888888888,
              "#fdca26"
             ],
             [
              1,
              "#f0f921"
             ]
            ],
            "type": "histogram2dcontour"
           }
          ],
          "mesh3d": [
           {
            "colorbar": {
             "outlinewidth": 0,
             "ticks": ""
            },
            "type": "mesh3d"
           }
          ],
          "parcoords": [
           {
            "line": {
             "colorbar": {
              "outlinewidth": 0,
              "ticks": ""
             }
            },
            "type": "parcoords"
           }
          ],
          "pie": [
           {
            "automargin": true,
            "type": "pie"
           }
          ],
          "scatter": [
           {
            "fillpattern": {
             "fillmode": "overlay",
             "size": 10,
             "solidity": 0.2
            },
            "type": "scatter"
           }
          ],
          "scatter3d": [
           {
            "line": {
             "colorbar": {
              "outlinewidth": 0,
              "ticks": ""
             }
            },
            "marker": {
             "colorbar": {
              "outlinewidth": 0,
              "ticks": ""
             }
            },
            "type": "scatter3d"
           }
          ],
          "scattercarpet": [
           {
            "marker": {
             "colorbar": {
              "outlinewidth": 0,
              "ticks": ""
             }
            },
            "type": "scattercarpet"
           }
          ],
          "scattergeo": [
           {
            "marker": {
             "colorbar": {
              "outlinewidth": 0,
              "ticks": ""
             }
            },
            "type": "scattergeo"
           }
          ],
          "scattergl": [
           {
            "marker": {
             "colorbar": {
              "outlinewidth": 0,
              "ticks": ""
             }
            },
            "type": "scattergl"
           }
          ],
          "scattermapbox": [
           {
            "marker": {
             "colorbar": {
              "outlinewidth": 0,
              "ticks": ""
             }
            },
            "type": "scattermapbox"
           }
          ],
          "scatterpolar": [
           {
            "marker": {
             "colorbar": {
              "outlinewidth": 0,
              "ticks": ""
             }
            },
            "type": "scatterpolar"
           }
          ],
          "scatterpolargl": [
           {
            "marker": {
             "colorbar": {
              "outlinewidth": 0,
              "ticks": ""
             }
            },
            "type": "scatterpolargl"
           }
          ],
          "scatterternary": [
           {
            "marker": {
             "colorbar": {
              "outlinewidth": 0,
              "ticks": ""
             }
            },
            "type": "scatterternary"
           }
          ],
          "surface": [
           {
            "colorbar": {
             "outlinewidth": 0,
             "ticks": ""
            },
            "colorscale": [
             [
              0,
              "#0d0887"
             ],
             [
              0.1111111111111111,
              "#46039f"
             ],
             [
              0.2222222222222222,
              "#7201a8"
             ],
             [
              0.3333333333333333,
              "#9c179e"
             ],
             [
              0.4444444444444444,
              "#bd3786"
             ],
             [
              0.5555555555555556,
              "#d8576b"
             ],
             [
              0.6666666666666666,
              "#ed7953"
             ],
             [
              0.7777777777777778,
              "#fb9f3a"
             ],
             [
              0.8888888888888888,
              "#fdca26"
             ],
             [
              1,
              "#f0f921"
             ]
            ],
            "type": "surface"
           }
          ],
          "table": [
           {
            "cells": {
             "fill": {
              "color": "#EBF0F8"
             },
             "line": {
              "color": "white"
             }
            },
            "header": {
             "fill": {
              "color": "#C8D4E3"
             },
             "line": {
              "color": "white"
             }
            },
            "type": "table"
           }
          ]
         },
         "layout": {
          "annotationdefaults": {
           "arrowcolor": "#2a3f5f",
           "arrowhead": 0,
           "arrowwidth": 1
          },
          "autotypenumbers": "strict",
          "coloraxis": {
           "colorbar": {
            "outlinewidth": 0,
            "ticks": ""
           }
          },
          "colorscale": {
           "diverging": [
            [
             0,
             "#8e0152"
            ],
            [
             0.1,
             "#c51b7d"
            ],
            [
             0.2,
             "#de77ae"
            ],
            [
             0.3,
             "#f1b6da"
            ],
            [
             0.4,
             "#fde0ef"
            ],
            [
             0.5,
             "#f7f7f7"
            ],
            [
             0.6,
             "#e6f5d0"
            ],
            [
             0.7,
             "#b8e186"
            ],
            [
             0.8,
             "#7fbc41"
            ],
            [
             0.9,
             "#4d9221"
            ],
            [
             1,
             "#276419"
            ]
           ],
           "sequential": [
            [
             0,
             "#0d0887"
            ],
            [
             0.1111111111111111,
             "#46039f"
            ],
            [
             0.2222222222222222,
             "#7201a8"
            ],
            [
             0.3333333333333333,
             "#9c179e"
            ],
            [
             0.4444444444444444,
             "#bd3786"
            ],
            [
             0.5555555555555556,
             "#d8576b"
            ],
            [
             0.6666666666666666,
             "#ed7953"
            ],
            [
             0.7777777777777778,
             "#fb9f3a"
            ],
            [
             0.8888888888888888,
             "#fdca26"
            ],
            [
             1,
             "#f0f921"
            ]
           ],
           "sequentialminus": [
            [
             0,
             "#0d0887"
            ],
            [
             0.1111111111111111,
             "#46039f"
            ],
            [
             0.2222222222222222,
             "#7201a8"
            ],
            [
             0.3333333333333333,
             "#9c179e"
            ],
            [
             0.4444444444444444,
             "#bd3786"
            ],
            [
             0.5555555555555556,
             "#d8576b"
            ],
            [
             0.6666666666666666,
             "#ed7953"
            ],
            [
             0.7777777777777778,
             "#fb9f3a"
            ],
            [
             0.8888888888888888,
             "#fdca26"
            ],
            [
             1,
             "#f0f921"
            ]
           ]
          },
          "colorway": [
           "#636efa",
           "#EF553B",
           "#00cc96",
           "#ab63fa",
           "#FFA15A",
           "#19d3f3",
           "#FF6692",
           "#B6E880",
           "#FF97FF",
           "#FECB52"
          ],
          "font": {
           "color": "#2a3f5f"
          },
          "geo": {
           "bgcolor": "white",
           "lakecolor": "white",
           "landcolor": "#E5ECF6",
           "showlakes": true,
           "showland": true,
           "subunitcolor": "white"
          },
          "hoverlabel": {
           "align": "left"
          },
          "hovermode": "closest",
          "mapbox": {
           "style": "light"
          },
          "paper_bgcolor": "white",
          "plot_bgcolor": "#E5ECF6",
          "polar": {
           "angularaxis": {
            "gridcolor": "white",
            "linecolor": "white",
            "ticks": ""
           },
           "bgcolor": "#E5ECF6",
           "radialaxis": {
            "gridcolor": "white",
            "linecolor": "white",
            "ticks": ""
           }
          },
          "scene": {
           "xaxis": {
            "backgroundcolor": "#E5ECF6",
            "gridcolor": "white",
            "gridwidth": 2,
            "linecolor": "white",
            "showbackground": true,
            "ticks": "",
            "zerolinecolor": "white"
           },
           "yaxis": {
            "backgroundcolor": "#E5ECF6",
            "gridcolor": "white",
            "gridwidth": 2,
            "linecolor": "white",
            "showbackground": true,
            "ticks": "",
            "zerolinecolor": "white"
           },
           "zaxis": {
            "backgroundcolor": "#E5ECF6",
            "gridcolor": "white",
            "gridwidth": 2,
            "linecolor": "white",
            "showbackground": true,
            "ticks": "",
            "zerolinecolor": "white"
           }
          },
          "shapedefaults": {
           "line": {
            "color": "#2a3f5f"
           }
          },
          "ternary": {
           "aaxis": {
            "gridcolor": "white",
            "linecolor": "white",
            "ticks": ""
           },
           "baxis": {
            "gridcolor": "white",
            "linecolor": "white",
            "ticks": ""
           },
           "bgcolor": "#E5ECF6",
           "caxis": {
            "gridcolor": "white",
            "linecolor": "white",
            "ticks": ""
           }
          },
          "title": {
           "x": 0.05
          },
          "xaxis": {
           "automargin": true,
           "gridcolor": "white",
           "linecolor": "white",
           "ticks": "",
           "title": {
            "standoff": 15
           },
           "zerolinecolor": "white",
           "zerolinewidth": 2
          },
          "yaxis": {
           "automargin": true,
           "gridcolor": "white",
           "linecolor": "white",
           "ticks": "",
           "title": {
            "standoff": 15
           },
           "zerolinecolor": "white",
           "zerolinewidth": 2
          }
         }
        },
        "title": {
         "text": "Quantidade de Clientes por Instituição Financeira"
        },
        "xaxis": {
         "anchor": "y",
         "domain": [
          0,
          1
         ],
         "title": {
          "text": "Instituições Financeiras"
         }
        },
        "yaxis": {
         "anchor": "x",
         "domain": [
          0,
          1
         ],
         "title": {
          "text": "Quantidade de Clientes"
         }
        }
       }
      }
     },
     "metadata": {},
     "output_type": "display_data"
    }
   ],
   "source": [
    "df = relatorio.sort_values(\"max_qtd_totl_clie_ccs_scr\",ascending=False)\n",
    "px.bar(df,\n",
    "       x=list(df[\"nom_instituicao\"]),\n",
    "       y=list(df[\"max_qtd_totl_clie_ccs_scr\"]),\n",
    "       labels={\"y\": \"Quantidade de Clientes\",\n",
    "               \"x\": \"Instituições Financeiras\"},\n",
    "       title=\"Quantidade de Clientes por Instituição Financeira\")"
   ]
  },
  {
   "cell_type": "code",
   "execution_count": null,
   "metadata": {},
   "outputs": [
    {
     "data": {
      "application/vnd.plotly.v1+json": {
       "config": {
        "plotlyServerURL": "https://plot.ly"
       },
       "data": [
        {
         "alignmentgroup": "True",
         "hovertemplate": "Instituições Financeiras=%{x}<br>Índice Médio Reclamações=%{y}<extra></extra>",
         "legendgroup": "",
         "marker": {
          "color": "#636efa",
          "pattern": {
           "shape": ""
          }
         },
         "name": "",
         "offsetgroup": "",
         "orientation": "v",
         "showlegend": false,
         "textposition": "auto",
         "type": "bar",
         "x": [
          "PAN",
          "BNP PARIBAS",
          "BMG",
          "ORIGINAL",
          "BANRISUL",
          "CAIXA ECONOMICA FEDERAL",
          "BRADESCO",
          "SANTANDER",
          "VOTORANTIM",
          "ITAU",
          "BTG PACTUAL",
          "JP MORGAN CHASE",
          "SOCIETE GENERALE",
          "BANCO FIBRA S.A.",
          "BANCO DO NORDESTE DO BRASIL S.A.",
          "CREDIT SUISSE",
          "DEUTSCHE",
          "PINE",
          "BOFA MERRILL LYNCH",
          "MERCEDES-BENZ",
          "CITIBANK",
          "BANCO SUMITOMO MITSUI BRASIL S.A.",
          "ALFA",
          "SICREDI"
         ],
         "xaxis": "x",
         "y": [
          245.28,
          192.1,
          165.2,
          79.22,
          37.68,
          36.2,
          36.03,
          31.38,
          20.82,
          19.72,
          null,
          null,
          null,
          null,
          null,
          null,
          null,
          null,
          null,
          null,
          null,
          null,
          null,
          null
         ],
         "yaxis": "y"
        }
       ],
       "layout": {
        "barmode": "relative",
        "legend": {
         "tracegroupgap": 0
        },
        "template": {
         "data": {
          "bar": [
           {
            "error_x": {
             "color": "#2a3f5f"
            },
            "error_y": {
             "color": "#2a3f5f"
            },
            "marker": {
             "line": {
              "color": "#E5ECF6",
              "width": 0.5
             },
             "pattern": {
              "fillmode": "overlay",
              "size": 10,
              "solidity": 0.2
             }
            },
            "type": "bar"
           }
          ],
          "barpolar": [
           {
            "marker": {
             "line": {
              "color": "#E5ECF6",
              "width": 0.5
             },
             "pattern": {
              "fillmode": "overlay",
              "size": 10,
              "solidity": 0.2
             }
            },
            "type": "barpolar"
           }
          ],
          "carpet": [
           {
            "aaxis": {
             "endlinecolor": "#2a3f5f",
             "gridcolor": "white",
             "linecolor": "white",
             "minorgridcolor": "white",
             "startlinecolor": "#2a3f5f"
            },
            "baxis": {
             "endlinecolor": "#2a3f5f",
             "gridcolor": "white",
             "linecolor": "white",
             "minorgridcolor": "white",
             "startlinecolor": "#2a3f5f"
            },
            "type": "carpet"
           }
          ],
          "choropleth": [
           {
            "colorbar": {
             "outlinewidth": 0,
             "ticks": ""
            },
            "type": "choropleth"
           }
          ],
          "contour": [
           {
            "colorbar": {
             "outlinewidth": 0,
             "ticks": ""
            },
            "colorscale": [
             [
              0,
              "#0d0887"
             ],
             [
              0.1111111111111111,
              "#46039f"
             ],
             [
              0.2222222222222222,
              "#7201a8"
             ],
             [
              0.3333333333333333,
              "#9c179e"
             ],
             [
              0.4444444444444444,
              "#bd3786"
             ],
             [
              0.5555555555555556,
              "#d8576b"
             ],
             [
              0.6666666666666666,
              "#ed7953"
             ],
             [
              0.7777777777777778,
              "#fb9f3a"
             ],
             [
              0.8888888888888888,
              "#fdca26"
             ],
             [
              1,
              "#f0f921"
             ]
            ],
            "type": "contour"
           }
          ],
          "contourcarpet": [
           {
            "colorbar": {
             "outlinewidth": 0,
             "ticks": ""
            },
            "type": "contourcarpet"
           }
          ],
          "heatmap": [
           {
            "colorbar": {
             "outlinewidth": 0,
             "ticks": ""
            },
            "colorscale": [
             [
              0,
              "#0d0887"
             ],
             [
              0.1111111111111111,
              "#46039f"
             ],
             [
              0.2222222222222222,
              "#7201a8"
             ],
             [
              0.3333333333333333,
              "#9c179e"
             ],
             [
              0.4444444444444444,
              "#bd3786"
             ],
             [
              0.5555555555555556,
              "#d8576b"
             ],
             [
              0.6666666666666666,
              "#ed7953"
             ],
             [
              0.7777777777777778,
              "#fb9f3a"
             ],
             [
              0.8888888888888888,
              "#fdca26"
             ],
             [
              1,
              "#f0f921"
             ]
            ],
            "type": "heatmap"
           }
          ],
          "heatmapgl": [
           {
            "colorbar": {
             "outlinewidth": 0,
             "ticks": ""
            },
            "colorscale": [
             [
              0,
              "#0d0887"
             ],
             [
              0.1111111111111111,
              "#46039f"
             ],
             [
              0.2222222222222222,
              "#7201a8"
             ],
             [
              0.3333333333333333,
              "#9c179e"
             ],
             [
              0.4444444444444444,
              "#bd3786"
             ],
             [
              0.5555555555555556,
              "#d8576b"
             ],
             [
              0.6666666666666666,
              "#ed7953"
             ],
             [
              0.7777777777777778,
              "#fb9f3a"
             ],
             [
              0.8888888888888888,
              "#fdca26"
             ],
             [
              1,
              "#f0f921"
             ]
            ],
            "type": "heatmapgl"
           }
          ],
          "histogram": [
           {
            "marker": {
             "pattern": {
              "fillmode": "overlay",
              "size": 10,
              "solidity": 0.2
             }
            },
            "type": "histogram"
           }
          ],
          "histogram2d": [
           {
            "colorbar": {
             "outlinewidth": 0,
             "ticks": ""
            },
            "colorscale": [
             [
              0,
              "#0d0887"
             ],
             [
              0.1111111111111111,
              "#46039f"
             ],
             [
              0.2222222222222222,
              "#7201a8"
             ],
             [
              0.3333333333333333,
              "#9c179e"
             ],
             [
              0.4444444444444444,
              "#bd3786"
             ],
             [
              0.5555555555555556,
              "#d8576b"
             ],
             [
              0.6666666666666666,
              "#ed7953"
             ],
             [
              0.7777777777777778,
              "#fb9f3a"
             ],
             [
              0.8888888888888888,
              "#fdca26"
             ],
             [
              1,
              "#f0f921"
             ]
            ],
            "type": "histogram2d"
           }
          ],
          "histogram2dcontour": [
           {
            "colorbar": {
             "outlinewidth": 0,
             "ticks": ""
            },
            "colorscale": [
             [
              0,
              "#0d0887"
             ],
             [
              0.1111111111111111,
              "#46039f"
             ],
             [
              0.2222222222222222,
              "#7201a8"
             ],
             [
              0.3333333333333333,
              "#9c179e"
             ],
             [
              0.4444444444444444,
              "#bd3786"
             ],
             [
              0.5555555555555556,
              "#d8576b"
             ],
             [
              0.6666666666666666,
              "#ed7953"
             ],
             [
              0.7777777777777778,
              "#fb9f3a"
             ],
             [
              0.8888888888888888,
              "#fdca26"
             ],
             [
              1,
              "#f0f921"
             ]
            ],
            "type": "histogram2dcontour"
           }
          ],
          "mesh3d": [
           {
            "colorbar": {
             "outlinewidth": 0,
             "ticks": ""
            },
            "type": "mesh3d"
           }
          ],
          "parcoords": [
           {
            "line": {
             "colorbar": {
              "outlinewidth": 0,
              "ticks": ""
             }
            },
            "type": "parcoords"
           }
          ],
          "pie": [
           {
            "automargin": true,
            "type": "pie"
           }
          ],
          "scatter": [
           {
            "fillpattern": {
             "fillmode": "overlay",
             "size": 10,
             "solidity": 0.2
            },
            "type": "scatter"
           }
          ],
          "scatter3d": [
           {
            "line": {
             "colorbar": {
              "outlinewidth": 0,
              "ticks": ""
             }
            },
            "marker": {
             "colorbar": {
              "outlinewidth": 0,
              "ticks": ""
             }
            },
            "type": "scatter3d"
           }
          ],
          "scattercarpet": [
           {
            "marker": {
             "colorbar": {
              "outlinewidth": 0,
              "ticks": ""
             }
            },
            "type": "scattercarpet"
           }
          ],
          "scattergeo": [
           {
            "marker": {
             "colorbar": {
              "outlinewidth": 0,
              "ticks": ""
             }
            },
            "type": "scattergeo"
           }
          ],
          "scattergl": [
           {
            "marker": {
             "colorbar": {
              "outlinewidth": 0,
              "ticks": ""
             }
            },
            "type": "scattergl"
           }
          ],
          "scattermapbox": [
           {
            "marker": {
             "colorbar": {
              "outlinewidth": 0,
              "ticks": ""
             }
            },
            "type": "scattermapbox"
           }
          ],
          "scatterpolar": [
           {
            "marker": {
             "colorbar": {
              "outlinewidth": 0,
              "ticks": ""
             }
            },
            "type": "scatterpolar"
           }
          ],
          "scatterpolargl": [
           {
            "marker": {
             "colorbar": {
              "outlinewidth": 0,
              "ticks": ""
             }
            },
            "type": "scatterpolargl"
           }
          ],
          "scatterternary": [
           {
            "marker": {
             "colorbar": {
              "outlinewidth": 0,
              "ticks": ""
             }
            },
            "type": "scatterternary"
           }
          ],
          "surface": [
           {
            "colorbar": {
             "outlinewidth": 0,
             "ticks": ""
            },
            "colorscale": [
             [
              0,
              "#0d0887"
             ],
             [
              0.1111111111111111,
              "#46039f"
             ],
             [
              0.2222222222222222,
              "#7201a8"
             ],
             [
              0.3333333333333333,
              "#9c179e"
             ],
             [
              0.4444444444444444,
              "#bd3786"
             ],
             [
              0.5555555555555556,
              "#d8576b"
             ],
             [
              0.6666666666666666,
              "#ed7953"
             ],
             [
              0.7777777777777778,
              "#fb9f3a"
             ],
             [
              0.8888888888888888,
              "#fdca26"
             ],
             [
              1,
              "#f0f921"
             ]
            ],
            "type": "surface"
           }
          ],
          "table": [
           {
            "cells": {
             "fill": {
              "color": "#EBF0F8"
             },
             "line": {
              "color": "white"
             }
            },
            "header": {
             "fill": {
              "color": "#C8D4E3"
             },
             "line": {
              "color": "white"
             }
            },
            "type": "table"
           }
          ]
         },
         "layout": {
          "annotationdefaults": {
           "arrowcolor": "#2a3f5f",
           "arrowhead": 0,
           "arrowwidth": 1
          },
          "autotypenumbers": "strict",
          "coloraxis": {
           "colorbar": {
            "outlinewidth": 0,
            "ticks": ""
           }
          },
          "colorscale": {
           "diverging": [
            [
             0,
             "#8e0152"
            ],
            [
             0.1,
             "#c51b7d"
            ],
            [
             0.2,
             "#de77ae"
            ],
            [
             0.3,
             "#f1b6da"
            ],
            [
             0.4,
             "#fde0ef"
            ],
            [
             0.5,
             "#f7f7f7"
            ],
            [
             0.6,
             "#e6f5d0"
            ],
            [
             0.7,
             "#b8e186"
            ],
            [
             0.8,
             "#7fbc41"
            ],
            [
             0.9,
             "#4d9221"
            ],
            [
             1,
             "#276419"
            ]
           ],
           "sequential": [
            [
             0,
             "#0d0887"
            ],
            [
             0.1111111111111111,
             "#46039f"
            ],
            [
             0.2222222222222222,
             "#7201a8"
            ],
            [
             0.3333333333333333,
             "#9c179e"
            ],
            [
             0.4444444444444444,
             "#bd3786"
            ],
            [
             0.5555555555555556,
             "#d8576b"
            ],
            [
             0.6666666666666666,
             "#ed7953"
            ],
            [
             0.7777777777777778,
             "#fb9f3a"
            ],
            [
             0.8888888888888888,
             "#fdca26"
            ],
            [
             1,
             "#f0f921"
            ]
           ],
           "sequentialminus": [
            [
             0,
             "#0d0887"
            ],
            [
             0.1111111111111111,
             "#46039f"
            ],
            [
             0.2222222222222222,
             "#7201a8"
            ],
            [
             0.3333333333333333,
             "#9c179e"
            ],
            [
             0.4444444444444444,
             "#bd3786"
            ],
            [
             0.5555555555555556,
             "#d8576b"
            ],
            [
             0.6666666666666666,
             "#ed7953"
            ],
            [
             0.7777777777777778,
             "#fb9f3a"
            ],
            [
             0.8888888888888888,
             "#fdca26"
            ],
            [
             1,
             "#f0f921"
            ]
           ]
          },
          "colorway": [
           "#636efa",
           "#EF553B",
           "#00cc96",
           "#ab63fa",
           "#FFA15A",
           "#19d3f3",
           "#FF6692",
           "#B6E880",
           "#FF97FF",
           "#FECB52"
          ],
          "font": {
           "color": "#2a3f5f"
          },
          "geo": {
           "bgcolor": "white",
           "lakecolor": "white",
           "landcolor": "#E5ECF6",
           "showlakes": true,
           "showland": true,
           "subunitcolor": "white"
          },
          "hoverlabel": {
           "align": "left"
          },
          "hovermode": "closest",
          "mapbox": {
           "style": "light"
          },
          "paper_bgcolor": "white",
          "plot_bgcolor": "#E5ECF6",
          "polar": {
           "angularaxis": {
            "gridcolor": "white",
            "linecolor": "white",
            "ticks": ""
           },
           "bgcolor": "#E5ECF6",
           "radialaxis": {
            "gridcolor": "white",
            "linecolor": "white",
            "ticks": ""
           }
          },
          "scene": {
           "xaxis": {
            "backgroundcolor": "#E5ECF6",
            "gridcolor": "white",
            "gridwidth": 2,
            "linecolor": "white",
            "showbackground": true,
            "ticks": "",
            "zerolinecolor": "white"
           },
           "yaxis": {
            "backgroundcolor": "#E5ECF6",
            "gridcolor": "white",
            "gridwidth": 2,
            "linecolor": "white",
            "showbackground": true,
            "ticks": "",
            "zerolinecolor": "white"
           },
           "zaxis": {
            "backgroundcolor": "#E5ECF6",
            "gridcolor": "white",
            "gridwidth": 2,
            "linecolor": "white",
            "showbackground": true,
            "ticks": "",
            "zerolinecolor": "white"
           }
          },
          "shapedefaults": {
           "line": {
            "color": "#2a3f5f"
           }
          },
          "ternary": {
           "aaxis": {
            "gridcolor": "white",
            "linecolor": "white",
            "ticks": ""
           },
           "baxis": {
            "gridcolor": "white",
            "linecolor": "white",
            "ticks": ""
           },
           "bgcolor": "#E5ECF6",
           "caxis": {
            "gridcolor": "white",
            "linecolor": "white",
            "ticks": ""
           }
          },
          "title": {
           "x": 0.05
          },
          "xaxis": {
           "automargin": true,
           "gridcolor": "white",
           "linecolor": "white",
           "ticks": "",
           "title": {
            "standoff": 15
           },
           "zerolinecolor": "white",
           "zerolinewidth": 2
          },
          "yaxis": {
           "automargin": true,
           "gridcolor": "white",
           "linecolor": "white",
           "ticks": "",
           "title": {
            "standoff": 15
           },
           "zerolinecolor": "white",
           "zerolinewidth": 2
          }
         }
        },
        "title": {
         "text": "Índice Médio Reclamações por Instituição Financeira"
        },
        "xaxis": {
         "anchor": "y",
         "domain": [
          0,
          1
         ],
         "title": {
          "text": "Instituições Financeiras"
         }
        },
        "yaxis": {
         "anchor": "x",
         "domain": [
          0,
          1
         ],
         "title": {
          "text": "Índice Médio Reclamações"
         }
        }
       }
      }
     },
     "metadata": {},
     "output_type": "display_data"
    }
   ],
   "source": [
    "df = relatorio.sort_values(\"avg_ind_recl\",ascending=False)\n",
    "px.bar(df,\n",
    "       x=list(df[\"nom_instituicao\"]),\n",
    "       y=list(df[\"avg_ind_recl\"]),\n",
    "       labels={\"y\": \"Índice Médio Reclamações\",\n",
    "               \"x\": \"Instituições Financeiras\"},\n",
    "       title=\"Índice Médio Reclamações por Instituição Financeira\")"
   ]
  },
  {
   "cell_type": "code",
   "execution_count": null,
   "metadata": {},
   "outputs": [
    {
     "data": {
      "application/vnd.plotly.v1+json": {
       "config": {
        "plotlyServerURL": "https://plot.ly"
       },
       "data": [
        {
         "alignmentgroup": "True",
         "hovertemplate": "Instituições Financeiras=%{x}<br>Quantidade Total Reclamações=%{y}<extra></extra>",
         "legendgroup": "",
         "marker": {
          "color": "#636efa",
          "pattern": {
           "shape": ""
          }
         },
         "name": "",
         "offsetgroup": "",
         "orientation": "v",
         "showlegend": false,
         "textposition": "auto",
         "type": "bar",
         "x": [
          "CAIXA ECONOMICA FEDERAL",
          "BRADESCO",
          "SANTANDER",
          "ITAU",
          "PAN",
          "BMG",
          "ORIGINAL",
          "BNP PARIBAS",
          "VOTORANTIM",
          "BANRISUL",
          "BTG PACTUAL",
          "BANCO DO NORDESTE DO BRASIL S.A.",
          "ALFA",
          "CITIBANK",
          "MERCEDES-BENZ",
          "SICREDI",
          "PINE",
          "BANCO FIBRA S.A.",
          "CREDIT SUISSE",
          "JP MORGAN CHASE",
          "SOCIETE GENERALE",
          "BOFA MERRILL LYNCH",
          "BANCO SUMITOMO MITSUI BRASIL S.A.",
          "DEUTSCHE"
         ],
         "xaxis": "x",
         "y": [
          16524,
          10693,
          7235,
          6878,
          3953,
          2398,
          2205,
          896,
          861,
          855,
          133,
          98,
          85,
          25,
          11,
          9,
          9,
          5,
          4,
          4,
          3,
          2,
          1,
          1
         ],
         "yaxis": "y"
        }
       ],
       "layout": {
        "barmode": "relative",
        "legend": {
         "tracegroupgap": 0
        },
        "template": {
         "data": {
          "bar": [
           {
            "error_x": {
             "color": "#2a3f5f"
            },
            "error_y": {
             "color": "#2a3f5f"
            },
            "marker": {
             "line": {
              "color": "#E5ECF6",
              "width": 0.5
             },
             "pattern": {
              "fillmode": "overlay",
              "size": 10,
              "solidity": 0.2
             }
            },
            "type": "bar"
           }
          ],
          "barpolar": [
           {
            "marker": {
             "line": {
              "color": "#E5ECF6",
              "width": 0.5
             },
             "pattern": {
              "fillmode": "overlay",
              "size": 10,
              "solidity": 0.2
             }
            },
            "type": "barpolar"
           }
          ],
          "carpet": [
           {
            "aaxis": {
             "endlinecolor": "#2a3f5f",
             "gridcolor": "white",
             "linecolor": "white",
             "minorgridcolor": "white",
             "startlinecolor": "#2a3f5f"
            },
            "baxis": {
             "endlinecolor": "#2a3f5f",
             "gridcolor": "white",
             "linecolor": "white",
             "minorgridcolor": "white",
             "startlinecolor": "#2a3f5f"
            },
            "type": "carpet"
           }
          ],
          "choropleth": [
           {
            "colorbar": {
             "outlinewidth": 0,
             "ticks": ""
            },
            "type": "choropleth"
           }
          ],
          "contour": [
           {
            "colorbar": {
             "outlinewidth": 0,
             "ticks": ""
            },
            "colorscale": [
             [
              0,
              "#0d0887"
             ],
             [
              0.1111111111111111,
              "#46039f"
             ],
             [
              0.2222222222222222,
              "#7201a8"
             ],
             [
              0.3333333333333333,
              "#9c179e"
             ],
             [
              0.4444444444444444,
              "#bd3786"
             ],
             [
              0.5555555555555556,
              "#d8576b"
             ],
             [
              0.6666666666666666,
              "#ed7953"
             ],
             [
              0.7777777777777778,
              "#fb9f3a"
             ],
             [
              0.8888888888888888,
              "#fdca26"
             ],
             [
              1,
              "#f0f921"
             ]
            ],
            "type": "contour"
           }
          ],
          "contourcarpet": [
           {
            "colorbar": {
             "outlinewidth": 0,
             "ticks": ""
            },
            "type": "contourcarpet"
           }
          ],
          "heatmap": [
           {
            "colorbar": {
             "outlinewidth": 0,
             "ticks": ""
            },
            "colorscale": [
             [
              0,
              "#0d0887"
             ],
             [
              0.1111111111111111,
              "#46039f"
             ],
             [
              0.2222222222222222,
              "#7201a8"
             ],
             [
              0.3333333333333333,
              "#9c179e"
             ],
             [
              0.4444444444444444,
              "#bd3786"
             ],
             [
              0.5555555555555556,
              "#d8576b"
             ],
             [
              0.6666666666666666,
              "#ed7953"
             ],
             [
              0.7777777777777778,
              "#fb9f3a"
             ],
             [
              0.8888888888888888,
              "#fdca26"
             ],
             [
              1,
              "#f0f921"
             ]
            ],
            "type": "heatmap"
           }
          ],
          "heatmapgl": [
           {
            "colorbar": {
             "outlinewidth": 0,
             "ticks": ""
            },
            "colorscale": [
             [
              0,
              "#0d0887"
             ],
             [
              0.1111111111111111,
              "#46039f"
             ],
             [
              0.2222222222222222,
              "#7201a8"
             ],
             [
              0.3333333333333333,
              "#9c179e"
             ],
             [
              0.4444444444444444,
              "#bd3786"
             ],
             [
              0.5555555555555556,
              "#d8576b"
             ],
             [
              0.6666666666666666,
              "#ed7953"
             ],
             [
              0.7777777777777778,
              "#fb9f3a"
             ],
             [
              0.8888888888888888,
              "#fdca26"
             ],
             [
              1,
              "#f0f921"
             ]
            ],
            "type": "heatmapgl"
           }
          ],
          "histogram": [
           {
            "marker": {
             "pattern": {
              "fillmode": "overlay",
              "size": 10,
              "solidity": 0.2
             }
            },
            "type": "histogram"
           }
          ],
          "histogram2d": [
           {
            "colorbar": {
             "outlinewidth": 0,
             "ticks": ""
            },
            "colorscale": [
             [
              0,
              "#0d0887"
             ],
             [
              0.1111111111111111,
              "#46039f"
             ],
             [
              0.2222222222222222,
              "#7201a8"
             ],
             [
              0.3333333333333333,
              "#9c179e"
             ],
             [
              0.4444444444444444,
              "#bd3786"
             ],
             [
              0.5555555555555556,
              "#d8576b"
             ],
             [
              0.6666666666666666,
              "#ed7953"
             ],
             [
              0.7777777777777778,
              "#fb9f3a"
             ],
             [
              0.8888888888888888,
              "#fdca26"
             ],
             [
              1,
              "#f0f921"
             ]
            ],
            "type": "histogram2d"
           }
          ],
          "histogram2dcontour": [
           {
            "colorbar": {
             "outlinewidth": 0,
             "ticks": ""
            },
            "colorscale": [
             [
              0,
              "#0d0887"
             ],
             [
              0.1111111111111111,
              "#46039f"
             ],
             [
              0.2222222222222222,
              "#7201a8"
             ],
             [
              0.3333333333333333,
              "#9c179e"
             ],
             [
              0.4444444444444444,
              "#bd3786"
             ],
             [
              0.5555555555555556,
              "#d8576b"
             ],
             [
              0.6666666666666666,
              "#ed7953"
             ],
             [
              0.7777777777777778,
              "#fb9f3a"
             ],
             [
              0.8888888888888888,
              "#fdca26"
             ],
             [
              1,
              "#f0f921"
             ]
            ],
            "type": "histogram2dcontour"
           }
          ],
          "mesh3d": [
           {
            "colorbar": {
             "outlinewidth": 0,
             "ticks": ""
            },
            "type": "mesh3d"
           }
          ],
          "parcoords": [
           {
            "line": {
             "colorbar": {
              "outlinewidth": 0,
              "ticks": ""
             }
            },
            "type": "parcoords"
           }
          ],
          "pie": [
           {
            "automargin": true,
            "type": "pie"
           }
          ],
          "scatter": [
           {
            "fillpattern": {
             "fillmode": "overlay",
             "size": 10,
             "solidity": 0.2
            },
            "type": "scatter"
           }
          ],
          "scatter3d": [
           {
            "line": {
             "colorbar": {
              "outlinewidth": 0,
              "ticks": ""
             }
            },
            "marker": {
             "colorbar": {
              "outlinewidth": 0,
              "ticks": ""
             }
            },
            "type": "scatter3d"
           }
          ],
          "scattercarpet": [
           {
            "marker": {
             "colorbar": {
              "outlinewidth": 0,
              "ticks": ""
             }
            },
            "type": "scattercarpet"
           }
          ],
          "scattergeo": [
           {
            "marker": {
             "colorbar": {
              "outlinewidth": 0,
              "ticks": ""
             }
            },
            "type": "scattergeo"
           }
          ],
          "scattergl": [
           {
            "marker": {
             "colorbar": {
              "outlinewidth": 0,
              "ticks": ""
             }
            },
            "type": "scattergl"
           }
          ],
          "scattermapbox": [
           {
            "marker": {
             "colorbar": {
              "outlinewidth": 0,
              "ticks": ""
             }
            },
            "type": "scattermapbox"
           }
          ],
          "scatterpolar": [
           {
            "marker": {
             "colorbar": {
              "outlinewidth": 0,
              "ticks": ""
             }
            },
            "type": "scatterpolar"
           }
          ],
          "scatterpolargl": [
           {
            "marker": {
             "colorbar": {
              "outlinewidth": 0,
              "ticks": ""
             }
            },
            "type": "scatterpolargl"
           }
          ],
          "scatterternary": [
           {
            "marker": {
             "colorbar": {
              "outlinewidth": 0,
              "ticks": ""
             }
            },
            "type": "scatterternary"
           }
          ],
          "surface": [
           {
            "colorbar": {
             "outlinewidth": 0,
             "ticks": ""
            },
            "colorscale": [
             [
              0,
              "#0d0887"
             ],
             [
              0.1111111111111111,
              "#46039f"
             ],
             [
              0.2222222222222222,
              "#7201a8"
             ],
             [
              0.3333333333333333,
              "#9c179e"
             ],
             [
              0.4444444444444444,
              "#bd3786"
             ],
             [
              0.5555555555555556,
              "#d8576b"
             ],
             [
              0.6666666666666666,
              "#ed7953"
             ],
             [
              0.7777777777777778,
              "#fb9f3a"
             ],
             [
              0.8888888888888888,
              "#fdca26"
             ],
             [
              1,
              "#f0f921"
             ]
            ],
            "type": "surface"
           }
          ],
          "table": [
           {
            "cells": {
             "fill": {
              "color": "#EBF0F8"
             },
             "line": {
              "color": "white"
             }
            },
            "header": {
             "fill": {
              "color": "#C8D4E3"
             },
             "line": {
              "color": "white"
             }
            },
            "type": "table"
           }
          ]
         },
         "layout": {
          "annotationdefaults": {
           "arrowcolor": "#2a3f5f",
           "arrowhead": 0,
           "arrowwidth": 1
          },
          "autotypenumbers": "strict",
          "coloraxis": {
           "colorbar": {
            "outlinewidth": 0,
            "ticks": ""
           }
          },
          "colorscale": {
           "diverging": [
            [
             0,
             "#8e0152"
            ],
            [
             0.1,
             "#c51b7d"
            ],
            [
             0.2,
             "#de77ae"
            ],
            [
             0.3,
             "#f1b6da"
            ],
            [
             0.4,
             "#fde0ef"
            ],
            [
             0.5,
             "#f7f7f7"
            ],
            [
             0.6,
             "#e6f5d0"
            ],
            [
             0.7,
             "#b8e186"
            ],
            [
             0.8,
             "#7fbc41"
            ],
            [
             0.9,
             "#4d9221"
            ],
            [
             1,
             "#276419"
            ]
           ],
           "sequential": [
            [
             0,
             "#0d0887"
            ],
            [
             0.1111111111111111,
             "#46039f"
            ],
            [
             0.2222222222222222,
             "#7201a8"
            ],
            [
             0.3333333333333333,
             "#9c179e"
            ],
            [
             0.4444444444444444,
             "#bd3786"
            ],
            [
             0.5555555555555556,
             "#d8576b"
            ],
            [
             0.6666666666666666,
             "#ed7953"
            ],
            [
             0.7777777777777778,
             "#fb9f3a"
            ],
            [
             0.8888888888888888,
             "#fdca26"
            ],
            [
             1,
             "#f0f921"
            ]
           ],
           "sequentialminus": [
            [
             0,
             "#0d0887"
            ],
            [
             0.1111111111111111,
             "#46039f"
            ],
            [
             0.2222222222222222,
             "#7201a8"
            ],
            [
             0.3333333333333333,
             "#9c179e"
            ],
            [
             0.4444444444444444,
             "#bd3786"
            ],
            [
             0.5555555555555556,
             "#d8576b"
            ],
            [
             0.6666666666666666,
             "#ed7953"
            ],
            [
             0.7777777777777778,
             "#fb9f3a"
            ],
            [
             0.8888888888888888,
             "#fdca26"
            ],
            [
             1,
             "#f0f921"
            ]
           ]
          },
          "colorway": [
           "#636efa",
           "#EF553B",
           "#00cc96",
           "#ab63fa",
           "#FFA15A",
           "#19d3f3",
           "#FF6692",
           "#B6E880",
           "#FF97FF",
           "#FECB52"
          ],
          "font": {
           "color": "#2a3f5f"
          },
          "geo": {
           "bgcolor": "white",
           "lakecolor": "white",
           "landcolor": "#E5ECF6",
           "showlakes": true,
           "showland": true,
           "subunitcolor": "white"
          },
          "hoverlabel": {
           "align": "left"
          },
          "hovermode": "closest",
          "mapbox": {
           "style": "light"
          },
          "paper_bgcolor": "white",
          "plot_bgcolor": "#E5ECF6",
          "polar": {
           "angularaxis": {
            "gridcolor": "white",
            "linecolor": "white",
            "ticks": ""
           },
           "bgcolor": "#E5ECF6",
           "radialaxis": {
            "gridcolor": "white",
            "linecolor": "white",
            "ticks": ""
           }
          },
          "scene": {
           "xaxis": {
            "backgroundcolor": "#E5ECF6",
            "gridcolor": "white",
            "gridwidth": 2,
            "linecolor": "white",
            "showbackground": true,
            "ticks": "",
            "zerolinecolor": "white"
           },
           "yaxis": {
            "backgroundcolor": "#E5ECF6",
            "gridcolor": "white",
            "gridwidth": 2,
            "linecolor": "white",
            "showbackground": true,
            "ticks": "",
            "zerolinecolor": "white"
           },
           "zaxis": {
            "backgroundcolor": "#E5ECF6",
            "gridcolor": "white",
            "gridwidth": 2,
            "linecolor": "white",
            "showbackground": true,
            "ticks": "",
            "zerolinecolor": "white"
           }
          },
          "shapedefaults": {
           "line": {
            "color": "#2a3f5f"
           }
          },
          "ternary": {
           "aaxis": {
            "gridcolor": "white",
            "linecolor": "white",
            "ticks": ""
           },
           "baxis": {
            "gridcolor": "white",
            "linecolor": "white",
            "ticks": ""
           },
           "bgcolor": "#E5ECF6",
           "caxis": {
            "gridcolor": "white",
            "linecolor": "white",
            "ticks": ""
           }
          },
          "title": {
           "x": 0.05
          },
          "xaxis": {
           "automargin": true,
           "gridcolor": "white",
           "linecolor": "white",
           "ticks": "",
           "title": {
            "standoff": 15
           },
           "zerolinecolor": "white",
           "zerolinewidth": 2
          },
          "yaxis": {
           "automargin": true,
           "gridcolor": "white",
           "linecolor": "white",
           "ticks": "",
           "title": {
            "standoff": 15
           },
           "zerolinecolor": "white",
           "zerolinewidth": 2
          }
         }
        },
        "title": {
         "text": "Quantidade Reclamações por Instituição Financeira"
        },
        "xaxis": {
         "anchor": "y",
         "domain": [
          0,
          1
         ],
         "title": {
          "text": "Instituições Financeiras"
         }
        },
        "yaxis": {
         "anchor": "x",
         "domain": [
          0,
          1
         ],
         "title": {
          "text": "Quantidade Total Reclamações"
         }
        }
       }
      }
     },
     "metadata": {},
     "output_type": "display_data"
    }
   ],
   "source": [
    "df = relatorio.sort_values(\"sum_qtd_totl_recl\",ascending=False)\n",
    "px.bar(df,\n",
    "       x=list(df[\"nom_instituicao\"]),\n",
    "       y=list(df[\"sum_qtd_totl_recl\"]),\n",
    "       labels={\"y\": \"Quantidade Total Reclamações\",\n",
    "               \"x\": \"Instituições Financeiras\"},\n",
    "       title=\"Quantidade Reclamações por Instituição Financeira\")"
   ]
  },
  {
   "cell_type": "code",
   "execution_count": null,
   "metadata": {},
   "outputs": [
    {
     "data": {
      "application/vnd.plotly.v1+json": {
       "config": {
        "plotlyServerURL": "https://plot.ly"
       },
       "data": [
        {
         "alignmentgroup": "True",
         "hovertemplate": "Instituições Financeiras=%{x}<br>Índice Satisfação Geral Funcionários=%{y}<extra></extra>",
         "legendgroup": "",
         "marker": {
          "color": "#636efa",
          "pattern": {
           "shape": ""
          }
         },
         "name": "",
         "offsetgroup": "",
         "orientation": "v",
         "showlegend": false,
         "textposition": "auto",
         "type": "bar",
         "x": [
          "ITAU",
          "BANCO DO NORDESTE DO BRASIL S.A.",
          "CAIXA ECONOMICA FEDERAL",
          "VOTORANTIM",
          "PAN",
          "SICREDI",
          "BANCO FIBRA S.A.",
          "BRADESCO",
          "BANRISUL",
          "JP MORGAN CHASE",
          "BMG",
          "MERCEDES-BENZ",
          "BTG PACTUAL",
          "CITIBANK",
          "DEUTSCHE",
          "SANTANDER",
          "BOFA MERRILL LYNCH",
          "BNP PARIBAS",
          "PINE",
          "CREDIT SUISSE",
          "ORIGINAL",
          "SOCIETE GENERALE",
          "ALFA",
          "BANCO SUMITOMO MITSUI BRASIL S.A."
         ],
         "xaxis": "x",
         "y": [
          4.5,
          4.5,
          4.4,
          4.4,
          4.4,
          4.4,
          4.3,
          4.2,
          4.2,
          4.1,
          4.1,
          4.1,
          4,
          3.9,
          3.9,
          3.9,
          3.8,
          3.8,
          3.8,
          3.8,
          3.8,
          3.7,
          3.5,
          3.4
         ],
         "yaxis": "y"
        }
       ],
       "layout": {
        "barmode": "relative",
        "legend": {
         "tracegroupgap": 0
        },
        "template": {
         "data": {
          "bar": [
           {
            "error_x": {
             "color": "#2a3f5f"
            },
            "error_y": {
             "color": "#2a3f5f"
            },
            "marker": {
             "line": {
              "color": "#E5ECF6",
              "width": 0.5
             },
             "pattern": {
              "fillmode": "overlay",
              "size": 10,
              "solidity": 0.2
             }
            },
            "type": "bar"
           }
          ],
          "barpolar": [
           {
            "marker": {
             "line": {
              "color": "#E5ECF6",
              "width": 0.5
             },
             "pattern": {
              "fillmode": "overlay",
              "size": 10,
              "solidity": 0.2
             }
            },
            "type": "barpolar"
           }
          ],
          "carpet": [
           {
            "aaxis": {
             "endlinecolor": "#2a3f5f",
             "gridcolor": "white",
             "linecolor": "white",
             "minorgridcolor": "white",
             "startlinecolor": "#2a3f5f"
            },
            "baxis": {
             "endlinecolor": "#2a3f5f",
             "gridcolor": "white",
             "linecolor": "white",
             "minorgridcolor": "white",
             "startlinecolor": "#2a3f5f"
            },
            "type": "carpet"
           }
          ],
          "choropleth": [
           {
            "colorbar": {
             "outlinewidth": 0,
             "ticks": ""
            },
            "type": "choropleth"
           }
          ],
          "contour": [
           {
            "colorbar": {
             "outlinewidth": 0,
             "ticks": ""
            },
            "colorscale": [
             [
              0,
              "#0d0887"
             ],
             [
              0.1111111111111111,
              "#46039f"
             ],
             [
              0.2222222222222222,
              "#7201a8"
             ],
             [
              0.3333333333333333,
              "#9c179e"
             ],
             [
              0.4444444444444444,
              "#bd3786"
             ],
             [
              0.5555555555555556,
              "#d8576b"
             ],
             [
              0.6666666666666666,
              "#ed7953"
             ],
             [
              0.7777777777777778,
              "#fb9f3a"
             ],
             [
              0.8888888888888888,
              "#fdca26"
             ],
             [
              1,
              "#f0f921"
             ]
            ],
            "type": "contour"
           }
          ],
          "contourcarpet": [
           {
            "colorbar": {
             "outlinewidth": 0,
             "ticks": ""
            },
            "type": "contourcarpet"
           }
          ],
          "heatmap": [
           {
            "colorbar": {
             "outlinewidth": 0,
             "ticks": ""
            },
            "colorscale": [
             [
              0,
              "#0d0887"
             ],
             [
              0.1111111111111111,
              "#46039f"
             ],
             [
              0.2222222222222222,
              "#7201a8"
             ],
             [
              0.3333333333333333,
              "#9c179e"
             ],
             [
              0.4444444444444444,
              "#bd3786"
             ],
             [
              0.5555555555555556,
              "#d8576b"
             ],
             [
              0.6666666666666666,
              "#ed7953"
             ],
             [
              0.7777777777777778,
              "#fb9f3a"
             ],
             [
              0.8888888888888888,
              "#fdca26"
             ],
             [
              1,
              "#f0f921"
             ]
            ],
            "type": "heatmap"
           }
          ],
          "heatmapgl": [
           {
            "colorbar": {
             "outlinewidth": 0,
             "ticks": ""
            },
            "colorscale": [
             [
              0,
              "#0d0887"
             ],
             [
              0.1111111111111111,
              "#46039f"
             ],
             [
              0.2222222222222222,
              "#7201a8"
             ],
             [
              0.3333333333333333,
              "#9c179e"
             ],
             [
              0.4444444444444444,
              "#bd3786"
             ],
             [
              0.5555555555555556,
              "#d8576b"
             ],
             [
              0.6666666666666666,
              "#ed7953"
             ],
             [
              0.7777777777777778,
              "#fb9f3a"
             ],
             [
              0.8888888888888888,
              "#fdca26"
             ],
             [
              1,
              "#f0f921"
             ]
            ],
            "type": "heatmapgl"
           }
          ],
          "histogram": [
           {
            "marker": {
             "pattern": {
              "fillmode": "overlay",
              "size": 10,
              "solidity": 0.2
             }
            },
            "type": "histogram"
           }
          ],
          "histogram2d": [
           {
            "colorbar": {
             "outlinewidth": 0,
             "ticks": ""
            },
            "colorscale": [
             [
              0,
              "#0d0887"
             ],
             [
              0.1111111111111111,
              "#46039f"
             ],
             [
              0.2222222222222222,
              "#7201a8"
             ],
             [
              0.3333333333333333,
              "#9c179e"
             ],
             [
              0.4444444444444444,
              "#bd3786"
             ],
             [
              0.5555555555555556,
              "#d8576b"
             ],
             [
              0.6666666666666666,
              "#ed7953"
             ],
             [
              0.7777777777777778,
              "#fb9f3a"
             ],
             [
              0.8888888888888888,
              "#fdca26"
             ],
             [
              1,
              "#f0f921"
             ]
            ],
            "type": "histogram2d"
           }
          ],
          "histogram2dcontour": [
           {
            "colorbar": {
             "outlinewidth": 0,
             "ticks": ""
            },
            "colorscale": [
             [
              0,
              "#0d0887"
             ],
             [
              0.1111111111111111,
              "#46039f"
             ],
             [
              0.2222222222222222,
              "#7201a8"
             ],
             [
              0.3333333333333333,
              "#9c179e"
             ],
             [
              0.4444444444444444,
              "#bd3786"
             ],
             [
              0.5555555555555556,
              "#d8576b"
             ],
             [
              0.6666666666666666,
              "#ed7953"
             ],
             [
              0.7777777777777778,
              "#fb9f3a"
             ],
             [
              0.8888888888888888,
              "#fdca26"
             ],
             [
              1,
              "#f0f921"
             ]
            ],
            "type": "histogram2dcontour"
           }
          ],
          "mesh3d": [
           {
            "colorbar": {
             "outlinewidth": 0,
             "ticks": ""
            },
            "type": "mesh3d"
           }
          ],
          "parcoords": [
           {
            "line": {
             "colorbar": {
              "outlinewidth": 0,
              "ticks": ""
             }
            },
            "type": "parcoords"
           }
          ],
          "pie": [
           {
            "automargin": true,
            "type": "pie"
           }
          ],
          "scatter": [
           {
            "fillpattern": {
             "fillmode": "overlay",
             "size": 10,
             "solidity": 0.2
            },
            "type": "scatter"
           }
          ],
          "scatter3d": [
           {
            "line": {
             "colorbar": {
              "outlinewidth": 0,
              "ticks": ""
             }
            },
            "marker": {
             "colorbar": {
              "outlinewidth": 0,
              "ticks": ""
             }
            },
            "type": "scatter3d"
           }
          ],
          "scattercarpet": [
           {
            "marker": {
             "colorbar": {
              "outlinewidth": 0,
              "ticks": ""
             }
            },
            "type": "scattercarpet"
           }
          ],
          "scattergeo": [
           {
            "marker": {
             "colorbar": {
              "outlinewidth": 0,
              "ticks": ""
             }
            },
            "type": "scattergeo"
           }
          ],
          "scattergl": [
           {
            "marker": {
             "colorbar": {
              "outlinewidth": 0,
              "ticks": ""
             }
            },
            "type": "scattergl"
           }
          ],
          "scattermapbox": [
           {
            "marker": {
             "colorbar": {
              "outlinewidth": 0,
              "ticks": ""
             }
            },
            "type": "scattermapbox"
           }
          ],
          "scatterpolar": [
           {
            "marker": {
             "colorbar": {
              "outlinewidth": 0,
              "ticks": ""
             }
            },
            "type": "scatterpolar"
           }
          ],
          "scatterpolargl": [
           {
            "marker": {
             "colorbar": {
              "outlinewidth": 0,
              "ticks": ""
             }
            },
            "type": "scatterpolargl"
           }
          ],
          "scatterternary": [
           {
            "marker": {
             "colorbar": {
              "outlinewidth": 0,
              "ticks": ""
             }
            },
            "type": "scatterternary"
           }
          ],
          "surface": [
           {
            "colorbar": {
             "outlinewidth": 0,
             "ticks": ""
            },
            "colorscale": [
             [
              0,
              "#0d0887"
             ],
             [
              0.1111111111111111,
              "#46039f"
             ],
             [
              0.2222222222222222,
              "#7201a8"
             ],
             [
              0.3333333333333333,
              "#9c179e"
             ],
             [
              0.4444444444444444,
              "#bd3786"
             ],
             [
              0.5555555555555556,
              "#d8576b"
             ],
             [
              0.6666666666666666,
              "#ed7953"
             ],
             [
              0.7777777777777778,
              "#fb9f3a"
             ],
             [
              0.8888888888888888,
              "#fdca26"
             ],
             [
              1,
              "#f0f921"
             ]
            ],
            "type": "surface"
           }
          ],
          "table": [
           {
            "cells": {
             "fill": {
              "color": "#EBF0F8"
             },
             "line": {
              "color": "white"
             }
            },
            "header": {
             "fill": {
              "color": "#C8D4E3"
             },
             "line": {
              "color": "white"
             }
            },
            "type": "table"
           }
          ]
         },
         "layout": {
          "annotationdefaults": {
           "arrowcolor": "#2a3f5f",
           "arrowhead": 0,
           "arrowwidth": 1
          },
          "autotypenumbers": "strict",
          "coloraxis": {
           "colorbar": {
            "outlinewidth": 0,
            "ticks": ""
           }
          },
          "colorscale": {
           "diverging": [
            [
             0,
             "#8e0152"
            ],
            [
             0.1,
             "#c51b7d"
            ],
            [
             0.2,
             "#de77ae"
            ],
            [
             0.3,
             "#f1b6da"
            ],
            [
             0.4,
             "#fde0ef"
            ],
            [
             0.5,
             "#f7f7f7"
            ],
            [
             0.6,
             "#e6f5d0"
            ],
            [
             0.7,
             "#b8e186"
            ],
            [
             0.8,
             "#7fbc41"
            ],
            [
             0.9,
             "#4d9221"
            ],
            [
             1,
             "#276419"
            ]
           ],
           "sequential": [
            [
             0,
             "#0d0887"
            ],
            [
             0.1111111111111111,
             "#46039f"
            ],
            [
             0.2222222222222222,
             "#7201a8"
            ],
            [
             0.3333333333333333,
             "#9c179e"
            ],
            [
             0.4444444444444444,
             "#bd3786"
            ],
            [
             0.5555555555555556,
             "#d8576b"
            ],
            [
             0.6666666666666666,
             "#ed7953"
            ],
            [
             0.7777777777777778,
             "#fb9f3a"
            ],
            [
             0.8888888888888888,
             "#fdca26"
            ],
            [
             1,
             "#f0f921"
            ]
           ],
           "sequentialminus": [
            [
             0,
             "#0d0887"
            ],
            [
             0.1111111111111111,
             "#46039f"
            ],
            [
             0.2222222222222222,
             "#7201a8"
            ],
            [
             0.3333333333333333,
             "#9c179e"
            ],
            [
             0.4444444444444444,
             "#bd3786"
            ],
            [
             0.5555555555555556,
             "#d8576b"
            ],
            [
             0.6666666666666666,
             "#ed7953"
            ],
            [
             0.7777777777777778,
             "#fb9f3a"
            ],
            [
             0.8888888888888888,
             "#fdca26"
            ],
            [
             1,
             "#f0f921"
            ]
           ]
          },
          "colorway": [
           "#636efa",
           "#EF553B",
           "#00cc96",
           "#ab63fa",
           "#FFA15A",
           "#19d3f3",
           "#FF6692",
           "#B6E880",
           "#FF97FF",
           "#FECB52"
          ],
          "font": {
           "color": "#2a3f5f"
          },
          "geo": {
           "bgcolor": "white",
           "lakecolor": "white",
           "landcolor": "#E5ECF6",
           "showlakes": true,
           "showland": true,
           "subunitcolor": "white"
          },
          "hoverlabel": {
           "align": "left"
          },
          "hovermode": "closest",
          "mapbox": {
           "style": "light"
          },
          "paper_bgcolor": "white",
          "plot_bgcolor": "#E5ECF6",
          "polar": {
           "angularaxis": {
            "gridcolor": "white",
            "linecolor": "white",
            "ticks": ""
           },
           "bgcolor": "#E5ECF6",
           "radialaxis": {
            "gridcolor": "white",
            "linecolor": "white",
            "ticks": ""
           }
          },
          "scene": {
           "xaxis": {
            "backgroundcolor": "#E5ECF6",
            "gridcolor": "white",
            "gridwidth": 2,
            "linecolor": "white",
            "showbackground": true,
            "ticks": "",
            "zerolinecolor": "white"
           },
           "yaxis": {
            "backgroundcolor": "#E5ECF6",
            "gridcolor": "white",
            "gridwidth": 2,
            "linecolor": "white",
            "showbackground": true,
            "ticks": "",
            "zerolinecolor": "white"
           },
           "zaxis": {
            "backgroundcolor": "#E5ECF6",
            "gridcolor": "white",
            "gridwidth": 2,
            "linecolor": "white",
            "showbackground": true,
            "ticks": "",
            "zerolinecolor": "white"
           }
          },
          "shapedefaults": {
           "line": {
            "color": "#2a3f5f"
           }
          },
          "ternary": {
           "aaxis": {
            "gridcolor": "white",
            "linecolor": "white",
            "ticks": ""
           },
           "baxis": {
            "gridcolor": "white",
            "linecolor": "white",
            "ticks": ""
           },
           "bgcolor": "#E5ECF6",
           "caxis": {
            "gridcolor": "white",
            "linecolor": "white",
            "ticks": ""
           }
          },
          "title": {
           "x": 0.05
          },
          "xaxis": {
           "automargin": true,
           "gridcolor": "white",
           "linecolor": "white",
           "ticks": "",
           "title": {
            "standoff": 15
           },
           "zerolinecolor": "white",
           "zerolinewidth": 2
          },
          "yaxis": {
           "automargin": true,
           "gridcolor": "white",
           "linecolor": "white",
           "ticks": "",
           "title": {
            "standoff": 15
           },
           "zerolinecolor": "white",
           "zerolinewidth": 2
          }
         }
        },
        "title": {
         "text": "Índice Médio Geral Satisfação Funcionários por Instituição Financeira"
        },
        "xaxis": {
         "anchor": "y",
         "domain": [
          0,
          1
         ],
         "title": {
          "text": "Instituições Financeiras"
         }
        },
        "yaxis": {
         "anchor": "x",
         "domain": [
          0,
          1
         ],
         "title": {
          "text": "Índice Satisfação Geral Funcionários"
         }
        }
       }
      }
     },
     "metadata": {},
     "output_type": "display_data"
    }
   ],
   "source": [
    "df = relatorio.sort_values(\"avg_ind_geral_instituicao\",ascending=False)\n",
    "px.bar(df,\n",
    "       x=list(df[\"nom_instituicao\"]),\n",
    "       y=list(df[\"avg_ind_geral_instituicao\"]),\n",
    "       labels={\"y\": \"Índice Satisfação Geral Funcionários\",\n",
    "               \"x\": \"Instituições Financeiras\"},\n",
    "       title=\"Índice Médio Geral Satisfação Funcionários por Instituição Financeira\")"
   ]
  },
  {
   "cell_type": "code",
   "execution_count": null,
   "metadata": {},
   "outputs": [
    {
     "data": {
      "application/vnd.plotly.v1+json": {
       "config": {
        "plotlyServerURL": "https://plot.ly"
       },
       "data": [
        {
         "alignmentgroup": "True",
         "hovertemplate": "Instituições Financeiras=%{x}<br>Índice Satisfação Remuneração=%{y}<extra></extra>",
         "legendgroup": "",
         "marker": {
          "color": "#636efa",
          "pattern": {
           "shape": ""
          }
         },
         "name": "",
         "offsetgroup": "",
         "orientation": "v",
         "showlegend": false,
         "textposition": "auto",
         "type": "bar",
         "x": [
          "ITAU",
          "PAN",
          "VOTORANTIM",
          "BTG PACTUAL",
          "CAIXA ECONOMICA FEDERAL",
          "BRADESCO",
          "BMG",
          "BANCO FIBRA S.A.",
          "BANCO DO NORDESTE DO BRASIL S.A.",
          "BANRISUL",
          "SICREDI",
          "SANTANDER",
          "ORIGINAL",
          "MERCEDES-BENZ",
          "PINE",
          "JP MORGAN CHASE",
          "BOFA MERRILL LYNCH",
          "CITIBANK",
          "ALFA",
          "CREDIT SUISSE",
          "DEUTSCHE",
          "BNP PARIBAS",
          "SOCIETE GENERALE",
          "BANCO SUMITOMO MITSUI BRASIL S.A."
         ],
         "xaxis": "x",
         "y": [
          4.6,
          4.6,
          4.6,
          4.4,
          4.3,
          4.3,
          4.2,
          4.2,
          4.2,
          4.1,
          4.1,
          4,
          4,
          4,
          3.9,
          3.9,
          3.8,
          3.8,
          3.8,
          3.6,
          3.6,
          3.4,
          3.3,
          3.3
         ],
         "yaxis": "y"
        }
       ],
       "layout": {
        "barmode": "relative",
        "legend": {
         "tracegroupgap": 0
        },
        "template": {
         "data": {
          "bar": [
           {
            "error_x": {
             "color": "#2a3f5f"
            },
            "error_y": {
             "color": "#2a3f5f"
            },
            "marker": {
             "line": {
              "color": "#E5ECF6",
              "width": 0.5
             },
             "pattern": {
              "fillmode": "overlay",
              "size": 10,
              "solidity": 0.2
             }
            },
            "type": "bar"
           }
          ],
          "barpolar": [
           {
            "marker": {
             "line": {
              "color": "#E5ECF6",
              "width": 0.5
             },
             "pattern": {
              "fillmode": "overlay",
              "size": 10,
              "solidity": 0.2
             }
            },
            "type": "barpolar"
           }
          ],
          "carpet": [
           {
            "aaxis": {
             "endlinecolor": "#2a3f5f",
             "gridcolor": "white",
             "linecolor": "white",
             "minorgridcolor": "white",
             "startlinecolor": "#2a3f5f"
            },
            "baxis": {
             "endlinecolor": "#2a3f5f",
             "gridcolor": "white",
             "linecolor": "white",
             "minorgridcolor": "white",
             "startlinecolor": "#2a3f5f"
            },
            "type": "carpet"
           }
          ],
          "choropleth": [
           {
            "colorbar": {
             "outlinewidth": 0,
             "ticks": ""
            },
            "type": "choropleth"
           }
          ],
          "contour": [
           {
            "colorbar": {
             "outlinewidth": 0,
             "ticks": ""
            },
            "colorscale": [
             [
              0,
              "#0d0887"
             ],
             [
              0.1111111111111111,
              "#46039f"
             ],
             [
              0.2222222222222222,
              "#7201a8"
             ],
             [
              0.3333333333333333,
              "#9c179e"
             ],
             [
              0.4444444444444444,
              "#bd3786"
             ],
             [
              0.5555555555555556,
              "#d8576b"
             ],
             [
              0.6666666666666666,
              "#ed7953"
             ],
             [
              0.7777777777777778,
              "#fb9f3a"
             ],
             [
              0.8888888888888888,
              "#fdca26"
             ],
             [
              1,
              "#f0f921"
             ]
            ],
            "type": "contour"
           }
          ],
          "contourcarpet": [
           {
            "colorbar": {
             "outlinewidth": 0,
             "ticks": ""
            },
            "type": "contourcarpet"
           }
          ],
          "heatmap": [
           {
            "colorbar": {
             "outlinewidth": 0,
             "ticks": ""
            },
            "colorscale": [
             [
              0,
              "#0d0887"
             ],
             [
              0.1111111111111111,
              "#46039f"
             ],
             [
              0.2222222222222222,
              "#7201a8"
             ],
             [
              0.3333333333333333,
              "#9c179e"
             ],
             [
              0.4444444444444444,
              "#bd3786"
             ],
             [
              0.5555555555555556,
              "#d8576b"
             ],
             [
              0.6666666666666666,
              "#ed7953"
             ],
             [
              0.7777777777777778,
              "#fb9f3a"
             ],
             [
              0.8888888888888888,
              "#fdca26"
             ],
             [
              1,
              "#f0f921"
             ]
            ],
            "type": "heatmap"
           }
          ],
          "heatmapgl": [
           {
            "colorbar": {
             "outlinewidth": 0,
             "ticks": ""
            },
            "colorscale": [
             [
              0,
              "#0d0887"
             ],
             [
              0.1111111111111111,
              "#46039f"
             ],
             [
              0.2222222222222222,
              "#7201a8"
             ],
             [
              0.3333333333333333,
              "#9c179e"
             ],
             [
              0.4444444444444444,
              "#bd3786"
             ],
             [
              0.5555555555555556,
              "#d8576b"
             ],
             [
              0.6666666666666666,
              "#ed7953"
             ],
             [
              0.7777777777777778,
              "#fb9f3a"
             ],
             [
              0.8888888888888888,
              "#fdca26"
             ],
             [
              1,
              "#f0f921"
             ]
            ],
            "type": "heatmapgl"
           }
          ],
          "histogram": [
           {
            "marker": {
             "pattern": {
              "fillmode": "overlay",
              "size": 10,
              "solidity": 0.2
             }
            },
            "type": "histogram"
           }
          ],
          "histogram2d": [
           {
            "colorbar": {
             "outlinewidth": 0,
             "ticks": ""
            },
            "colorscale": [
             [
              0,
              "#0d0887"
             ],
             [
              0.1111111111111111,
              "#46039f"
             ],
             [
              0.2222222222222222,
              "#7201a8"
             ],
             [
              0.3333333333333333,
              "#9c179e"
             ],
             [
              0.4444444444444444,
              "#bd3786"
             ],
             [
              0.5555555555555556,
              "#d8576b"
             ],
             [
              0.6666666666666666,
              "#ed7953"
             ],
             [
              0.7777777777777778,
              "#fb9f3a"
             ],
             [
              0.8888888888888888,
              "#fdca26"
             ],
             [
              1,
              "#f0f921"
             ]
            ],
            "type": "histogram2d"
           }
          ],
          "histogram2dcontour": [
           {
            "colorbar": {
             "outlinewidth": 0,
             "ticks": ""
            },
            "colorscale": [
             [
              0,
              "#0d0887"
             ],
             [
              0.1111111111111111,
              "#46039f"
             ],
             [
              0.2222222222222222,
              "#7201a8"
             ],
             [
              0.3333333333333333,
              "#9c179e"
             ],
             [
              0.4444444444444444,
              "#bd3786"
             ],
             [
              0.5555555555555556,
              "#d8576b"
             ],
             [
              0.6666666666666666,
              "#ed7953"
             ],
             [
              0.7777777777777778,
              "#fb9f3a"
             ],
             [
              0.8888888888888888,
              "#fdca26"
             ],
             [
              1,
              "#f0f921"
             ]
            ],
            "type": "histogram2dcontour"
           }
          ],
          "mesh3d": [
           {
            "colorbar": {
             "outlinewidth": 0,
             "ticks": ""
            },
            "type": "mesh3d"
           }
          ],
          "parcoords": [
           {
            "line": {
             "colorbar": {
              "outlinewidth": 0,
              "ticks": ""
             }
            },
            "type": "parcoords"
           }
          ],
          "pie": [
           {
            "automargin": true,
            "type": "pie"
           }
          ],
          "scatter": [
           {
            "fillpattern": {
             "fillmode": "overlay",
             "size": 10,
             "solidity": 0.2
            },
            "type": "scatter"
           }
          ],
          "scatter3d": [
           {
            "line": {
             "colorbar": {
              "outlinewidth": 0,
              "ticks": ""
             }
            },
            "marker": {
             "colorbar": {
              "outlinewidth": 0,
              "ticks": ""
             }
            },
            "type": "scatter3d"
           }
          ],
          "scattercarpet": [
           {
            "marker": {
             "colorbar": {
              "outlinewidth": 0,
              "ticks": ""
             }
            },
            "type": "scattercarpet"
           }
          ],
          "scattergeo": [
           {
            "marker": {
             "colorbar": {
              "outlinewidth": 0,
              "ticks": ""
             }
            },
            "type": "scattergeo"
           }
          ],
          "scattergl": [
           {
            "marker": {
             "colorbar": {
              "outlinewidth": 0,
              "ticks": ""
             }
            },
            "type": "scattergl"
           }
          ],
          "scattermapbox": [
           {
            "marker": {
             "colorbar": {
              "outlinewidth": 0,
              "ticks": ""
             }
            },
            "type": "scattermapbox"
           }
          ],
          "scatterpolar": [
           {
            "marker": {
             "colorbar": {
              "outlinewidth": 0,
              "ticks": ""
             }
            },
            "type": "scatterpolar"
           }
          ],
          "scatterpolargl": [
           {
            "marker": {
             "colorbar": {
              "outlinewidth": 0,
              "ticks": ""
             }
            },
            "type": "scatterpolargl"
           }
          ],
          "scatterternary": [
           {
            "marker": {
             "colorbar": {
              "outlinewidth": 0,
              "ticks": ""
             }
            },
            "type": "scatterternary"
           }
          ],
          "surface": [
           {
            "colorbar": {
             "outlinewidth": 0,
             "ticks": ""
            },
            "colorscale": [
             [
              0,
              "#0d0887"
             ],
             [
              0.1111111111111111,
              "#46039f"
             ],
             [
              0.2222222222222222,
              "#7201a8"
             ],
             [
              0.3333333333333333,
              "#9c179e"
             ],
             [
              0.4444444444444444,
              "#bd3786"
             ],
             [
              0.5555555555555556,
              "#d8576b"
             ],
             [
              0.6666666666666666,
              "#ed7953"
             ],
             [
              0.7777777777777778,
              "#fb9f3a"
             ],
             [
              0.8888888888888888,
              "#fdca26"
             ],
             [
              1,
              "#f0f921"
             ]
            ],
            "type": "surface"
           }
          ],
          "table": [
           {
            "cells": {
             "fill": {
              "color": "#EBF0F8"
             },
             "line": {
              "color": "white"
             }
            },
            "header": {
             "fill": {
              "color": "#C8D4E3"
             },
             "line": {
              "color": "white"
             }
            },
            "type": "table"
           }
          ]
         },
         "layout": {
          "annotationdefaults": {
           "arrowcolor": "#2a3f5f",
           "arrowhead": 0,
           "arrowwidth": 1
          },
          "autotypenumbers": "strict",
          "coloraxis": {
           "colorbar": {
            "outlinewidth": 0,
            "ticks": ""
           }
          },
          "colorscale": {
           "diverging": [
            [
             0,
             "#8e0152"
            ],
            [
             0.1,
             "#c51b7d"
            ],
            [
             0.2,
             "#de77ae"
            ],
            [
             0.3,
             "#f1b6da"
            ],
            [
             0.4,
             "#fde0ef"
            ],
            [
             0.5,
             "#f7f7f7"
            ],
            [
             0.6,
             "#e6f5d0"
            ],
            [
             0.7,
             "#b8e186"
            ],
            [
             0.8,
             "#7fbc41"
            ],
            [
             0.9,
             "#4d9221"
            ],
            [
             1,
             "#276419"
            ]
           ],
           "sequential": [
            [
             0,
             "#0d0887"
            ],
            [
             0.1111111111111111,
             "#46039f"
            ],
            [
             0.2222222222222222,
             "#7201a8"
            ],
            [
             0.3333333333333333,
             "#9c179e"
            ],
            [
             0.4444444444444444,
             "#bd3786"
            ],
            [
             0.5555555555555556,
             "#d8576b"
            ],
            [
             0.6666666666666666,
             "#ed7953"
            ],
            [
             0.7777777777777778,
             "#fb9f3a"
            ],
            [
             0.8888888888888888,
             "#fdca26"
            ],
            [
             1,
             "#f0f921"
            ]
           ],
           "sequentialminus": [
            [
             0,
             "#0d0887"
            ],
            [
             0.1111111111111111,
             "#46039f"
            ],
            [
             0.2222222222222222,
             "#7201a8"
            ],
            [
             0.3333333333333333,
             "#9c179e"
            ],
            [
             0.4444444444444444,
             "#bd3786"
            ],
            [
             0.5555555555555556,
             "#d8576b"
            ],
            [
             0.6666666666666666,
             "#ed7953"
            ],
            [
             0.7777777777777778,
             "#fb9f3a"
            ],
            [
             0.8888888888888888,
             "#fdca26"
            ],
            [
             1,
             "#f0f921"
            ]
           ]
          },
          "colorway": [
           "#636efa",
           "#EF553B",
           "#00cc96",
           "#ab63fa",
           "#FFA15A",
           "#19d3f3",
           "#FF6692",
           "#B6E880",
           "#FF97FF",
           "#FECB52"
          ],
          "font": {
           "color": "#2a3f5f"
          },
          "geo": {
           "bgcolor": "white",
           "lakecolor": "white",
           "landcolor": "#E5ECF6",
           "showlakes": true,
           "showland": true,
           "subunitcolor": "white"
          },
          "hoverlabel": {
           "align": "left"
          },
          "hovermode": "closest",
          "mapbox": {
           "style": "light"
          },
          "paper_bgcolor": "white",
          "plot_bgcolor": "#E5ECF6",
          "polar": {
           "angularaxis": {
            "gridcolor": "white",
            "linecolor": "white",
            "ticks": ""
           },
           "bgcolor": "#E5ECF6",
           "radialaxis": {
            "gridcolor": "white",
            "linecolor": "white",
            "ticks": ""
           }
          },
          "scene": {
           "xaxis": {
            "backgroundcolor": "#E5ECF6",
            "gridcolor": "white",
            "gridwidth": 2,
            "linecolor": "white",
            "showbackground": true,
            "ticks": "",
            "zerolinecolor": "white"
           },
           "yaxis": {
            "backgroundcolor": "#E5ECF6",
            "gridcolor": "white",
            "gridwidth": 2,
            "linecolor": "white",
            "showbackground": true,
            "ticks": "",
            "zerolinecolor": "white"
           },
           "zaxis": {
            "backgroundcolor": "#E5ECF6",
            "gridcolor": "white",
            "gridwidth": 2,
            "linecolor": "white",
            "showbackground": true,
            "ticks": "",
            "zerolinecolor": "white"
           }
          },
          "shapedefaults": {
           "line": {
            "color": "#2a3f5f"
           }
          },
          "ternary": {
           "aaxis": {
            "gridcolor": "white",
            "linecolor": "white",
            "ticks": ""
           },
           "baxis": {
            "gridcolor": "white",
            "linecolor": "white",
            "ticks": ""
           },
           "bgcolor": "#E5ECF6",
           "caxis": {
            "gridcolor": "white",
            "linecolor": "white",
            "ticks": ""
           }
          },
          "title": {
           "x": 0.05
          },
          "xaxis": {
           "automargin": true,
           "gridcolor": "white",
           "linecolor": "white",
           "ticks": "",
           "title": {
            "standoff": 15
           },
           "zerolinecolor": "white",
           "zerolinewidth": 2
          },
          "yaxis": {
           "automargin": true,
           "gridcolor": "white",
           "linecolor": "white",
           "ticks": "",
           "title": {
            "standoff": 15
           },
           "zerolinecolor": "white",
           "zerolinewidth": 2
          }
         }
        },
        "title": {
         "text": "Índice Médio Satisfação Remuneração por Instituição Financeira"
        },
        "xaxis": {
         "anchor": "y",
         "domain": [
          0,
          1
         ],
         "title": {
          "text": "Instituições Financeiras"
         }
        },
        "yaxis": {
         "anchor": "x",
         "domain": [
          0,
          1
         ],
         "title": {
          "text": "Índice Satisfação Remuneração"
         }
        }
       }
      }
     },
     "metadata": {},
     "output_type": "display_data"
    }
   ],
   "source": [
    "df = relatorio.sort_values(\"avg_ind_remu_bene_instituicao\",ascending=False)\n",
    "px.bar(df,\n",
    "       x=list(df[\"nom_instituicao\"]),\n",
    "       y=list(df[\"avg_ind_remu_bene_instituicao\"]),\n",
    "       labels={\"y\": \"Índice Satisfação Remuneração\",\n",
    "               \"x\": \"Instituições Financeiras\"},\n",
    "       title=\"Índice Médio Satisfação Remuneração por Instituição Financeira\")"
   ]
  }
 ],
 "metadata": {
  "kernelspec": {
   "display_name": "Python 3",
   "language": "python",
   "name": "python3"
  },
  "language_info": {
   "codemirror_mode": {
    "name": "ipython",
    "version": 3
   },
   "file_extension": ".py",
   "mimetype": "text/x-python",
   "name": "python",
   "nbconvert_exporter": "python",
   "pygments_lexer": "ipython3",
   "version": "3.10.12"
  },
  "orig_nbformat": 4
 },
 "nbformat": 4,
 "nbformat_minor": 2
}
